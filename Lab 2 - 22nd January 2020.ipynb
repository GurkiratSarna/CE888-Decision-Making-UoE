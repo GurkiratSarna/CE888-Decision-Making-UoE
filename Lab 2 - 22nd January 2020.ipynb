{
  "nbformat": 4,
  "nbformat_minor": 0,
  "metadata": {
    "colab": {
      "name": "Untitled0.ipynb",
      "provenance": [],
      "collapsed_sections": [],
      "authorship_tag": "ABX9TyNrDSrxEZlywu2AOvDaC048",
      "include_colab_link": true
    },
    "kernelspec": {
      "name": "python3",
      "display_name": "Python 3"
    }
  },
  "cells": [
    {
      "cell_type": "markdown",
      "metadata": {
        "id": "view-in-github",
        "colab_type": "text"
      },
      "source": [
        "<a href=\"https://colab.research.google.com/github/GurkiratSarna/CE888-Decision-Making-UoE/blob/master/Lab%202%20-%2022nd%20January%202020.ipynb\" target=\"_parent\"><img src=\"https://colab.research.google.com/assets/colab-badge.svg\" alt=\"Open In Colab\"/></a>"
      ]
    },
    {
      "cell_type": "code",
      "metadata": {
        "id": "45vlWIb8thi7",
        "colab_type": "code",
        "colab": {}
      },
      "source": [
        "import matplotlib\n",
        "import pandas as pd\n",
        "import numpy as np\n",
        "import seaborn as sns"
      ],
      "execution_count": 0,
      "outputs": []
    },
    {
      "cell_type": "code",
      "metadata": {
        "id": "3kkWrCgivHPI",
        "colab_type": "code",
        "colab": {}
      },
      "source": [
        "# Bootstraping"
      ],
      "execution_count": 0,
      "outputs": []
    },
    {
      "cell_type": "code",
      "metadata": {
        "id": "CbyMl__Yxmmu",
        "colab_type": "code",
        "colab": {
          "base_uri": "https://localhost:8080/",
          "height": 289
        },
        "outputId": "8f09b37c-e27b-45fa-bd7c-ef2d89cdd6d2"
      },
      "source": [
        "customer_df=pd.read_csv('https://raw.githubusercontent.com/albanda/CE888/master/lab2%20-%20bootstrap/customers.csv')\n",
        "print(customer_df)\n",
        "customer_data = customer_df.values.T[1]\n",
        "print(customer_data)"
      ],
      "execution_count": 7,
      "outputs": [
        {
          "output_type": "stream",
          "text": [
            "    Day   Millons of pounds in sales\n",
            "0     1                          2.0\n",
            "1     2                          8.0\n",
            "2     3                         20.0\n",
            "3     4                         13.0\n",
            "4     5                          5.0\n",
            "5     6                          9.0\n",
            "6     7                         10.0\n",
            "7     8                          8.0\n",
            "8     9                         22.0\n",
            "9    10                         10.0\n",
            "10   11                          2.0\n",
            "11   12                          4.0\n",
            "12   13                          7.0\n",
            "13   14                          9.0\n",
            "[ 2.  8. 20. 13.  5.  9. 10.  8. 22. 10.  2.  4.  7.  9.]\n"
          ],
          "name": "stdout"
        }
      ]
    },
    {
      "cell_type": "code",
      "metadata": {
        "id": "gyiMs6Q0zI_F",
        "colab_type": "code",
        "colab": {
          "base_uri": "https://localhost:8080/",
          "height": 34
        },
        "outputId": "5d792f31-c3a7-4a6a-f2e3-e0c60b3f1480"
      },
      "source": [
        "customer_data.shape"
      ],
      "execution_count": 4,
      "outputs": [
        {
          "output_type": "execute_result",
          "data": {
            "text/plain": [
              "(14,)"
            ]
          },
          "metadata": {
            "tags": []
          },
          "execution_count": 4
        }
      ]
    },
    {
      "cell_type": "code",
      "metadata": {
        "id": "L42EQasg0oNP",
        "colab_type": "code",
        "colab": {}
      },
      "source": [
        "# Checking the notes from the lecture, create here your own bootstrap function:\n",
        "# 1. Create an array of samples of shape (n_iterations, sample_size) - this creates a 2d array of num of rows different everytime, \n",
        "#    the number of rows is same as ith value transferred from from the for loop\n",
        "# 2. Calculate and save the mean of the array (this is \"data_mean\" that is returned by the function) - calculate the mean of the whole df\n",
        "# 3. In each iteration:\n",
        "# 3.1 Get the data corresponding to that iteration (new_samples[iteration, :])\n",
        "# 3.2 Calculate the mean of the iteration data and store it\n",
        "# (At this point you should have an array of n_iterations values) - these values are mean of each row in the 2d array\n",
        "# 4. Calculate the lower and upper bounds for a 95% CI (hint: check the percentile function on Numpy)\n",
        "# 5. Return data_mean, and the lower and upper bounds of your interval\n",
        "\n",
        "def boostrap_mean(sample, sample_size, n_iterations):\n",
        "  bstraplist=np.random.choice(sample,(n_iterations,sample_size),replace=True)\n",
        "  #print(bstraplist)\n",
        "  data_mean=np.mean(bstraplist)\n",
        "  mean_list=[]\n",
        "  for i in range(len(bstraplist)):\n",
        "    new_sample=bstraplist[i,:]\n",
        "    sample_mean=np.mean(new_sample)\n",
        "    mean_list.append(sample_mean)\n",
        "    #print(new_sample)\n",
        "    #print(sample_mean)\n",
        "  #print(mean_list)\n",
        "\n",
        "  #percentile function returns the scalar value. If you pass 2.5 then the value at 2.5th percent of the array. No need to sort.\n",
        "  #for 95% we need to remove 2.5% from below and top - hence give 2.5 for lowest and 97.5 for highest\n",
        "  lower=np.percentile(mean_list, 2.5)\n",
        "  upper=np.percentile(mean_list, 97.5)\n",
        "  #print(lower,\"\\t\",upper)\n",
        "  #print(data_mean)\n",
        "  #print(\"----\"*20)\n",
        "  return data_mean,lower,upper"
      ],
      "execution_count": 0,
      "outputs": []
    },
    {
      "cell_type": "code",
      "metadata": {
        "id": "9RhYs8rB18pT",
        "colab_type": "code",
        "outputId": "1abecc73-74f0-4135-c0f4-e160d333f3f0",
        "colab": {
          "base_uri": "https://localhost:8080/",
          "height": 386
        }
      },
      "source": [
        "# Call your bootstrap function and plot the results\n",
        "\n",
        "boots_cust1 = []\n",
        "for i in range(100, 100000, 1000):\n",
        "    boot = boostrap_mean(customer_data, customer_data.shape[0], i)\n",
        "    boots_cust1.append([i, boot[0], \"mean\"])\n",
        "    boots_cust1.append([i, boot[1], \"lower\"])\n",
        "    boots_cust1.append([i, boot[2], \"upper\"])\n",
        "\n",
        "df_boot = pd.DataFrame(boots_cust1, columns=['Boostrap Iterations', 'Mean', \"Value\"])\n",
        "sns_plot = sns.lmplot(df_boot.columns[0], df_boot.columns[1], data=df_boot, fit_reg=False, hue=\"Value\")\n",
        "\n",
        "sns_plot.axes[0, 0].set_ylim(0,)\n",
        "sns_plot.axes[0, 0].set_xlim(0, 100000)\n",
        "\n",
        "#sns_plot.savefig(\"bootstrap_confidence.png\", bbox_inches='tight')\n",
        "#sns_plot.savefig(\"bootstrap_confidence.pdf\", bbox_inches='tight')"
      ],
      "execution_count": 8,
      "outputs": [
        {
          "output_type": "execute_result",
          "data": {
            "text/plain": [
              "(0, 100000)"
            ]
          },
          "metadata": {
            "tags": []
          },
          "execution_count": 8
        },
        {
          "output_type": "display_data",
          "data": {
            "image/png": "[encoded data removed]",
            "text/plain": [
              "<Figure size 425.125x360 with 1 Axes>"
            ]
          },
          "metadata": {
            "tags": []
          }
        }
      ]
    },
    {
      "cell_type": "code",
      "metadata": {
        "id": "P7ajZbaxEwlX",
        "colab_type": "code",
        "colab": {}
      },
      "source": [
        "def boostrap_mean_ci(sample, sample_size, iterations, ci):\n",
        "    bstraplist=np.random.choice(sample,(iterations,sample_size),replace=True)\n",
        "    data_mean=np.mean(bstraplist)\n",
        "    mean_list=[]\n",
        "    for i in range(len(bstraplist)):\n",
        "        new_sample=bstraplist[i,:]\n",
        "        sample_mean=np.mean(new_sample)\n",
        "        mean_list.append(sample_mean)\n",
        "    lower=np.percentile(mean_list, (100-ci)/2)\n",
        "    upper=np.percentile(mean_list, ci+(100-ci)/2)\n",
        "    return data_mean, lower, upper"
      ],
      "execution_count": 0,
      "outputs": []
    },
    {
      "cell_type": "code",
      "metadata": {
        "id": "otQQ69rBLScD",
        "colab_type": "code",
        "colab": {
          "base_uri": "https://localhost:8080/",
          "height": 369
        },
        "outputId": "931ac788-1345-4950-800c-29e319448355"
      },
      "source": [
        "#80% CI\n",
        "boots_cust2 = []\n",
        "for i in range(100, 100000, 1000):\n",
        "    boot = boostrap_mean_ci(customer_data, customer_data.shape[0], i, 80)\n",
        "    boots_cust2.append([i, boot[0], \"mean\"])\n",
        "    boots_cust2.append([i, boot[1], \"lower\"])\n",
        "    boots_cust2.append([i, boot[2], \"upper\"])\n",
        "\n",
        "df_boot = pd.DataFrame(boots_cust2, columns=['Boostrap Iterations', 'Mean', \"Value\"])\n",
        "sns_plot = sns.lmplot(df_boot.columns[0], df_boot.columns[1], data=df_boot, fit_reg=False, hue=\"Value\")\n",
        "\n",
        "sns_plot.axes[0, 0].set_ylim(0,)\n",
        "sns_plot.axes[0, 0].set_xlim(0, 100000)\n",
        "\n",
        "sns_plot.savefig(\"bootstrap_confidence_80.png\", bbox_inches='tight')\n",
        "sns_plot.savefig(\"bootstrap_confidence_80.pdf\", bbox_inches='tight')"
      ],
      "execution_count": 10,
      "outputs": [
        {
          "output_type": "display_data",
          "data": {
            "image/png": "[encoded data removed]",
            "text/plain": [
              "<Figure size 425.125x360 with 1 Axes>"
            ]
          },
          "metadata": {
            "tags": []
          }
        }
      ]
    },
    {
      "cell_type": "code",
      "metadata": {
        "id": "bikLrRuldx9i",
        "colab_type": "code",
        "colab": {
          "base_uri": "https://localhost:8080/",
          "height": 369
        },
        "outputId": "6b57b808-5b8e-408f-b96f-0b178dafd806"
      },
      "source": [
        "#90% CI\n",
        "boots_cust3 = []\n",
        "for i in range(100, 100000, 1000):\n",
        "    boot = boostrap_mean_ci(customer_data, customer_data.shape[0], i, 90)\n",
        "    boots_cust3.append([i, boot[0], \"mean\"])\n",
        "    boots_cust3.append([i, boot[1], \"lower\"])\n",
        "    boots_cust3.append([i, boot[2], \"upper\"])\n",
        "\n",
        "df_boot = pd.DataFrame(boots_cust3, columns=['Boostrap Iterations', 'Mean', \"Value\"])\n",
        "sns_plot = sns.lmplot(df_boot.columns[0], df_boot.columns[1], data=df_boot, fit_reg=False, hue=\"Value\")\n",
        "\n",
        "sns_plot.axes[0, 0].set_ylim(0,)\n",
        "sns_plot.axes[0, 0].set_xlim(0, 100000)\n",
        "\n",
        "sns_plot.savefig(\"bootstrap_confidence_90.png\", bbox_inches='tight')\n",
        "sns_plot.savefig(\"bootstrap_confidence_90.pdf\", bbox_inches='tight')"
      ],
      "execution_count": 11,
      "outputs": [
        {
          "output_type": "display_data",
          "data": {
            "image/png": "[encoded data removed]",
            "text/plain": [
              "<Figure size 425.125x360 with 1 Axes>"
            ]
          },
          "metadata": {
            "tags": []
          }
        }
      ]
    },
    {
      "cell_type": "code",
      "metadata": {
        "id": "DmzrJ_ToPap9",
        "colab_type": "code",
        "colab": {}
      },
      "source": [
        "vehicles_df=pd.read_csv('https://raw.githubusercontent.com/albanda/CE888/master/lab2%20-%20bootstrap/vehicles.csv')"
      ],
      "execution_count": 0,
      "outputs": []
    },
    {
      "cell_type": "code",
      "metadata": {
        "id": "rgJpOH5IQ0jM",
        "colab_type": "code",
        "colab": {
          "base_uri": "https://localhost:8080/",
          "height": 255
        },
        "outputId": "d61295b8-9563-4c74-8c42-bfc4c62d40ec"
      },
      "source": [
        "print(vehicles_df)"
      ],
      "execution_count": 23,
      "outputs": [
        {
          "output_type": "stream",
          "text": [
            "     Current fleet  New Fleet\n",
            "0               18       24.0\n",
            "1               15       27.0\n",
            "2               18       27.0\n",
            "3               16       25.0\n",
            "4               17       31.0\n",
            "..             ...        ...\n",
            "244             27        NaN\n",
            "245             27        NaN\n",
            "246             32        NaN\n",
            "247             28        NaN\n",
            "248             31        NaN\n",
            "\n",
            "[249 rows x 2 columns]\n"
          ],
          "name": "stdout"
        }
      ]
    },
    {
      "cell_type": "code",
      "metadata": {
        "id": "qfMnVmHxQ8l3",
        "colab_type": "code",
        "colab": {
          "base_uri": "https://localhost:8080/",
          "height": 386
        },
        "outputId": "5d13cfb4-5dbf-4f79-a3c9-4d0fce80953a"
      },
      "source": [
        "sns.lmplot(vehicles_df.columns[0], vehicles_df.columns[1],data=vehicles_df, fit_reg=False)"
      ],
      "execution_count": 24,
      "outputs": [
        {
          "output_type": "execute_result",
          "data": {
            "text/plain": [
              "<seaborn.axisgrid.FacetGrid at 0x7f5883c6e358>"
            ]
          },
          "metadata": {
            "tags": []
          },
          "execution_count": 24
        },
        {
          "output_type": "display_data",
          "data": {
            "image/png": "[encoded data removed]",
            "text/plain": [
              "<Figure size 360x360 with 1 Axes>"
            ]
          },
          "metadata": {
            "tags": []
          }
        }
      ]
    },
    {
      "cell_type": "code",
      "metadata": {
        "id": "c44YdLPORK2n",
        "colab_type": "code",
        "colab": {
          "base_uri": "https://localhost:8080/",
          "height": 282
        },
        "outputId": "95bd8fd8-521c-4281-d92c-6b64bcf26973"
      },
      "source": [
        "datacol0=vehicles_df[vehicles_df.columns[0]].values\n",
        "sns.distplot(datacol0, bins=20, kde=False, rug=True)"
      ],
      "execution_count": 38,
      "outputs": [
        {
          "output_type": "execute_result",
          "data": {
            "text/plain": [
              "<matplotlib.axes._subplots.AxesSubplot at 0x7f58820f39e8>"
            ]
          },
          "metadata": {
            "tags": []
          },
          "execution_count": 38
        },
        {
          "output_type": "display_data",
          "data": {
            "image/png": "[encoded data removed]",
            "text/plain": [
              "<Figure size 432x288 with 1 Axes>"
            ]
          },
          "metadata": {
            "tags": []
          }
        }
      ]
    },
    {
      "cell_type": "code",
      "metadata": {
        "id": "Wh1hieXOR-BL",
        "colab_type": "code",
        "colab": {
          "base_uri": "https://localhost:8080/",
          "height": 350
        },
        "outputId": "7799288a-ac7c-4b15-8002-cce605234b93"
      },
      "source": [
        "datacol1=vehicles_df[vehicles_df.columns[1]].values\n",
        "sns.distplot(datacol1, bins=20, kde=False, rug=True)"
      ],
      "execution_count": 39,
      "outputs": [
        {
          "output_type": "stream",
          "text": [
            "/usr/local/lib/python3.6/dist-packages/numpy/lib/histograms.py:839: RuntimeWarning: invalid value encountered in greater_equal\n",
            "  keep = (tmp_a >= first_edge)\n",
            "/usr/local/lib/python3.6/dist-packages/numpy/lib/histograms.py:840: RuntimeWarning: invalid value encountered in less_equal\n",
            "  keep &= (tmp_a <= last_edge)\n"
          ],
          "name": "stderr"
        },
        {
          "output_type": "execute_result",
          "data": {
            "text/plain": [
              "<matplotlib.axes._subplots.AxesSubplot at 0x7f58820f34a8>"
            ]
          },
          "metadata": {
            "tags": []
          },
          "execution_count": 39
        },
        {
          "output_type": "display_data",
          "data": {
            "image/png": "[encoded data removed]",
            "text/plain": [
              "<Figure size 432x288 with 1 Axes>"
            ]
          },
          "metadata": {
            "tags": []
          }
        }
      ]
    },
    {
      "cell_type": "code",
      "metadata": {
        "id": "AP1dO0WbUCQA",
        "colab_type": "code",
        "colab": {
          "base_uri": "https://localhost:8080/",
          "height": 68
        },
        "outputId": "e51e4a27-5d61-4aca-da19-ae78cb8b3bf2"
      },
      "source": [
        "#Calculate the mean of both samples.\n",
        "x=vehicles_df[~np.isnan(vehicles_df)]\n",
        "print(np.mean(x))\n"
      ],
      "execution_count": 36,
      "outputs": [
        {
          "output_type": "stream",
          "text": [
            "Current fleet    20.144578\n",
            "New Fleet        30.481013\n",
            "dtype: float64\n"
          ],
          "name": "stdout"
        }
      ]
    },
    {
      "cell_type": "code",
      "metadata": {
        "id": "hsURJg6OVX4L",
        "colab_type": "code",
        "colab": {
          "base_uri": "https://localhost:8080/",
          "height": 85
        },
        "outputId": "71c5a48a-93d4-4e4e-918f-407a7e83f7cb"
      },
      "source": [
        "boots = []\n",
        "#for i in range(100, 100000, 1000):\n",
        "boot = boostrap_mean_ci(datacol0, datacol0.shape[0], i,80)\n",
        "boots.append([i, boot[0], \"mean\"])\n",
        "boots.append([i, boot[1], \"lower\"])\n",
        "boots.append([i, boot[2], \"upper\"])\n",
        "\n",
        "df_boot = pd.DataFrame(boots, columns=['Boostrap Iterations', 'Mean', \"Value\"])\n",
        "print(df_boot)\n",
        "#sns_plot = sns.lmplot(df_boot.columns[0], df_boot.columns[1], data=df_boot, fit_reg=False, hue=\"Value\")\n",
        "\n",
        "#sns_plot.axes[0, 0].set_ylim(0,)\n",
        "#sns_plot.axes[0, 0].set_xlim(0, 100000)\n",
        "\n",
        "#sns_plot.savefig(\"bootstrap_confidence.png\", bbox_inches='tight')\n",
        "#sns_plot.savefig(\"bootstrap_confidence.pdf\", bbox_inches='tight')"
      ],
      "execution_count": 45,
      "outputs": [
        {
          "output_type": "stream",
          "text": [
            "   Boostrap Iterations       Mean  Value\n",
            "0                99100  20.144689   mean\n",
            "1                99100  19.626506  lower\n",
            "2                99100  20.666667  upper\n"
          ],
          "name": "stdout"
        }
      ]
    },
    {
      "cell_type": "code",
      "metadata": {
        "id": "8_C2E6amWqOB",
        "colab_type": "code",
        "colab": {
          "base_uri": "https://localhost:8080/",
          "height": 170
        },
        "outputId": "7603bb81-37f7-465f-b851-a8ee620df4f3"
      },
      "source": [
        "\n",
        "datacol1_nonan = datacol1[np.logical_not(np.isnan(datacol1))]\n",
        "print(datacol1_nonan)\n",
        "\n",
        "boots = []\n",
        "#for i in range(100, 100000, 1000):\n",
        "boot = boostrap_mean(datacol1_nonan, datacol1_nonan.shape[0], i)\n",
        "boots.append([i, boot[0], \"mean\"])\n",
        "boots.append([i, boot[1], \"lower\"])\n",
        "boots.append([i, boot[2], \"upper\"])\n",
        "\n",
        "df_boot = pd.DataFrame(boots, columns=['Boostrap Iterations', 'Mean', \"Value\"])\n",
        "print(df_boot)"
      ],
      "execution_count": 49,
      "outputs": [
        {
          "output_type": "stream",
          "text": [
            "[24. 27. 27. 25. 31. 35. 24. 19. 28. 23. 27. 20. 22. 18. 20. 31. 32. 31.\n",
            " 32. 24. 26. 29. 24. 24. 33. 33. 32. 28. 19. 32. 34. 26. 30. 22. 22. 33.\n",
            " 39. 36. 28. 27. 21. 24. 30. 34. 32. 38. 37. 30. 31. 37. 32. 47. 41. 45.\n",
            " 34. 33. 24. 32. 39. 35. 32. 37. 38. 34. 34. 32. 33. 32. 25. 24. 37. 31.\n",
            " 36. 36. 34. 38. 32. 38. 32.]\n",
            "   Boostrap Iterations       Mean  Value\n",
            "0                99100  30.481636   mean\n",
            "1                99100  29.139241  lower\n",
            "2                99100  31.822785  upper\n"
          ],
          "name": "stdout"
        }
      ]
    },
    {
      "cell_type": "code",
      "metadata": {
        "id": "ykW-JhWYalYB",
        "colab_type": "code",
        "colab": {
          "base_uri": "https://localhost:8080/",
          "height": 34
        },
        "outputId": "0f7404a0-059d-4b59-8079-9cd055423cab"
      },
      "source": [
        "print(type(datacol1))"
      ],
      "execution_count": 47,
      "outputs": [
        {
          "output_type": "stream",
          "text": [
            "<class 'numpy.ndarray'>\n"
          ],
          "name": "stdout"
        }
      ]
    },
    {
      "cell_type": "code",
      "metadata": {
        "id": "Ihc9WPhyZBdM",
        "colab_type": "code",
        "colab": {
          "base_uri": "https://localhost:8080/",
          "height": 391
        },
        "outputId": "df5021ac-720d-4448-e0cf-fa56a34aa997"
      },
      "source": [
        "#Permutation Test\n",
        "print(len(datacol0))\n",
        "print(len(datacol1_nonan))\n",
        "concat = np.concatenate((datacol0,datacol1_nonan))\n",
        "print(concat)\n",
        "print(len(concat))"
      ],
      "execution_count": 59,
      "outputs": [
        {
          "output_type": "stream",
          "text": [
            "249\n",
            "79\n",
            "[18. 15. 18. 16. 17. 15. 14. 14. 14. 15. 15. 14. 15. 14. 22. 18. 21. 21.\n",
            " 10. 10. 11.  9. 28. 25. 19. 16. 17. 19. 18. 14. 14. 14. 14. 12. 13. 13.\n",
            " 18. 22. 19. 18. 23. 26. 25. 20. 21. 13. 14. 15. 14. 17. 11. 13. 12. 13.\n",
            " 15. 13. 13. 14. 22. 28. 13. 14. 13. 14. 15. 12. 13. 13. 14. 13. 12. 13.\n",
            " 18. 16. 18. 18. 23. 11. 12. 13. 12. 18. 21. 19. 21. 15. 16. 15. 11. 20.\n",
            " 21. 19. 15. 26. 25. 16. 16. 18. 16. 13. 14. 14. 14. 28. 19. 18. 15. 15.\n",
            " 16. 15. 16. 14. 17. 16. 15. 18. 21. 20. 13. 23. 20. 23. 18. 19. 25. 26.\n",
            " 18. 16. 16. 15. 22. 22. 24. 23. 29. 25. 20. 18. 19. 18. 27. 13. 17. 13.\n",
            " 13. 13. 30. 26. 18. 17. 16. 15. 18. 21. 19. 19. 16. 16. 16. 16. 25. 26.\n",
            " 31. 34. 36. 20. 19. 20. 19. 21. 20. 25. 21. 19. 21. 21. 19. 18. 19. 18.\n",
            " 18. 18. 30. 31. 23. 24. 22. 20. 22. 20. 21. 17. 18. 17. 18. 17. 16. 19.\n",
            " 19. 36. 27. 23. 24. 34. 35. 28. 29. 27. 34. 32. 28. 26. 24. 19. 28. 24.\n",
            " 27. 27. 26. 24. 30. 39. 35. 34. 30. 22. 27. 20. 18. 28. 27. 34. 31. 29.\n",
            " 27. 24. 23. 38. 36. 25. 38. 26. 22. 36. 27. 27. 32. 28. 31. 24. 27. 27.\n",
            " 25. 31. 35. 24. 19. 28. 23. 27. 20. 22. 18. 20. 31. 32. 31. 32. 24. 26.\n",
            " 29. 24. 24. 33. 33. 32. 28. 19. 32. 34. 26. 30. 22. 22. 33. 39. 36. 28.\n",
            " 27. 21. 24. 30. 34. 32. 38. 37. 30. 31. 37. 32. 47. 41. 45. 34. 33. 24.\n",
            " 32. 39. 35. 32. 37. 38. 34. 34. 32. 33. 32. 25. 24. 37. 31. 36. 36. 34.\n",
            " 38. 32. 38. 32.]\n",
            "328\n"
          ],
          "name": "stdout"
        }
      ]
    },
    {
      "cell_type": "code",
      "metadata": {
        "id": "s6d50vkdc2dW",
        "colab_type": "code",
        "colab": {}
      },
      "source": [
        "perm = np.random.permutation(concat)"
      ],
      "execution_count": 0,
      "outputs": []
    },
    {
      "cell_type": "code",
      "metadata": {
        "id": "4fTgvaI6fBv9",
        "colab_type": "code",
        "colab": {
          "base_uri": "https://localhost:8080/",
          "height": 357
        },
        "outputId": "232bf513-5144-4a11-d3b0-cece2309535d"
      },
      "source": [
        "print(perm)\n",
        "print(len(perm))"
      ],
      "execution_count": 62,
      "outputs": [
        {
          "output_type": "stream",
          "text": [
            "[27. 20. 18. 34. 28. 13. 30. 32. 16. 16. 25. 19. 12. 36. 27. 31. 15. 20.\n",
            " 36. 13. 19. 23. 19. 31. 27. 38. 26. 13. 27. 22. 25. 45. 18. 12. 35. 34.\n",
            " 17. 14. 28. 14. 39. 22. 33. 13. 16. 14. 22. 16. 26. 15. 32. 24. 31. 13.\n",
            " 13. 13. 32. 21. 14. 13. 13. 18. 38. 16. 28. 10. 32. 31. 36. 28. 20. 27.\n",
            " 17. 14. 18. 37. 22. 25. 18. 24. 19. 14. 25. 28. 24. 30. 34. 24. 38. 27.\n",
            " 24. 27. 15. 18. 14. 32. 19. 12. 13. 16. 18. 26. 17. 38. 39. 19. 32. 18.\n",
            " 26. 23. 22. 14. 20. 18. 17. 16. 25. 17. 13. 21. 28. 18. 16. 26. 14. 18.\n",
            " 25. 14. 20. 24. 21. 23. 27. 36. 19. 21. 34. 25. 36. 21. 24. 29. 16. 35.\n",
            " 21. 30.  9. 25. 20. 32. 23. 16. 14. 18. 21. 20. 28. 31. 12. 11. 34. 27.\n",
            " 26. 19. 18. 27. 13. 14. 16. 13. 17. 25. 35. 18. 22. 31. 34. 21. 13. 30.\n",
            " 17. 35. 13. 28. 33. 32. 20. 20. 13. 25. 24. 34. 29. 38. 33. 16. 27. 15.\n",
            " 18. 28. 18. 23. 15. 27. 19. 15. 19. 17. 20. 13. 22. 31. 22. 19. 14. 24.\n",
            " 21. 15. 13. 37. 16. 19. 32. 32. 15. 33. 36. 18. 37. 17. 30. 23. 29. 36.\n",
            " 24. 15. 19. 20. 26. 15. 19. 34. 21. 21. 18. 10. 15. 18. 26. 23. 15. 39.\n",
            " 21. 12. 26. 22. 16. 19. 18. 32. 29. 16. 28. 21. 11. 12. 31. 18. 23. 18.\n",
            " 18. 22. 24. 24. 18. 16. 19. 15. 22. 14. 15. 14. 38. 34. 19. 33. 15. 11.\n",
            " 16. 13. 15. 19. 24. 14. 11. 31. 20. 34. 30. 37. 47. 18. 32. 14. 32. 24.\n",
            " 41. 34. 27. 19. 15. 14. 14. 32. 26. 20. 24. 23. 16. 18. 21. 13. 19. 30.\n",
            " 28. 22. 18. 27.]\n",
            "328\n"
          ],
          "name": "stdout"
        }
      ]
    },
    {
      "cell_type": "code",
      "metadata": {
        "id": "uU4Fkmd8fGEt",
        "colab_type": "code",
        "colab": {
          "base_uri": "https://localhost:8080/",
          "height": 374
        },
        "outputId": "b0536e12-e38c-44d2-85bf-dd384f730b3e"
      },
      "source": [
        "pold=perm[:249]\n",
        "print(pold)\n",
        "print(len(pold))\n",
        "pnew=perm[249:]\n",
        "print(pnew)\n",
        "print(len(pnew))"
      ],
      "execution_count": 72,
      "outputs": [
        {
          "output_type": "stream",
          "text": [
            "[27. 20. 18. 34. 28. 13. 30. 32. 16. 16. 25. 19. 12. 36. 27. 31. 15. 20.\n",
            " 36. 13. 19. 23. 19. 31. 27. 38. 26. 13. 27. 22. 25. 45. 18. 12. 35. 34.\n",
            " 17. 14. 28. 14. 39. 22. 33. 13. 16. 14. 22. 16. 26. 15. 32. 24. 31. 13.\n",
            " 13. 13. 32. 21. 14. 13. 13. 18. 38. 16. 28. 10. 32. 31. 36. 28. 20. 27.\n",
            " 17. 14. 18. 37. 22. 25. 18. 24. 19. 14. 25. 28. 24. 30. 34. 24. 38. 27.\n",
            " 24. 27. 15. 18. 14. 32. 19. 12. 13. 16. 18. 26. 17. 38. 39. 19. 32. 18.\n",
            " 26. 23. 22. 14. 20. 18. 17. 16. 25. 17. 13. 21. 28. 18. 16. 26. 14. 18.\n",
            " 25. 14. 20. 24. 21. 23. 27. 36. 19. 21. 34. 25. 36. 21. 24. 29. 16. 35.\n",
            " 21. 30.  9. 25. 20. 32. 23. 16. 14. 18. 21. 20. 28. 31. 12. 11. 34. 27.\n",
            " 26. 19. 18. 27. 13. 14. 16. 13. 17. 25. 35. 18. 22. 31. 34. 21. 13. 30.\n",
            " 17. 35. 13. 28. 33. 32. 20. 20. 13. 25. 24. 34. 29. 38. 33. 16. 27. 15.\n",
            " 18. 28. 18. 23. 15. 27. 19. 15. 19. 17. 20. 13. 22. 31. 22. 19. 14. 24.\n",
            " 21. 15. 13. 37. 16. 19. 32. 32. 15. 33. 36. 18. 37. 17. 30. 23. 29. 36.\n",
            " 24. 15. 19. 20. 26. 15. 19. 34. 21. 21. 18. 10. 15. 18. 26.]\n",
            "249\n",
            "[23. 15. 39. 21. 12. 26. 22. 16. 19. 18. 32. 29. 16. 28. 21. 11. 12. 31.\n",
            " 18. 23. 18. 18. 22. 24. 24. 18. 16. 19. 15. 22. 14. 15. 14. 38. 34. 19.\n",
            " 33. 15. 11. 16. 13. 15. 19. 24. 14. 11. 31. 20. 34. 30. 37. 47. 18. 32.\n",
            " 14. 32. 24. 41. 34. 27. 19. 15. 14. 14. 32. 26. 20. 24. 23. 16. 18. 21.\n",
            " 13. 19. 30. 28. 22. 18. 27.]\n",
            "79\n"
          ],
          "name": "stdout"
        }
      ]
    },
    {
      "cell_type": "code",
      "metadata": {
        "id": "8O0-LIGRfuPD",
        "colab_type": "code",
        "colab": {
          "base_uri": "https://localhost:8080/",
          "height": 68
        },
        "outputId": "f10dc48b-9a44-40c7-e324-1c6d34d18c0e"
      },
      "source": [
        "poldmean=np.mean(pold)\n",
        "print(poldmean)\n",
        "pnewmean=np.mean(pnew)\n",
        "print(pnewmean)\n",
        "print(pnewmean-poldmean)"
      ],
      "execution_count": 75,
      "outputs": [
        {
          "output_type": "stream",
          "text": [
            "22.775100401606426\n",
            "22.189873417721518\n",
            "-0.5852269838849082\n"
          ],
          "name": "stdout"
        }
      ]
    },
    {
      "cell_type": "code",
      "metadata": {
        "id": "OY9UlFXzhKeV",
        "colab_type": "code",
        "colab": {
          "base_uri": "https://localhost:8080/",
          "height": 68
        },
        "outputId": "990e00e7-4643-486d-b6f7-ff1d6f7c4154"
      },
      "source": [
        "datacol0mean=np.mean(datacol0)\n",
        "print(datacol0mean)\n",
        "datacol1_nonanmean=np.mean(datacol1_nonan)\n",
        "print(datacol1_nonanmean)\n",
        "print(datacol1_nonanmean-datacol0mean)"
      ],
      "execution_count": 76,
      "outputs": [
        {
          "output_type": "stream",
          "text": [
            "20.14457831325301\n",
            "30.481012658227847\n",
            "10.336434344974837\n"
          ],
          "name": "stdout"
        }
      ]
    },
    {
      "cell_type": "code",
      "metadata": {
        "id": "iTHY0LQZiK2N",
        "colab_type": "code",
        "colab": {}
      },
      "source": [
        ""
      ],
      "execution_count": 0,
      "outputs": []
    }
  ]
}