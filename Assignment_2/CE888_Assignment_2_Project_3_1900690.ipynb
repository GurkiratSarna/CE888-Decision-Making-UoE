{
  "nbformat": 4,
  "nbformat_minor": 0,
  "metadata": {
    "colab": {
      "name": "Copy of Copy of CE888 - Project 3.ipynb",
      "provenance": [],
      "collapsed_sections": [],
      "toc_visible": true,
      "include_colab_link": true
    },
    "kernelspec": {
      "name": "python3",
      "display_name": "Python 3"
    }
  },
  "cells": [
    {
      "cell_type": "markdown",
      "metadata": {
        "id": "view-in-github",
        "colab_type": "text"
      },
      "source": [
        "<a href=\"https://colab.research.google.com/github/GurkiratSarna/CE888-Decision-Making-UoE/blob/master/Assignment_2/CE888_Assignment_2_Project_3_1900690.ipynb\" target=\"_parent\"><img src=\"https://colab.research.google.com/assets/colab-badge.svg\" alt=\"Open In Colab\"/></a>"
      ]
    },
    {
      "cell_type": "code",
      "metadata": {
        "id": "UB3yAuxfqgRe",
        "colab_type": "code",
        "colab": {}
      },
      "source": [
        "from sklearn import tree\n",
        "import numpy as np\n",
        "import matplotlib.pyplot as plt #plotting charts\n",
        "import pandas as pd #helps importing datasets\n",
        "from sklearn.model_selection import cross_val_score\n",
        "from sklearn.tree import DecisionTreeClassifier\n",
        "from sklearn.model_selection import train_test_split\n",
        "from sklearn.metrics import classification_report"
      ],
      "execution_count": 0,
      "outputs": []
    },
    {
      "cell_type": "code",
      "metadata": {
        "id": "lSbikEdknrF7",
        "colab_type": "code",
        "colab": {}
      },
      "source": [
        "def create_DT_classifier(Data_in):\n",
        "    #print('DT Classification function')\n",
        "    #print(Data_in)\n",
        "    train_set, test_set = train_test_split(Data_in, test_size = 0.3, random_state=42)\n",
        "\n",
        "    Data_train_x=train_set.iloc[:,0:9]\n",
        "    #Data_train_x.sort_index(inplace=True)\n",
        "    #print(Data_train_x)\n",
        "\n",
        "    Data_train_y=train_set.iloc[:,-1]\n",
        "    #Data_train_y.sort_index(inplace=True)\n",
        "    Data_train_y=Data_train_y.astype('int')\n",
        "    #print(Data_train_y)\n",
        "\n",
        "    Data_test_x=test_set.iloc[:,0:9]\n",
        "    #Data_test_x.sort_index(inplace=True)\n",
        "    #print(Data_test_x)\n",
        "\n",
        "    Data_test_y=test_set.iloc[:,-1]\n",
        "    #Data_test_y.sort_index(inplace=True)\n",
        "    Data_test_y=Data_test_y.astype('int')\n",
        "    #print(Data_test_y)\n",
        "\n",
        "    ########################\n",
        "    #Plotting DT for a max depth ranging from 0 to 39 (inclusive)\n",
        "    depth_range = list(range(1,40))\n",
        "    accuracy_list = []\n",
        "    for depth in depth_range:\n",
        "        classifier_DT1 = DecisionTreeClassifier(criterion='gini',max_depth=depth,random_state=42)\n",
        "        classifier_DT1.fit(Data_train_x, Data_train_y)\n",
        "        score = classifier_DT1.score(Data_test_x, Data_test_y)\n",
        "        accuracy_list.append(score)\n",
        "    plt.plot(depth_range,accuracy_list)\n",
        "    plt.show()\n",
        "    #print(max(accuracy_list))\n",
        "    #print(accuracy_list.index(max(accuracy_list)))\n",
        "    #########################\n",
        "    \n",
        "    #Pick the depth at which accuracy is maximum and train the classifier on that. This means the classifier will be updated every iteration.\n",
        "    depth_max_accuracy=(accuracy_list.index(max(accuracy_list)) + 1)\n",
        "    print('depth_max_accuracy : ',depth_max_accuracy)\n",
        "\n",
        "    #Train the classifier on the max accuracy in every iteration\n",
        "    classifier_DT = DecisionTreeClassifier(criterion='gini',max_depth=depth_max_accuracy,random_state=42)\n",
        "    classifier_DT.fit(Data_train_x, Data_train_y)\n",
        "    Pred_test_y=classifier_DT.predict(Data_test_x)\n",
        "    #print(classification_report(Data_test_y,Pred_test_y))\n",
        "\n",
        "    return classifier_DT"
      ],
      "execution_count": 0,
      "outputs": []
    },
    {
      "cell_type": "code",
      "metadata": {
        "id": "KTTExuwIPSQM",
        "colab_type": "code",
        "colab": {}
      },
      "source": [
        "# This is a very simple implementation of the UCT Monte Carlo Tree Search algorithm in Python 2.7.\n",
        "# The function UCT(rootstate, itermax, verbose = False) is towards the bottom of the code.\n",
        "# It aims to have the clearest and simplest possible code, and for the sake of clarity, the code\n",
        "# is orders of magnitude less efficient than it could be made, particularly by using a \n",
        "# state.GetRandomMove() or state.DoRandomRollout() function.\n",
        "# \n",
        "# Example GameState classes for Nim, OXO and Othello are included to give some idea of how you\n",
        "# can write your own GameState use UCT in your 2-player game. Change the game to be played in \n",
        "# the UCTPlayGame() function at the bottom of the code.\n",
        "# \n",
        "# Written by Peter Cowling, Ed Powley, Daniel Whitehouse (University of York, UK) September 2012.\n",
        "# \n",
        "# Licence is granted to freely use and distribute for any sensible/legal purpose so long as this comment\n",
        "# remains in any distributed code.\n",
        "# \n",
        "\n",
        "from math import *\n",
        "import random\n",
        "import pandas as pd #To convert the final dataset into a dataframe.\n",
        "\n",
        "class OXOState:\n",
        "    \"\"\" A state of the game, i.e. the game board.\n",
        "        Squares in the board are in this arrangement\n",
        "        012\n",
        "        345\n",
        "        678\n",
        "        where 0 = empty, 1 = player 1 (X), 2 = player 2 (O)\n",
        "    \"\"\"\n",
        "    def __init__(self):\n",
        "        self.playerJustMoved = 2 # At the root pretend the player just moved is 2 whereas player 1 has the first move.\n",
        "        self.board = [0,0,0,0,0,0,0,0,0] # 0 = empty, 1 = player 1, 2 = player 2. This is the initial board state - all positions are empty.\n",
        "        \n",
        "    def Clone(self):\n",
        "        \"\"\" Create a deep clone of this game state.\n",
        "        \"\"\"\n",
        "        st = OXOState()\n",
        "        st.playerJustMoved = self.playerJustMoved\n",
        "        st.board = self.board[:]\n",
        "        return st\n",
        "\n",
        "    def DoMove(self, move):\n",
        "        \"\"\" Update the state board by replacing 0 with the player playing the move at the position/move of the board.\n",
        "            Must update playerJustMoved.\n",
        "        \"\"\"\n",
        "        assert move >= 0 and move <= 8 and move == int(move) and self.board[move] == 0\n",
        "        self.playerJustMoved = 3 - self.playerJustMoved\n",
        "        self.board[move] = self.playerJustMoved\n",
        "        \n",
        "    def GetMoves(self):\n",
        "        \"\"\" Get all possible moves from this state. That is return all the positional values of the zroes in the state board.\n",
        "        \"\"\"\n",
        "        return [i for i in range(9) if self.board[i] == 0]\n",
        "    \n",
        "    def GetResult(self, playerjm):\n",
        "        \"\"\" Get the game result from the viewpoint of playerjm. \n",
        "        \"\"\"\n",
        "        #print(\"in getresult\")\n",
        "        for (x,y,z) in [(0,1,2),(3,4,5),(6,7,8),(0,3,6),(1,4,7),(2,5,8),(0,4,8),(2,4,6)]:\n",
        "            #Winning possibilities of the board\n",
        "            #print(\"In for loop\")\n",
        "            if self.board[x] == self.board[y] == self.board[z]: # check if values in all the 3 positions is of the same player\n",
        "                # check if the player that just moved is same as the value in the winning positions, if yes return 1 else 0 stating that the other player wins.\n",
        "                #print(\"In first if\")\n",
        "                if self.board[x] == playerjm: \n",
        "                    #print(\"return 1.0\")\n",
        "                    return 1.0\n",
        "                else:\n",
        "                    #print(\"return 0.0\")\n",
        "                    return 0.0\n",
        "        if self.GetMoves() == []:\n",
        "          #print(\"return 0.5\")\n",
        "          return 0.5 # draw\n",
        "        return False # Should not be possible to get here\n",
        "\n",
        "    def __repr__(self): # This is how the return value is defined for this class.\n",
        "        s= \"\"\n",
        "        for i in range(9): \n",
        "            s += \".XO\"[self.board[i]] # . for 0, X for 1 and O for 2 positional values\n",
        "            if i % 3 == 2: s += \"\\n\"\n",
        "        return s\n",
        "\n",
        "\n",
        "class Node:\n",
        "    \"\"\" A node in the game tree. Note : wins is always from the viewpoint of playerJustMoved.\n",
        "        Crashes if state not specified.\n",
        "    \"\"\"\n",
        "    def __init__(self, move = None, parent = None, state = None):\n",
        "        self.move = move # the move that got us to this node - \"None\" for the root node\n",
        "        #parentNode stores all the parents from the rootnode until the current node for backpropogation, during which it deletes until it is None.\n",
        "        self.parentNode = parent # \"None\" for the root node.\n",
        "        self.childNodes = []\n",
        "        self.wins = 0\n",
        "        self.visits = 0 #The number of itermax passed\n",
        "        self.untriedMoves = state.GetMoves() # future child nodes. The available positions to be played at any point of the game.\n",
        "        self.playerJustMoved = state.playerJustMoved # the only part of the state that the Node needs later\n",
        "        \n",
        "    def UCTSelectChild(self):\n",
        "        \"\"\" Use the UCB1 formula to select a child node. Often a constant UCTK is applied so we have\n",
        "            lambda c: c.wins/c.visits + UCTK * sqrt(2*log(self.visits)/c.visits to vary the amount of\n",
        "            exploration versus exploitation.\n",
        "        \"\"\"\n",
        "        #print(\"In UCTSelectChild : \", self.wins,\":\",\":\",self.visits)\n",
        "        s = sorted(self.childNodes, key = lambda c: c.wins/c.visits + sqrt(2*log(self.visits)/c.visits))[-1] #pick the highest\n",
        "        #print(\"KEY : \", key)\n",
        "        #print(\"S : \", s)\n",
        "        return s\n",
        "    \n",
        "    def AddChild(self, m, s):\n",
        "        \"\"\" Remove m from untriedMoves and add a new child node for this move.\n",
        "            Return the added child node.\n",
        "        \"\"\"\n",
        "        n = Node(move = m, parent = self, state = s)\n",
        "        #print(\"In Adchild, n : \", n)\n",
        "        self.untriedMoves.remove(m)\n",
        "        #print(\"In Adchild, n : \", n)\n",
        "        self.childNodes.append(n)\n",
        "        #print(\"In Adchild, n : \",n.move, n.parentNode, n.childNodes, n.wins, n.visits, n.untriedMoves, n.playerJustMoved)\n",
        "        return n\n",
        "    \n",
        "    def Update(self, result):\n",
        "        \"\"\" Update this node - one additional visit and result additional wins. result must be from the viewpoint of playerJustmoved.\n",
        "        \"\"\"\n",
        "        self.visits += 1\n",
        "        self.wins += result\n",
        "\n",
        "    def __repr__(self): # Added other variables to be retiurned to check the flow of the variable during testing small iterations.\n",
        "        return \"[M:\" + str(self.move) + \" W/V:\" + str(self.wins) + \"/\" + str(self.visits) + \" U:\" + str(self.untriedMoves) + \" PJM:\" + str(self.playerJustMoved) + \"]\"\n",
        "\n",
        "    def TreeToString(self, indent):\n",
        "        s = self.IndentString(indent) + str(self)\n",
        "        for c in self.childNodes:\n",
        "             s += c.TreeToString(indent+1)\n",
        "        return s\n",
        "\n",
        "    def IndentString(self,indent):\n",
        "        s = \"\\n\"\n",
        "        for i in range (1,indent+1):\n",
        "            s += \"| \"\n",
        "        return s\n",
        "\n",
        "    def ChildrenToString(self):\n",
        "        s = \"\"\n",
        "        for c in self.childNodes:\n",
        "             s += str(c) + \"\\n\"\n",
        "        return s\n",
        "\n",
        "def GetRandomMove(s,c_dt):\n",
        "    #We will pick a random value between 0.0 and 1.0. Considering there is a normal distribution between these values, \n",
        "    #if we get a value between 0.0 and 0.9 then the decision tree classifier decides the next move on the given state otherwise a random integer is returned.\n",
        "    rand_num=random.uniform(0.0, 1.0)\n",
        "    #print(\"In GetRandomMove, rand_num : \", rand_num)\n",
        "    #print('type(s) : ', type(s))\n",
        "    #print('s.GetMoves() : ', s.GetMoves())\n",
        "    #avail_moves=s.GetMoves()\n",
        "    #print(type(c_dt))\n",
        "    if rand_num <= 0.9:\n",
        "        next_move=c_dt.predict([s.board])\n",
        "        next_move=next_move[0]\n",
        "        if next_move not in s.GetMoves():\n",
        "            #print('Next move not in get moves')\n",
        "            #while next_move not in s.GetMoves(): This will not work because the classifier is not trained to pick any other value. So in this case we go to random selection of the next move.\n",
        "            #    next_move=c_dt.predict([s.board])\n",
        "            #    next_move=next_move[0]\n",
        "            next_move=random.choice(s.GetMoves())\n",
        "            #add the move taken at this state to a global list 'train_state'. These are unexepected states that will be combined with the complete game dataset to train the model in next iteration.\n",
        "            st_board=list(s.board) #so that it does not point to the same memory address\n",
        "            st_board.append(next_move) # append the random move at this state\n",
        "            train_state.append(st_board)            \n",
        "        #print(\"next_move by DT : \", next_move) \n",
        "    else:\n",
        "        next_move=random.choice(s.GetMoves())\n",
        "        #print(\"next_move not by DT : \", next_move)\n",
        "    #print('type(next_move) : ', type(next_move))\n",
        "    return next_move\n",
        "    \n",
        "def UCT(firstrun, classifier_dt, rootstate, itermax, verbose = False):\n",
        "    \"\"\" Conduct a UCT search for itermax iterations starting from rootstate.\n",
        "        Return the best move from the rootstate.\n",
        "        Assumes 2 alternating players (player 1 starts), with game results in the range [0.0, 1.0].\"\"\"\n",
        "\n",
        "    rootnode = Node(state = rootstate)\n",
        "\n",
        "    for i in range(itermax):\n",
        "        node = rootnode\n",
        "        state = rootstate.Clone()\n",
        "\n",
        "        # Select\n",
        "        while node.untriedMoves == [] and node.childNodes != []: # node is fully expanded and non-terminal\n",
        "            #print(\"In Select\")\n",
        "            node = node.UCTSelectChild()\n",
        "            state.DoMove(node.move)\n",
        "\n",
        "        # Expand\n",
        "        if node.untriedMoves != []:  # if we can expand (i.e. state/node is non-terminal)\n",
        "            #print(\"In Expand\")\n",
        "            m = random.choice(node.untriedMoves) # this m has to be picked by the DT train 90% times and 10% randomly.\n",
        "            #print(\"Random choice : \", m)\n",
        "            state.DoMove(m)\n",
        "            node = node.AddChild(m, state)  # add child and descend tree. This updates the parent node as well.\n",
        "            #print(\"node : \", node.move, node.parentNode, node.childNodes, node.wins, node.visits, node.untriedMoves, node.playerJustMoved)\n",
        "\n",
        "        # Rollout - this can often be made orders of magnitude quicker using a state.GetRandomMove() function.\n",
        "        # This loop will play a game within the random move picked up before and then return the best move for one chance of the actual game being played.\n",
        "        while state.GetMoves() != []: # while state is non-terminal\n",
        "            if firstrun==1:\n",
        "                #print(\"Rollout : In First run\")\n",
        "                r=random.choice(state.GetMoves())\n",
        "                #print(type(r))\n",
        "            else:\n",
        "                #print(\"Rollout : Not in First run\")\n",
        "                #print(state.board)\n",
        "                #print(type(state.board))\n",
        "                r=GetRandomMove(state, classifier_dt)\n",
        "            #print(\"In Rollout. r : \", r, state.board)\n",
        "            state.DoMove(r)\n",
        "        \n",
        "        #print(\"After Rollout state : \", state.playerJustMoved, state.board)\n",
        "        #print(\"After Rollout node : \", node.move, node.parentNode, node.childNodes, node.wins, node.visits, node.untriedMoves, node.playerJustMoved)\n",
        "        # Backpropagate\n",
        "        while node != None: # backpropagate from the expanded node and work back to the root node\n",
        "            gr=state.GetResult(node.playerJustMoved)\n",
        "            #print(\"In Backpropogate state.GetResult(node.playerJustMoved) : \", gr)\n",
        "            node.Update(gr) # state is terminal. Update node with result from POV of node.playerJustMoved\n",
        "            #print(\"node: \",node.move, node.parentNode, node.childNodes, node.wins, node.visits, node.untriedMoves, node.playerJustMoved )\n",
        "            node = node.parentNode\n",
        "\n",
        "    # Output some information about the tree - can be omitted\n",
        "    #if verbose: print(rootnode.TreeToString(0))\n",
        "    #else: print(rootnode.ChildrenToString())\n",
        "    \n",
        "    ret=sorted(rootnode.childNodes, key = lambda c: c.visits)[-1].move\n",
        "    #print(\"Return value of UCT : \", ret)\n",
        "    return ret # return the move that was most visited as the best move.\n",
        "                \n",
        "def UCTPlayGame(firstrun, classifier_dt): #These simulations are MCTS\n",
        "    \"\"\" Play a sample game between two UCT players where each player gets a different number \n",
        "        of UCT iterations (= simulations = tree nodes).\n",
        "    \"\"\"\n",
        "    state = OXOState()\n",
        "\n",
        "    tempdataset=[[0,0,0,0,0,0,0,0,0]] #  A temporary datset which will accumulate all the stages of one game\n",
        "    # A list of best moves for that particular game. This will always have length of tempdataset-1 because of the initial stage in the temporary dataset.\n",
        "    bestmovelist=[] #\n",
        "    while state.GetMoves() != []:\n",
        "        #print(str(state)) # prints the board - Uncomment\n",
        "        if state.playerJustMoved == 1:\n",
        "            # Biased towards one player so that someone wins. \n",
        "            #1000:2000 -> No one wins; 1500:2000 -> No one wins; 10:1000 -> nearly 2.5% winning - Assignment 1\n",
        "            #10:1000 -> with 5000 iterations of UCTPlaygame -> 12.5% winning games - Assignment 1\n",
        "            m = UCT(firstrun, classifier_dt, rootstate=state, itermax=10, verbose=False)  # play with values for itermax and verbose = True.\n",
        "            #print(\"In 10 itermax\")\n",
        "        else:\n",
        "            m = UCT(firstrun, classifier_dt, rootstate=state, itermax=5, verbose=False) # itermax decides the total value of visits to one node in a given game.\n",
        "            #print(\"In 5 itermax\")\n",
        "        #print(\"Best Move: \" + str(m) + \"\\n\") # Uncomment\n",
        "        state.DoMove(m)\n",
        "        \n",
        "        bestmovelist.append(m) # LINE ADDED. \n",
        "        tempdataset.append(list(state.board))  #LINE ADDED.\n",
        "        \n",
        "        if state.GetResult(state.playerJustMoved) != False:\n",
        "            #print(str(state)) # Uncomment\n",
        "            break\n",
        "    \n",
        "    if state.GetResult(state.playerJustMoved) == 1.0:\n",
        "        #print(\"Player \" + str(state.playerJustMoved) + \" wins!\")\n",
        "        winner=state.playerJustMoved\n",
        "    elif state.GetResult(state.playerJustMoved) == 0.0:\n",
        "        #print(\"Player \" + str(3 - state.playerJustMoved) + \" wins!\")\n",
        "        winner=state.playerJustMoved\n",
        "    else: \n",
        "      #print(\"Nobody wins!\")\n",
        "      winner=0\n",
        "\n",
        "    # This list will always have one element less compared to tempdataset because the last state of the game will never have any move associated to it.\n",
        "    # Because we are combining the two lists so we want them of equal length hence the move of the last stage will be NaN, \n",
        "    # the last game state will be removed later from the final dataframe.\n",
        "    bestmovelist.append('NaN')\n",
        "    \n",
        "    for i in range(len(tempdataset)): \n",
        "      tempdataset[i].append(bestmovelist[i]) # Append the move taken at every stage.\n",
        "\n",
        "    return tempdataset, winner \n",
        "\n",
        "def create_OXO_dataset(num_games, firstrun, classifier_dt):\n",
        "    \"\"\" Play a single game to the end using UCT for both players. \n",
        "    \"\"\"\n",
        "    finaldataset=[] # LINE ADDED. A list of lists of the game stages. Each list is one game, representing the lists of stages returned.\n",
        "    finaldataset1=[] # LINE ADDED. A list of all the stages of the games in the finaldataset. It is the output of converting a list of list into one list.\n",
        "    \n",
        "    p1win=0\n",
        "    p2win=0\n",
        "    Nowin=0\n",
        "    winner=0\n",
        "    for i in range(num_games): # Run the UCTPlayGame 2000 or 5000 times.\n",
        "      returnds, winner =UCTPlayGame(firstrun, classifier_dt) # returnds stores the game temporarily.\n",
        "      finaldataset.append(returnds) \n",
        "      #print(\"Winner : \", winner)\n",
        "      if winner==1:\n",
        "        p1win+=1\n",
        "      elif winner==2:\n",
        "        p2win+=1\n",
        "      else:\n",
        "        Nowin+=1\n",
        "    #print(finaldataset)\n",
        "    #Convert list of lists to one list\n",
        "    for i in finaldataset:  \n",
        "      for j in i:  \n",
        "        finaldataset1.append(j) \n",
        "    #print(finaldataset1)\n",
        "    #Name the columns of the finaldataset1 and convert it into a dataframe. # LINE ADDED\n",
        "    datatbp=pd.DataFrame(finaldataset1, columns=['0th pos', '1st pos', '2nd pos', '3rd pos', '4th pos', '5th pos', '6th pos', '7th pos', '8th pos', 'Move'])\n",
        "     \n",
        "    #Remove the rows that have 'NaN' as these are the rows depicting the last stage of the game with no move.\n",
        "    datatbp.drop(datatbp[datatbp.Move == 'NaN'].index, inplace=True)\n",
        "    datatbp.reset_index(drop=True, inplace=True) #  Reset the row index of the data frame\n",
        "    #print(datatbp)\n",
        "    print(\"Wins : \\n Player1 : \", p1win, \" Player2 : \", p2win, \" Nobody wins : \", Nowin)\n",
        "    \n",
        "    return datatbp"
      ],
      "execution_count": 0,
      "outputs": []
    },
    {
      "cell_type": "code",
      "metadata": {
        "id": "UKUDFU5ZbxLX",
        "colab_type": "code",
        "outputId": "f1466702-f0bb-4a1c-e093-184e65cb846c",
        "colab": {
          "base_uri": "https://localhost:8080/",
          "height": 1000
        }
      },
      "source": [
        "#def ten_iteration():\n",
        "if __name__ == \"__main__\":\n",
        "   #firstrun is a flag depicting if the code is going to create a a dataset of 5000 games for the first time or not. 1 means it is a first run and 0 means it is not.\n",
        "   firstrun=1\n",
        "   dict_classifier={}\n",
        "   global train_state\n",
        "   train_state=[]\n",
        "   classifier=None\n",
        "   #print('train_state : \\n ', train_state)\n",
        "   for i in range(10): # 10 iterations for creating a dictionary to store the 10 datasets or classifiers . This whole thing has to be looped again for n times and then evaluated.\n",
        "       #print('train_state start of iteration: \\n ', train_state)\n",
        "       data_tbp=create_OXO_dataset(100,firstrun, classifier) # 5000 iterations of each game play. is this implict learning that includes the apprentice policy and expert policy creation ?\n",
        "       #print('data_tbp : \\n ', data_tbp)\n",
        "       #print('type(data_tbp) : ',type(data_tbp))\n",
        "       #print('train_state : \\n ',train_state)\n",
        "       #print('type(train_state) : ', type(train_state))\n",
        "       #print('Length of data_tbp : ',len(data_tbp))\n",
        "       comb_train_state=pd.DataFrame(train_state,columns=['0th pos', '1st pos', '2nd pos', '3rd pos', '4th pos', '5th pos', '6th pos', '7th pos', '8th pos', 'Move'])\n",
        "       #print('Length of data_tbp : ',len(comb_train_state))\n",
        "       data_tbp=pd.concat([data_tbp,comb_train_state],ignore_index=True, axis=0)\n",
        "       #print('data_tbp1 : \\n', data_tbp)\n",
        "       #combine the data_tbp and train_state here and then create a classifier\n",
        "       classifier=create_DT_classifier(data_tbp)\n",
        "       dict_classifier.update({i:classifier})\n",
        "       #print(dict_classifier)\n",
        "       firstrun=0\n",
        "       train_state.clear()\n",
        "       #print('After clearing in this iteration train_state : ', train_state)\n",
        "#       return dict_classifier"
      ],
      "execution_count": 18,
      "outputs": [
        {
          "output_type": "stream",
          "text": [
            "Wins : \n",
            " Player1 :  33  Player2 :  51  Nobody wins :  16\n"
          ],
          "name": "stdout"
        },
        {
          "output_type": "display_data",
          "data": {
            "image/png": "[encoded data removed]",
            "text/plain": [
              "<Figure size 432x288 with 1 Axes>"
            ]
          },
          "metadata": {
            "tags": [],
            "needs_background": "light"
          }
        },
        {
          "output_type": "stream",
          "text": [
            "depth_max_accuracy :  8\n",
            "Wins : \n",
            " Player1 :  41  Player2 :  40  Nobody wins :  19\n"
          ],
          "name": "stdout"
        },
        {
          "output_type": "display_data",
          "data": {
            "image/png": "[encoded data removed]",
            "text/plain": [
              "<Figure size 432x288 with 1 Axes>"
            ]
          },
          "metadata": {
            "tags": [],
            "needs_background": "light"
          }
        },
        {
          "output_type": "stream",
          "text": [
            "depth_max_accuracy :  12\n",
            "Wins : \n",
            " Player1 :  35  Player2 :  51  Nobody wins :  14\n"
          ],
          "name": "stdout"
        },
        {
          "output_type": "display_data",
          "data": {
            "image/png": "[encoded data removed]",
            "text/plain": [
              "<Figure size 432x288 with 1 Axes>"
            ]
          },
          "metadata": {
            "tags": [],
            "needs_background": "light"
          }
        },
        {
          "output_type": "stream",
          "text": [
            "depth_max_accuracy :  8\n",
            "Wins : \n",
            " Player1 :  33  Player2 :  42  Nobody wins :  25\n"
          ],
          "name": "stdout"
        },
        {
          "output_type": "display_data",
          "data": {
            "image/png": "[encoded data removed]",
            "text/plain": [
              "<Figure size 432x288 with 1 Axes>"
            ]
          },
          "metadata": {
            "tags": [],
            "needs_background": "light"
          }
        },
        {
          "output_type": "stream",
          "text": [
            "depth_max_accuracy :  5\n",
            "Wins : \n",
            " Player1 :  31  Player2 :  48  Nobody wins :  21\n"
          ],
          "name": "stdout"
        },
        {
          "output_type": "display_data",
          "data": {
            "image/png": "[encoded data removed]",
            "text/plain": [
              "<Figure size 432x288 with 1 Axes>"
            ]
          },
          "metadata": {
            "tags": [],
            "needs_background": "light"
          }
        },
        {
          "output_type": "stream",
          "text": [
            "depth_max_accuracy :  9\n",
            "Wins : \n",
            " Player1 :  28  Player2 :  50  Nobody wins :  22\n"
          ],
          "name": "stdout"
        },
        {
          "output_type": "display_data",
          "data": {
            "image/png": "[encoded data removed]",
            "text/plain": [
              "<Figure size 432x288 with 1 Axes>"
            ]
          },
          "metadata": {
            "tags": [],
            "needs_background": "light"
          }
        },
        {
          "output_type": "stream",
          "text": [
            "depth_max_accuracy :  5\n",
            "Wins : \n",
            " Player1 :  26  Player2 :  59  Nobody wins :  15\n"
          ],
          "name": "stdout"
        },
        {
          "output_type": "display_data",
          "data": {
            "image/png": "[encoded data removed]",
            "text/plain": [
              "<Figure size 432x288 with 1 Axes>"
            ]
          },
          "metadata": {
            "tags": [],
            "needs_background": "light"
          }
        },
        {
          "output_type": "stream",
          "text": [
            "depth_max_accuracy :  7\n",
            "Wins : \n",
            " Player1 :  28  Player2 :  56  Nobody wins :  16\n"
          ],
          "name": "stdout"
        },
        {
          "output_type": "display_data",
          "data": {
            "image/png": "[encoded data removed]",
            "text/plain": [
              "<Figure size 432x288 with 1 Axes>"
            ]
          },
          "metadata": {
            "tags": [],
            "needs_background": "light"
          }
        },
        {
          "output_type": "stream",
          "text": [
            "depth_max_accuracy :  3\n",
            "Wins : \n",
            " Player1 :  33  Player2 :  45  Nobody wins :  22\n"
          ],
          "name": "stdout"
        },
        {
          "output_type": "display_data",
          "data": {
            "image/png": "[encoded data removed]",
            "text/plain": [
              "<Figure size 432x288 with 1 Axes>"
            ]
          },
          "metadata": {
            "tags": [],
            "needs_background": "light"
          }
        },
        {
          "output_type": "stream",
          "text": [
            "depth_max_accuracy :  4\n",
            "Wins : \n",
            " Player1 :  41  Player2 :  45  Nobody wins :  14\n"
          ],
          "name": "stdout"
        },
        {
          "output_type": "display_data",
          "data": {
            "image/png": "[encoded data removed]",
            "text/plain": [
              "<Figure size 432x288 with 1 Axes>"
            ]
          },
          "metadata": {
            "tags": [],
            "needs_background": "light"
          }
        },
        {
          "output_type": "stream",
          "text": [
            "depth_max_accuracy :  7\n"
          ],
          "name": "stdout"
        }
      ]
    },
    {
      "cell_type": "code",
      "metadata": {
        "id": "RTMhMMpFMhLo",
        "colab_type": "code",
        "colab": {}
      },
      "source": [
        "#Download the Dataset to be processed in Assignment 2\n",
        "#2000*10= 20000; 20000-2000=18000 rows if nobody wins for all games.\n",
        "from google.colab import files\n",
        "datatbp.to_csv('CE888_DataToBeProcessed_1900690.csv')\n",
        "files.download('CE888_DataToBeProcessed_1900690.csv')"
      ],
      "execution_count": 0,
      "outputs": []
    },
    {
      "cell_type": "code",
      "metadata": {
        "id": "OSDV9nrOFHhS",
        "colab_type": "code",
        "colab": {}
      },
      "source": [
        "len(dict_classifier)"
      ],
      "execution_count": 0,
      "outputs": []
    },
    {
      "cell_type": "markdown",
      "metadata": {
        "id": "QR3P-X_vflVR",
        "colab_type": "text"
      },
      "source": [
        "# Assignment 2 Coding"
      ]
    },
    {
      "cell_type": "code",
      "metadata": {
        "id": "CxU-LfGzZd6S",
        "colab_type": "code",
        "colab": {}
      },
      "source": [
        "for i in range(len(dict_classifier)):\n",
        "  print(type(dict_classifier[i]))"
      ],
      "execution_count": 0,
      "outputs": []
    },
    {
      "cell_type": "code",
      "metadata": {
        "id": "f3rhKXTSFdnL",
        "colab_type": "code",
        "colab": {}
      },
      "source": [
        "def UCT1(pl2_classifier, pl1_classifier,rootstate, itermax, verbose = False):\n",
        "    \"\"\" Conduct a UCT search for itermax iterations starting from rootstate.\n",
        "        Return the best move from the rootstate.\n",
        "        Assumes 2 alternating players (player 1 starts), with game results in the range [0.0, 1.0].\"\"\"\n",
        "\n",
        "    rootnode = Node(state = rootstate)\n",
        "\n",
        "    for i in range(itermax):\n",
        "        node = rootnode\n",
        "        state = rootstate.Clone()\n",
        "\n",
        "        # Select\n",
        "        while node.untriedMoves == [] and node.childNodes != []: # node is fully expanded and non-terminal\n",
        "            node = node.UCTSelectChild()\n",
        "            state.DoMove(node.move)\n",
        "\n",
        "        # Expand\n",
        "        if node.untriedMoves != []: # if we can expand (i.e. state/node is non-terminal)\n",
        "            m = random.choice(node.untriedMoves) \n",
        "            state.DoMove(m)\n",
        "            node = node.AddChild(m,state) # add child and descend tree\n",
        "\n",
        "        # Rollout - this can often be made orders of magnitude quicker using a state.GetRandomMove() function\n",
        "        while state.GetMoves() != []: # while state is non-terminal\n",
        "            if(state.playerJustMoved==1):\n",
        "                r=pl1_classifier.predict([state.board])\n",
        "                r=r[0]\n",
        "                if r not in state.GetMoves():\n",
        "                    #print('r not in get moves for pl1classifer - NOT GOOD')\n",
        "                    r=random.choice(state.GetMoves())\n",
        "            else:\n",
        "                r=pl2_classifier.predict([state.board])\n",
        "                r=r[0]\n",
        "                if r not in state.GetMoves():\n",
        "                    #print('r not in get moves for pl2classifer - EXPECTED AS LESS LEARNT')\n",
        "                    r=random.choice(state.GetMoves())\n",
        "            state.DoMove(random.choice(state.GetMoves()))\n",
        "\n",
        "        # Backpropagate\n",
        "        while node != None: # backpropagate from the expanded node and work back to the root node\n",
        "            node.Update(state.GetResult(node.playerJustMoved)) # state is terminal. Update node with result from POV of node.playerJustMoved\n",
        "            node = node.parentNode\n",
        "\n",
        "    # Output some information about the tree - can be omitted\n",
        "    #if (verbose): print(rootnode.TreeToString(0))\n",
        "    #else: print(rootnode.ChildrenToString())\n",
        "\n",
        "    return sorted(rootnode.childNodes, key = lambda c: c.visits)[-1].move # return the move that was most visited\n",
        "                \n",
        "def UCTPlayGame1(pl2_classifier, pl1_classifier):\n",
        "    \"\"\" Play a sample game between two UCT players where each player gets a different number \n",
        "        of UCT iterations (= simulations = tree nodes).\n",
        "    \"\"\"\n",
        "    \n",
        "    state = OXOState() # uncomment to play OXO\n",
        "    \n",
        "    while (state.GetMoves() != []):\n",
        "        #print(str(state))\n",
        "        if state.playerJustMoved == 1:\n",
        "            m = UCT1(pl2_classifier, pl1_classifier,rootstate = state, itermax = 1000, verbose = False) # play with values for itermax and verbose = True\n",
        "        else:\n",
        "            m = UCT1(pl2_classifier, pl1_classifier, rootstate = state, itermax = 100, verbose = False)\n",
        "        #print(\"Best Move: \" + str(m) + \"\\n\")\n",
        "        state.DoMove(m)\n",
        "    if state.GetResult(state.playerJustMoved) == 1.0:\n",
        "        print(\"Player \" + str(state.playerJustMoved) + \" wins!\")\n",
        "        return state.playerJustMoved\n",
        "    elif state.GetResult(state.playerJustMoved) == 0.0:\n",
        "        print(\"Player \" + str(3 - state.playerJustMoved) + \" wins!\")\n",
        "        return state.playerJustMoved\n",
        "    else:\n",
        "        print(\"Nobody wins!\")\n",
        "        return 0\n",
        "\n",
        "#if __name__ == \"__main__\":\n",
        "    \"\"\" Play a single game to the end using UCT for both players. \n",
        "    \"\"\"\n",
        "    #UCTPlayGame()"
      ],
      "execution_count": 0,
      "outputs": []
    },
    {
      "cell_type": "code",
      "metadata": {
        "id": "PufVfTNjFL4K",
        "colab_type": "code",
        "outputId": "69d2a354-7a93-471b-d2af-9a841ce33538",
        "colab": {
          "base_uri": "https://localhost:8080/",
          "height": 336
        }
      },
      "source": [
        "#Play game between Classifiers.\n",
        "#getdictionary=ten_iteration()\n",
        "for i in range(len(dict_classifier)-1): # execute from 0 until 8th index\n",
        "    winner = UCTPlayGame1(dict_classifier[i],dict_classifier[len(dict_classifier)-1]) # transfer every value from 0 to 8 and always 9\n",
        "    if winner==1 or winner==2:\n",
        "        print('DT10 wins')\n",
        "    else:\n",
        "        print('No wins')\n"
      ],
      "execution_count": 25,
      "outputs": [
        {
          "output_type": "stream",
          "text": [
            "Nobody wins!\n",
            "No wins\n",
            "Nobody wins!\n",
            "No wins\n",
            "Nobody wins!\n",
            "No wins\n",
            "Player 2 wins!\n",
            "DT10 wins\n",
            "Nobody wins!\n",
            "No wins\n",
            "Player 2 wins!\n",
            "DT10 wins\n",
            "Nobody wins!\n",
            "No wins\n",
            "Nobody wins!\n",
            "No wins\n",
            "Nobody wins!\n",
            "No wins\n"
          ],
          "name": "stdout"
        }
      ]
    },
    {
      "cell_type": "code",
      "metadata": {
        "id": "o7IsQII8rPDc",
        "colab_type": "code",
        "colab": {}
      },
      "source": [
        "'''!pip install -U -q PyDrive\n",
        "from pydrive.auth import GoogleAuth\n",
        "from pydrive.drive import GoogleDrive\n",
        "from google.colab import auth\n",
        "from oauth2client.client import GoogleCredentials'''"
      ],
      "execution_count": 0,
      "outputs": []
    },
    {
      "cell_type": "code",
      "metadata": {
        "id": "xKF8hIBwJV9x",
        "colab_type": "code",
        "colab": {}
      },
      "source": [
        "'''auth.authenticate_user()\n",
        "gauth = GoogleAuth()\n",
        "gauth.credentials = GoogleCredentials.get_application_default()\n",
        "drive = GoogleDrive(gauth)'''"
      ],
      "execution_count": 0,
      "outputs": []
    },
    {
      "cell_type": "code",
      "metadata": {
        "id": "p7T-YuchttVj",
        "colab_type": "code",
        "colab": {}
      },
      "source": [
        "'''file_id = r'C:\\Users\\DELL\\OneDrive - University of Essex\\CE888 - Decision Making\\CE888_DataToBeProcessed_1900690_471Win.csv'\n",
        "downloaded = drive.CreateFile({'id': file_id})\n",
        "#downloaded = drive.CreateFile({'id':'C:\\Users\\DELL\\OneDrive - University of Essex\\CE888 - Decision Making\\CE888_DataToBeProcessed_1900690_NobodyWins_2.csv'}) # replace the id with id of file you want to access\n",
        "downloaded.GetContentFile('xyz.csv')  \n",
        "\n",
        "# Read file as panda dataframe\n",
        "xyz = pd.read_csv('xyz.csv') '''"
      ],
      "execution_count": 0,
      "outputs": []
    },
    {
      "cell_type": "code",
      "metadata": {
        "id": "Nt6ny6ZKg93-",
        "colab_type": "code",
        "outputId": "29965b9b-03b6-48db-fd6e-fb737acfa0d3",
        "colab": {
          "base_uri": "https://localhost:8080/",
          "height": 34
        }
      },
      "source": [
        "import os\n",
        "print(os.getcwd())"
      ],
      "execution_count": 0,
      "outputs": [
        {
          "output_type": "stream",
          "text": [
            "/content\n"
          ],
          "name": "stdout"
        }
      ]
    },
    {
      "cell_type": "code",
      "metadata": {
        "id": "7QIVKeKsgCd6",
        "colab_type": "code",
        "outputId": "dccda39e-edde-48df-b981-03b7740b5181",
        "colab": {
          "base_uri": "https://localhost:8080/",
          "height": 406
        }
      },
      "source": [
        "#Get data set from Drive\n",
        "Data=pd.read_csv('CE888_DataToBeProcessed_1900690_6261Wins.csv')\n",
        "Data"
      ],
      "execution_count": 0,
      "outputs": [
        {
          "output_type": "execute_result",
          "data": {
            "text/html": [
              "<div>\n",
              "<style scoped>\n",
              "    .dataframe tbody tr th:only-of-type {\n",
              "        vertical-align: middle;\n",
              "    }\n",
              "\n",
              "    .dataframe tbody tr th {\n",
              "        vertical-align: top;\n",
              "    }\n",
              "\n",
              "    .dataframe thead th {\n",
              "        text-align: right;\n",
              "    }\n",
              "</style>\n",
              "<table border=\"1\" class=\"dataframe\">\n",
              "  <thead>\n",
              "    <tr style=\"text-align: right;\">\n",
              "      <th></th>\n",
              "      <th>Unnamed: 0</th>\n",
              "      <th>0th pos</th>\n",
              "      <th>1st pos</th>\n",
              "      <th>2nd pos</th>\n",
              "      <th>3rd pos</th>\n",
              "      <th>4th pos</th>\n",
              "      <th>5th pos</th>\n",
              "      <th>6th pos</th>\n",
              "      <th>7th pos</th>\n",
              "      <th>8th pos</th>\n",
              "      <th>Move</th>\n",
              "    </tr>\n",
              "  </thead>\n",
              "  <tbody>\n",
              "    <tr>\n",
              "      <th>0</th>\n",
              "      <td>0</td>\n",
              "      <td>0</td>\n",
              "      <td>0</td>\n",
              "      <td>0</td>\n",
              "      <td>0</td>\n",
              "      <td>0</td>\n",
              "      <td>0</td>\n",
              "      <td>0</td>\n",
              "      <td>0</td>\n",
              "      <td>0</td>\n",
              "      <td>6</td>\n",
              "    </tr>\n",
              "    <tr>\n",
              "      <th>1</th>\n",
              "      <td>1</td>\n",
              "      <td>0</td>\n",
              "      <td>0</td>\n",
              "      <td>0</td>\n",
              "      <td>0</td>\n",
              "      <td>0</td>\n",
              "      <td>0</td>\n",
              "      <td>1</td>\n",
              "      <td>0</td>\n",
              "      <td>0</td>\n",
              "      <td>4</td>\n",
              "    </tr>\n",
              "    <tr>\n",
              "      <th>2</th>\n",
              "      <td>2</td>\n",
              "      <td>0</td>\n",
              "      <td>0</td>\n",
              "      <td>0</td>\n",
              "      <td>0</td>\n",
              "      <td>2</td>\n",
              "      <td>0</td>\n",
              "      <td>1</td>\n",
              "      <td>0</td>\n",
              "      <td>0</td>\n",
              "      <td>0</td>\n",
              "    </tr>\n",
              "    <tr>\n",
              "      <th>3</th>\n",
              "      <td>3</td>\n",
              "      <td>1</td>\n",
              "      <td>0</td>\n",
              "      <td>0</td>\n",
              "      <td>0</td>\n",
              "      <td>2</td>\n",
              "      <td>0</td>\n",
              "      <td>1</td>\n",
              "      <td>0</td>\n",
              "      <td>0</td>\n",
              "      <td>3</td>\n",
              "    </tr>\n",
              "    <tr>\n",
              "      <th>4</th>\n",
              "      <td>4</td>\n",
              "      <td>1</td>\n",
              "      <td>0</td>\n",
              "      <td>0</td>\n",
              "      <td>2</td>\n",
              "      <td>2</td>\n",
              "      <td>0</td>\n",
              "      <td>1</td>\n",
              "      <td>0</td>\n",
              "      <td>0</td>\n",
              "      <td>1</td>\n",
              "    </tr>\n",
              "    <tr>\n",
              "      <th>...</th>\n",
              "      <td>...</td>\n",
              "      <td>...</td>\n",
              "      <td>...</td>\n",
              "      <td>...</td>\n",
              "      <td>...</td>\n",
              "      <td>...</td>\n",
              "      <td>...</td>\n",
              "      <td>...</td>\n",
              "      <td>...</td>\n",
              "      <td>...</td>\n",
              "      <td>...</td>\n",
              "    </tr>\n",
              "    <tr>\n",
              "      <th>43735</th>\n",
              "      <td>43735</td>\n",
              "      <td>0</td>\n",
              "      <td>0</td>\n",
              "      <td>0</td>\n",
              "      <td>1</td>\n",
              "      <td>2</td>\n",
              "      <td>0</td>\n",
              "      <td>0</td>\n",
              "      <td>0</td>\n",
              "      <td>0</td>\n",
              "      <td>6</td>\n",
              "    </tr>\n",
              "    <tr>\n",
              "      <th>43736</th>\n",
              "      <td>43736</td>\n",
              "      <td>0</td>\n",
              "      <td>0</td>\n",
              "      <td>0</td>\n",
              "      <td>1</td>\n",
              "      <td>2</td>\n",
              "      <td>0</td>\n",
              "      <td>1</td>\n",
              "      <td>0</td>\n",
              "      <td>0</td>\n",
              "      <td>0</td>\n",
              "    </tr>\n",
              "    <tr>\n",
              "      <th>43737</th>\n",
              "      <td>43737</td>\n",
              "      <td>2</td>\n",
              "      <td>0</td>\n",
              "      <td>0</td>\n",
              "      <td>1</td>\n",
              "      <td>2</td>\n",
              "      <td>0</td>\n",
              "      <td>1</td>\n",
              "      <td>0</td>\n",
              "      <td>0</td>\n",
              "      <td>8</td>\n",
              "    </tr>\n",
              "    <tr>\n",
              "      <th>43738</th>\n",
              "      <td>43738</td>\n",
              "      <td>2</td>\n",
              "      <td>0</td>\n",
              "      <td>0</td>\n",
              "      <td>1</td>\n",
              "      <td>2</td>\n",
              "      <td>0</td>\n",
              "      <td>1</td>\n",
              "      <td>0</td>\n",
              "      <td>1</td>\n",
              "      <td>1</td>\n",
              "    </tr>\n",
              "    <tr>\n",
              "      <th>43739</th>\n",
              "      <td>43739</td>\n",
              "      <td>2</td>\n",
              "      <td>2</td>\n",
              "      <td>0</td>\n",
              "      <td>1</td>\n",
              "      <td>2</td>\n",
              "      <td>0</td>\n",
              "      <td>1</td>\n",
              "      <td>0</td>\n",
              "      <td>1</td>\n",
              "      <td>7</td>\n",
              "    </tr>\n",
              "  </tbody>\n",
              "</table>\n",
              "<p>43740 rows × 11 columns</p>\n",
              "</div>"
            ],
            "text/plain": [
              "       Unnamed: 0  0th pos  1st pos  2nd pos  ...  6th pos  7th pos  8th pos  Move\n",
              "0               0        0        0        0  ...        0        0        0     6\n",
              "1               1        0        0        0  ...        1        0        0     4\n",
              "2               2        0        0        0  ...        1        0        0     0\n",
              "3               3        1        0        0  ...        1        0        0     3\n",
              "4               4        1        0        0  ...        1        0        0     1\n",
              "...           ...      ...      ...      ...  ...      ...      ...      ...   ...\n",
              "43735       43735        0        0        0  ...        0        0        0     6\n",
              "43736       43736        0        0        0  ...        1        0        0     0\n",
              "43737       43737        2        0        0  ...        1        0        0     8\n",
              "43738       43738        2        0        0  ...        1        0        1     1\n",
              "43739       43739        2        2        0  ...        1        0        1     7\n",
              "\n",
              "[43740 rows x 11 columns]"
            ]
          },
          "metadata": {
            "tags": []
          },
          "execution_count": 7
        }
      ]
    }
  ]
}