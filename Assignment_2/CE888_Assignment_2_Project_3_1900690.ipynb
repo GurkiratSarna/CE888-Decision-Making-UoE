{
  "nbformat": 4,
  "nbformat_minor": 0,
  "metadata": {
    "colab": {
      "name": "Copy of Copy of CE888 - Project 3.ipynb",
      "provenance": [],
      "collapsed_sections": [],
      "include_colab_link": true
    },
    "kernelspec": {
      "name": "python3",
      "display_name": "Python 3"
    }
  },
  "cells": [
    {
      "cell_type": "markdown",
      "metadata": {
        "id": "view-in-github",
        "colab_type": "text"
      },
      "source": [
        "<a href=\"https://colab.research.google.com/github/GurkiratSarna/CE888-Decision-Making-UoE/blob/master/Assignment_2/CE888_Assignment_2_Project_3_1900690.ipynb\" target=\"_parent\"><img src=\"https://colab.research.google.com/assets/colab-badge.svg\" alt=\"Open In Colab\"/></a>"
      ]
    },
    {
      "cell_type": "code",
      "metadata": {
        "id": "UB3yAuxfqgRe",
        "colab_type": "code",
        "colab": {}
      },
      "source": [
        "from sklearn import tree\n",
        "import numpy as np\n",
        "import matplotlib.pyplot as plt #plotting charts\n",
        "import pandas as pd #helps importing datasets\n",
        "from sklearn.model_selection import cross_val_score\n",
        "from sklearn.tree import DecisionTreeClassifier\n",
        "from sklearn.model_selection import train_test_split\n",
        "from sklearn.metrics import classification_report\n",
        "from math import *\n",
        "import random"
      ],
      "execution_count": 0,
      "outputs": []
    },
    {
      "cell_type": "markdown",
      "metadata": {
        "id": "SDPxCw_O9huO",
        "colab_type": "text"
      },
      "source": [
        "#Create Decision Tree classifier"
      ]
    },
    {
      "cell_type": "markdown",
      "metadata": {
        "id": "Vjh-DntU1lXI",
        "colab_type": "text"
      },
      "source": [
        "create_DT_classifier() function takes as input the complete dataset of 2000 games and trains a Decision tree on it to return the classifier. \n",
        "\n",
        "The input data set is split into 70-30 percent for training and testing. A graph is plotted between accuracy and depth of the tree for 40 iterations. From this graph the depth of the tree which gives highest accuracy is used to train the classifiers for the complete project."
      ]
    },
    {
      "cell_type": "code",
      "metadata": {
        "id": "lSbikEdknrF7",
        "colab_type": "code",
        "colab": {}
      },
      "source": [
        "def create_DT_classifier(Data_in,f_run):\n",
        "    #Split data into 70-30 percent for training and testing\n",
        "    train_set, test_set = train_test_split(Data_in, test_size = 0.3, random_state=42)\n",
        "    \n",
        "    #Only take the features for training - 9 positions of the board\n",
        "    Data_train_x=train_set.iloc[:,0:9]\n",
        "    \n",
        "    #the output column extracted from the data for training\n",
        "    Data_train_y=train_set.iloc[:,-1]\n",
        "    Data_train_y=Data_train_y.astype('int')\n",
        "    \n",
        "    #Only take the features for testin - 9 positions of the board\n",
        "    Data_test_x=test_set.iloc[:,0:9]\n",
        "    \n",
        "    #the output column extracted from the data for testing\n",
        "    Data_test_y=test_set.iloc[:,-1]\n",
        "    Data_test_y=Data_test_y.astype('int')\n",
        "\n",
        "    ########################\n",
        "    #Plotting graph for accuracy against the depth of the decision tree ranging from 0 to 39 (inclusive)\n",
        "    if(f_run==1):\n",
        "      depth_range = list(range(1,40))\n",
        "      accuracy_list = []\n",
        "      for depth in depth_range:\n",
        "        classifier_DT1 = DecisionTreeClassifier(criterion='gini',max_depth=depth,random_state=42)\n",
        "        classifier_DT1.fit(Data_train_x, Data_train_y)\n",
        "        score = classifier_DT1.score(Data_test_x, Data_test_y)\n",
        "        accuracy_list.append(score)\n",
        "      plt.plot(depth_range,accuracy_list) # commented to save space for output\n",
        "      plt.show()  # commented to save space for output\n",
        "      #Pick the depth at which accuracy is maximum only during the first run and train the classifier on that depth for the complete project.\n",
        "      depth_max_accuracy =(accuracy_list.index(max(accuracy_list)) + 1)\n",
        "      print(\"maximum accuracy : \", max(accuracy_list))\n",
        "    #########################\n",
        "    print(\"depth of decision tree is : \", depth_max_accuracy)\n",
        "    \n",
        "    #Train the classifier on the max accuracy in every iteration\n",
        "    classifier_DT = DecisionTreeClassifier(criterion='gini',max_depth=depth_max_accuracy,random_state=42)\n",
        "    classifier_DT.fit(Data_train_x, Data_train_y)\n",
        "    Pred_test_y=classifier_DT.predict(Data_test_x)\n",
        "    #print(classification_report(Data_test_y,Pred_test_y)) #Need not print for Assignment 2 also commented to save space for output\n",
        "\n",
        "    return classifier_DT"
      ],
      "execution_count": 0,
      "outputs": []
    },
    {
      "cell_type": "markdown",
      "metadata": {
        "id": "46iTScHP9n0Q",
        "colab_type": "text"
      },
      "source": [
        "#OXO Game\n",
        "The OXO game creates a dataset of 100 games."
      ]
    },
    {
      "cell_type": "code",
      "metadata": {
        "id": "KTTExuwIPSQM",
        "colab_type": "code",
        "colab": {}
      },
      "source": [
        "# This is a very simple implementation of the UCT Monte Carlo Tree Search algorithm in Python 2.7.\n",
        "# The function UCT(rootstate, itermax, verbose = False) is towards the bottom of the code.\n",
        "# It aims to have the clearest and simplest possible code, and for the sake of clarity, the code\n",
        "# is orders of magnitude less efficient than it could be made, particularly by using a \n",
        "# state.GetRandomMove() or state.DoRandomRollout() function.\n",
        "# \n",
        "# Example GameState classes for Nim, OXO and Othello are included to give some idea of how you\n",
        "# can write your own GameState use UCT in your 2-player game. Change the game to be played in \n",
        "# the UCTPlayGame() function at the bottom of the code.\n",
        "# \n",
        "# Written by Peter Cowling, Ed Powley, Daniel Whitehouse (University of York, UK) September 2012.\n",
        "# \n",
        "# Licence is granted to freely use and distribute for any sensible/legal purpose so long as this comment\n",
        "# remains in any distributed code.\n",
        "# \n",
        "class OXOState:\n",
        "    \"\"\" A state of the game, i.e. the game board.\n",
        "        Squares in the board are in this arrangement\n",
        "        012\n",
        "        345\n",
        "        678\n",
        "        where 0 = empty, 1 = player 1 (X), 2 = player 2 (O)\n",
        "    \"\"\"\n",
        "    def __init__(self):\n",
        "        self.playerJustMoved = 2 # At the root pretend the player just moved is 2 whereas player 1 has the first move.\n",
        "        self.board = [0,0,0,0,0,0,0,0,0] # 0 = empty, 1 = player 1, 2 = player 2. This is the initial board state - all positions are empty.\n",
        "        \n",
        "    def Clone(self):\n",
        "        \"\"\" Create a deep clone of this game state.\n",
        "        \"\"\"\n",
        "        st = OXOState()\n",
        "        st.playerJustMoved = self.playerJustMoved\n",
        "        st.board = self.board[:]\n",
        "        return st\n",
        "\n",
        "    def DoMove(self, move):\n",
        "        \"\"\" Update the state board by replacing 0 with the player playing the move at the position/move of the board.\n",
        "            Must update playerJustMoved.\n",
        "        \"\"\"\n",
        "        assert move >= 0 and move <= 8 and move == int(move) and self.board[move] == 0\n",
        "        self.playerJustMoved = 3 - self.playerJustMoved\n",
        "        self.board[move] = self.playerJustMoved\n",
        "        \n",
        "    def GetMoves(self):\n",
        "        \"\"\" Get all possible moves from this state. That is return all the positional values of the zroes in the state board.\n",
        "        \"\"\"\n",
        "        return [i for i in range(9) if self.board[i] == 0]\n",
        "    \n",
        "    def GetResult(self, playerjm):\n",
        "        \"\"\" Get the game result from the viewpoint of playerjm. \n",
        "        \"\"\"\n",
        "        for (x,y,z) in [(0,1,2),(3,4,5),(6,7,8),(0,3,6),(1,4,7),(2,5,8),(0,4,8),(2,4,6)]:\n",
        "            #Winning possibilities of the board\n",
        "            if self.board[x] == self.board[y] == self.board[z]: # check if values in all the 3 positions is of the same player\n",
        "                # check if the player that just moved is same as the value in the winning positions, if yes return 1 else 0 stating that the other player wins.\n",
        "                if self.board[x] == playerjm: \n",
        "                    return 1.0\n",
        "                else:\n",
        "                    return 0.0\n",
        "        if self.GetMoves() == []:\n",
        "          return 0.5 # draw\n",
        "        return False # Should not be possible to get here\n",
        "\n",
        "    def __repr__(self): # This is how the return value is defined for this class.\n",
        "        s= \"\"\n",
        "        for i in range(9): \n",
        "            s += \".XO\"[self.board[i]] # . for 0, X for 1 and O for 2 positional values\n",
        "            if i % 3 == 2: s += \"\\n\"\n",
        "        return s\n",
        "\n",
        "\n",
        "class Node:\n",
        "    \"\"\" A node in the game tree. Note : wins is always from the viewpoint of playerJustMoved.\n",
        "        Crashes if state not specified.\n",
        "    \"\"\"\n",
        "    def __init__(self, move = None, parent = None, state = None):\n",
        "        self.move = move # the move that got us to this node - \"None\" for the root node\n",
        "        #parentNode stores all the parents from the rootnode until the current node for backpropogation, during which it deletes until it is None.\n",
        "        self.parentNode = parent # \"None\" for the root node.\n",
        "        self.childNodes = []\n",
        "        self.wins = 0\n",
        "        self.visits = 0 #The number of itermax passed\n",
        "        self.untriedMoves = state.GetMoves() # future child nodes. The available positions to be played at any point of the game.\n",
        "        self.playerJustMoved = state.playerJustMoved # the only part of the state that the Node needs later\n",
        "        \n",
        "    def UCTSelectChild(self):\n",
        "        \"\"\" Use the UCB1 formula to select a child node. Often a constant UCTK is applied so we have\n",
        "            lambda c: c.wins/c.visits + UCTK * sqrt(2*log(self.visits)/c.visits to vary the amount of\n",
        "            exploration versus exploitation.\n",
        "        \"\"\"\n",
        "        s = sorted(self.childNodes, key = lambda c: c.wins/c.visits + sqrt(2*log(self.visits)/c.visits))[-1] #pick the highest\n",
        "        return s\n",
        "    \n",
        "    def AddChild(self, m, s):\n",
        "        \"\"\" Remove m from untriedMoves and add a new child node for this move.\n",
        "            Return the added child node.\n",
        "        \"\"\"\n",
        "        n = Node(move = m, parent = self, state = s)\n",
        "        self.untriedMoves.remove(m)\n",
        "        self.childNodes.append(n)\n",
        "        return n\n",
        "    \n",
        "    def Update(self, result):\n",
        "        \"\"\" Update this node - one additional visit and result additional wins. result must be from the viewpoint of playerJustmoved.\n",
        "        \"\"\"\n",
        "        self.visits += 1\n",
        "        self.wins += result\n",
        "\n",
        "    def __repr__(self): # Added other variables to be returned to check the flow of the variable during testing small iterations.\n",
        "        return \"[M:\" + str(self.move) + \" W/V:\" + str(self.wins) + \"/\" + str(self.visits) + \" U:\" + str(self.untriedMoves) + \" PJM:\" + str(self.playerJustMoved) + \"]\"\n",
        "\n",
        "    def TreeToString(self, indent):\n",
        "        s = self.IndentString(indent) + str(self)\n",
        "        for c in self.childNodes:\n",
        "             s += c.TreeToString(indent+1)\n",
        "        return s\n",
        "\n",
        "    def IndentString(self,indent):\n",
        "        s = \"\\n\"\n",
        "        for i in range (1,indent+1):\n",
        "            s += \"| \"\n",
        "        return s\n",
        "\n",
        "    def ChildrenToString(self):\n",
        "        s = \"\"\n",
        "        for c in self.childNodes:\n",
        "             s += str(c) + \"\\n\"\n",
        "        return s\n",
        "\n",
        "def GetRandomMove(s,c_dt):\n",
        "    \"\"\"We will pick a random value between 0.0 and 1.0. Considering there is a normal distribution between these values, \n",
        "       if we get a value between 0.0 and 0.9 then the decision tree classifier decides the next move on the given state otherwise a random integer is returned.\n",
        "    \"\"\"\n",
        "    \n",
        "    rand_num=random.uniform(0.0, 1.0)\n",
        "\n",
        "    if rand_num <= 0.9:\n",
        "        next_move=c_dt.predict([s.board])\n",
        "        next_move=next_move[0]\n",
        "    \n",
        "        #If the move decided by decision tree classifier is not in the untried moves then we select randomly the next eligible move.\n",
        "        if next_move not in s.GetMoves():\n",
        "            next_move=random.choice(s.GetMoves())\n",
        "            \"\"\"Add the move taken at this state to a global list 'train_state'.\n",
        "               These are unexepected states that will be combined with the dataset, containing 2000 game states, to train the model in next iteration.\n",
        "            \"\"\"\n",
        "            st_board=list(s.board) #so that it does not point to the same memory address\n",
        "            st_board.append(next_move) # append the random move at this state\n",
        "            train_state.append(st_board)            \n",
        "    else:\n",
        "        next_move=random.choice(s.GetMoves())\n",
        "    return next_move\n",
        "    \n",
        "def UCT(firstrun, classifier_dt, rootstate, itermax, verbose = False):\n",
        "    \"\"\" Conduct a UCT search for itermax iterations starting from rootstate.\n",
        "        Return the best move from the rootstate.\n",
        "        Assumes 2 alternating players (player 1 starts), with game results in the range [0.0, 1.0].\"\"\"\n",
        "\n",
        "    rootnode = Node(state = rootstate)\n",
        "\n",
        "    for i in range(itermax):\n",
        "        node = rootnode\n",
        "        state = rootstate.Clone()\n",
        "\n",
        "        # Select\n",
        "        while node.untriedMoves == [] and node.childNodes != []: # node is fully expanded and non-terminal\n",
        "            node = node.UCTSelectChild()\n",
        "            state.DoMove(node.move)\n",
        "\n",
        "        # Expand\n",
        "        if node.untriedMoves != []:  # if we can expand (i.e. state/node is non-terminal)\n",
        "            m = random.choice(node.untriedMoves) # this m has to be picked by the DT train 90% times and 10% randomly.\n",
        "            state.DoMove(m)\n",
        "            node = node.AddChild(m, state)  # add child and descend tree. This updates the parent node as well.\n",
        "\n",
        "        # Rollout\n",
        "        '''Game is played considering all eligible moves after the move chosen in Expand step.\n",
        "        In every step of this game, a child node and parent node is added to form a tree. Once all possible branches are created the best move is returned\n",
        "        using the UCB1 formula in UCTSelectChild() function.'''\n",
        "        while state.GetMoves() != []: # while state is non-terminal\n",
        "            if firstrun==1: # if the code is executed from the scratch and no initial input file of states is given.\n",
        "                r=random.choice(state.GetMoves())\n",
        "            else:\n",
        "                r=GetRandomMove(state, classifier_dt)\n",
        "            state.DoMove(r)\n",
        "        \n",
        "        # Backpropagate\n",
        "        while node != None: # backpropagate from the expanded node and work back to the root node\n",
        "            gr=state.GetResult(node.playerJustMoved)\n",
        "            node.Update(gr) # state is terminal. Update node with result from POV of node.playerJustMoved\n",
        "            node = node.parentNode\n",
        "\n",
        "    # Output some information about the tree - Commented to save space for the output\n",
        "    #if verbose: print(rootnode.TreeToString(0))\n",
        "    #else: print(rootnode.ChildrenToString())\n",
        "    \n",
        "    ret=sorted(rootnode.childNodes, key = lambda c: c.visits)[-1].move\n",
        "\n",
        "    return ret # return the move that was most visited as the best move.\n",
        "                \n",
        "def UCTPlayGame(firstrun, classifier_dt): #These simulations are MCTS\n",
        "    \"\"\" Play a sample game between two UCT players where each player gets a different number \n",
        "        of UCT iterations (= simulations = tree nodes).\n",
        "    \"\"\"\n",
        "    state = OXOState()\n",
        "\n",
        "    tempdataset=[[0,0,0,0,0,0,0,0,0]] #  A temporary datset which will accumulate all the stages of one game\n",
        "    # A list of best moves for that particular game. This will always have length of tempdataset-1 because of the initial stage in the temporary dataset.\n",
        "    bestmovelist=[] #\n",
        "    while state.GetMoves() != []:\n",
        "        #print(str(state)) # prints the board. Commented to save the space for output visibility.\n",
        "        \n",
        "        '''We introduce bias towards player 1 because we associate player 1 to the most learnt Decision Tree (later).\n",
        "        The bias is introduced by increasing the itermax value in 'else' as compared to itermax value in 'if' for player 2'''\n",
        "        '''For assignment 2, we remove the bias to have a fair play between both the players and to ralise the learning'''\n",
        "        '''1000:2000 -> No one wins; 1500:2000 -> No one wins; 10:1000 -> nearly 2.5% winning - Assignment 1\n",
        "        10:1000 -> with 5000 iterations of UCTPlaygame -> 12.5% winning games - Assignment 1'''\n",
        "        if state.playerJustMoved == 1: #The consition checks for player 1 but the best move is returned for player 2.\n",
        "            m = UCT(firstrun, classifier_dt, rootstate=state, itermax=100, verbose=False)  # play with values for itermax and verbose = True.\n",
        "        else:\n",
        "            m = UCT(firstrun, classifier_dt, rootstate=state, itermax=100, verbose=False) # itermax decides the total value of visits to one node in a given game.\n",
        "        #print(\"Best Move: \" + str(m) + \"\\n\") # Commented to save space for the output\n",
        "        state.DoMove(m)\n",
        "        \n",
        "        bestmovelist.append(m)\n",
        "        tempdataset.append(list(state.board))\n",
        "        \n",
        "        if state.GetResult(state.playerJustMoved) != False:\n",
        "            #print(str(state)) # Commented to save space for the output\n",
        "            break\n",
        "    \n",
        "    if state.GetResult(state.playerJustMoved) == 1.0:\n",
        "        #print(\"Player \" + str(state.playerJustMoved) + \" wins!\") #Commented to save space for the output\n",
        "        winner=state.playerJustMoved\n",
        "    elif state.GetResult(state.playerJustMoved) == 0.0:\n",
        "        #print(\"Player \" + str(3 - state.playerJustMoved) + \" wins!\") #Commented to save space for the output\n",
        "        winner=(3-state.playerJustMoved)\n",
        "    else: \n",
        "      #print(\"Nobody wins!\") #Commented to save space for the output\n",
        "      winner=0\n",
        "\n",
        "    ''' This list will always have one element less compared to tempdataset because the last state of the game will never have any move associated to it.\n",
        "    Because we are combining the two lists so we want them of equal length hence the move of the last stage will be NaN, \n",
        "    the last game state will be removed later from the final dataframe.'''\n",
        "    bestmovelist.append('NaN')\n",
        "    \n",
        "    for i in range(len(tempdataset)): \n",
        "      tempdataset[i].append(bestmovelist[i]) # Append the move taken at every stage.\n",
        "\n",
        "    return tempdataset, winner \n",
        "\n",
        "def create_OXO_dataset(num_games, firstrun, classifier_dt):\n",
        "    \"\"\" Play a single game to the end using UCT for both players. \n",
        "    \"\"\"\n",
        "    finaldataset=[] # A list of lists of the game stages. Each list is one game, representing the lists of stages returned.\n",
        "    finaldataset1=[] # A list of all the stages of the games in the finaldataset. It is the output of converting a list of list into one list.\n",
        "    \n",
        "    p1win=0\n",
        "    p2win=0\n",
        "    Nowin=0\n",
        "    winner=0\n",
        "    for i in range(num_games): # Run the UCTPlayGame 2000 times.\n",
        "      returnds, winner =UCTPlayGame(firstrun, classifier_dt) # returnds stores the game temporarily.\n",
        "      finaldataset.append(returnds) \n",
        "      if winner==1:\n",
        "        p1win+=1\n",
        "      elif winner==2:\n",
        "        p2win+=1\n",
        "      else:\n",
        "        Nowin+=1\n",
        "\n",
        "    #Convert list of lists to one list\n",
        "    for i in finaldataset:  \n",
        "      for j in i:  \n",
        "        finaldataset1.append(j) \n",
        "\n",
        "    #Name the columns of the finaldataset1 and convert it into a dataframe.\n",
        "    datatbp=pd.DataFrame(finaldataset1, columns=['0th pos', '1st pos', '2nd pos', '3rd pos', '4th pos', '5th pos', '6th pos', '7th pos', '8th pos', 'Move'])\n",
        "     \n",
        "    #Remove the rows that have 'NaN' as these are the rows depicting the last stage of the game with no move.\n",
        "    datatbp.drop(datatbp[datatbp.Move == 'NaN'].index, inplace=True)\n",
        "    datatbp.reset_index(drop=True, inplace=True) #  Reset the row index of the data frame\n",
        "\n",
        "    #print(\"Wins : Player1 : \", p1win, \" Player2 : \", p2win, \" Nobody wins : \", Nowin) #Commented to save space for the output\n",
        "    \n",
        "    return datatbp"
      ],
      "execution_count": 0,
      "outputs": []
    },
    {
      "cell_type": "markdown",
      "metadata": {
        "id": "9OxFMCsF96xe",
        "colab_type": "text"
      },
      "source": [
        "#Classifiers collection\n",
        "create_classifier_dict() function creates the dictionary of classifiers for each datset of 2000 games played. The num_classifier is a value for the number of classifiers (number of datsets of 2000 games each) needed in a dictionary in one iteration."
      ]
    },
    {
      "cell_type": "code",
      "metadata": {
        "id": "UKUDFU5ZbxLX",
        "colab_type": "code",
        "colab": {}
      },
      "source": [
        "def create_classifier_dict(num_classifier):\n",
        "   \"\"\"firstrun is a flag depicting if the code is going to create a dataset of 2000 games for the first time or not. \n",
        "      1 means it is a first run and 0 means it is not.\n",
        "   \"\"\"\n",
        "   firstrun=1\n",
        "   dict_classifier={}\n",
        "   #depth_max=0\n",
        "   classifier=None\n",
        "   for i in range(num_classifier):\n",
        "       data_tbp=create_OXO_dataset(1000,firstrun, classifier) # Is this imitation learning that includes the apprentice policy and expert policy creation ?\n",
        "       \n",
        "       comb_train_state=pd.DataFrame(train_state,columns=['0th pos', '1st pos', '2nd pos', '3rd pos', '4th pos', '5th pos', '6th pos', '7th pos', '8th pos', 'Move'])\n",
        "       data_tbp=pd.concat([data_tbp,comb_train_state],ignore_index=True, axis=0)\n",
        "       \n",
        "       #combine the data_tbp and train_state here and then create a classifier\n",
        "       classifier=create_DT_classifier(data_tbp, firstrun)\n",
        "       #print('depth_max : ', depth_max)\n",
        "       dict_classifier.update({i:classifier})\n",
        "\n",
        "       firstrun=0\n",
        "       train_state.clear()\n",
        "   return dict_classifier"
      ],
      "execution_count": 0,
      "outputs": []
    },
    {
      "cell_type": "markdown",
      "metadata": {
        "id": "UFtC8DKlpo_N",
        "colab_type": "text"
      },
      "source": [
        "#OXO Game for Classifiers\n",
        "Below is a modified version of OXO game to have the classifiers play against each other. The class Node and OXOstate have not been redefined. We associate player 1 with every 10th classifier and player 2 with it's previous 9 versions of the classifier. That is tenth DT classifier (DT10) will play against first DT classifier (DT1) then with DT2 and so on until DT9. After every iteration we calculate the number of times DT10 wins against DT1, DT2...DT9. Player 1 always plays with DT10 decisions and player 2 plays with DT1, DT2...DT9 decisions."
      ]
    },
    {
      "cell_type": "code",
      "metadata": {
        "id": "f3rhKXTSFdnL",
        "colab_type": "code",
        "colab": {}
      },
      "source": [
        "def GetRandomMove1(DTclassifier, s):\n",
        "    r=DTclassifier.predict([s.board])\n",
        "    r=r[0]\n",
        "    if r not in s.GetMoves():\n",
        "        r=random.choice(s.GetMoves())\n",
        "    return r\n",
        "\n",
        "def UCT1(pl1_classifier, pl2_classifier,rootstate, itermax, verbose = False):\n",
        "    \"\"\" Conduct a UCT search for itermax iterations starting from rootstate.\n",
        "        Return the best move from the rootstate.\n",
        "        Assumes 2 alternating players (player 1 starts), with game results in the range [0.0, 1.0].\"\"\"\n",
        "\n",
        "    rootnode = Node(state = rootstate)\n",
        "\n",
        "    for i in range(itermax):\n",
        "        node = rootnode\n",
        "        state = rootstate.Clone()\n",
        "\n",
        "        # Select\n",
        "        while node.untriedMoves == [] and node.childNodes != []: # node is fully expanded and non-terminal\n",
        "            node = node.UCTSelectChild()\n",
        "            state.DoMove(node.move)\n",
        "\n",
        "        # Expand\n",
        "        if node.untriedMoves != []: # if we can expand (i.e. state/node is non-terminal)\n",
        "            #Do we have to guess using pl1classifier ?\n",
        "            #print('In Expand, state.pjm : ', state.playerJustMoved)\n",
        "             #if(state.playerJustMoved==1):\n",
        "            #    m=GetRandomMove1(pl1_classifier,state)\n",
        "            #else:\n",
        "            #    m=GetRandomMove1(pl2_classifier,state)\n",
        "            \n",
        "            m = random.choice(node.untriedMoves)\n",
        "            state.DoMove(m)\n",
        "            node = node.AddChild(m,state) # add child and descend tree\n",
        "\n",
        "        # Rollout \n",
        "        while state.GetMoves() != []: # while state is non-terminal\n",
        "\n",
        "            if(state.playerJustMoved==1):\n",
        "                r=GetRandomMove1(pl1_classifier,state)\n",
        "            else:\n",
        "                r=GetRandomMove1(pl2_classifier,state)\n",
        "            state.DoMove(r)\n",
        "\n",
        "        # Backpropagate\n",
        "        while node != None: # backpropagate from the expanded node and work back to the root node\n",
        "            node.Update(state.GetResult(node.playerJustMoved)) # state is terminal. Update node with result from POV of node.playerJustMoved\n",
        "            node = node.parentNode\n",
        "\n",
        "    # Output some information about the tree - Commented to save space for Output\n",
        "    #if (verbose): print(rootnode.TreeToString(0))\n",
        "    #else: print(rootnode.ChildrenToString())\n",
        "\n",
        "    return sorted(rootnode.childNodes, key = lambda c: c.visits)[-1].move # return the move that was most visited\n",
        "                \n",
        "def UCTPlayGame1(pl1_classifier, pl2_classifier):\n",
        "    \"\"\" Play a sample game between two UCT players where each player gets a different number \n",
        "        of UCT iterations (= simulations = tree nodes).\n",
        "    \"\"\"\n",
        "    \n",
        "    state = OXOState() \n",
        "    \n",
        "    while (state.GetMoves() != []):\n",
        "        #print(str(state)) #Commented to save space for Output\n",
        "        if state.playerJustMoved == 1:\n",
        "            m = UCT1(pl1_classifier, pl2_classifier,rootstate = state, itermax = 50, verbose = False) \n",
        "        else:\n",
        "            m = UCT1(pl1_classifier, pl2_classifier, rootstate = state, itermax =50, verbose = False)\n",
        "        #print(\"Best Move: \" + str(m) + \"\\n\") #Commented to save space for Output\n",
        "        state.DoMove(m)\n",
        "        if state.GetResult(state.playerJustMoved) != False:\n",
        "            #print(str(state)) #Commented to save space for Output\n",
        "            break\n",
        "    if state.GetResult(state.playerJustMoved) == 1.0:\n",
        "        #print(\"Player \" + str(state.playerJustMoved) + \" wins!\") #Commented to save space for Output\n",
        "        return state.playerJustMoved\n",
        "    elif state.GetResult(state.playerJustMoved) == 0.0:\n",
        "        #print(\"Player \" + str(3 - state.playerJustMoved) + \" wins!\") #Commented to save space for Output\n",
        "        return (3-state.playerJustMoved)\n",
        "    else:\n",
        "        #print(\"Nobody wins!\") #Commented to save space for Output\n",
        "        return 0"
      ],
      "execution_count": 0,
      "outputs": []
    },
    {
      "cell_type": "markdown",
      "metadata": {
        "id": "YdjNZQpcqZSu",
        "colab_type": "text"
      },
      "source": [
        "#Classifier Game Play\n",
        "Gameplay_classifiers() function calls the create_classifier_dict() to get a dictionary of classifiers trained on a single dataset of 2000 games. After a single dictionary is received, OXO Game is played between the classifiers by calling UCTPlayGame1() function. The UCTPlayGame1() function is provided with 2 classifers, the first classifier is always the tenth classifier and the second classifier varies from DT1 until DT9."
      ]
    },
    {
      "cell_type": "code",
      "metadata": {
        "id": "PufVfTNjFL4K",
        "colab_type": "code",
        "colab": {}
      },
      "source": [
        "#Play game between Classifiers.\n",
        "def Gameplay_classifiers(dt_clfr_games, num_dt_clfr):\n",
        "  for i in range(dt_clfr_games):\n",
        "      getdictionary=create_classifier_dict(num_dt_clfr)\n",
        "      DT10=0\n",
        "      DTother=0\n",
        "      Nowin=0\n",
        "      for i in range(len(getdictionary)-1): # execute from 0 until 8th index\n",
        "          winner = UCTPlayGame1(getdictionary[len(getdictionary)-1], getdictionary[i]) # transfer 9 always and every value from 0 to 8\n",
        "          #print(winner)\n",
        "          if winner==1:\n",
        "            #print('DT10 wins')\n",
        "            DT10+=1\n",
        "          elif winner==2:\n",
        "            #print('DT',i+1,' wins')\n",
        "            DTother+=1\n",
        "          else:\n",
        "            #print('No wins')\n",
        "            Nowin+=1\n",
        "      print(\"Wins : \\n DT10 : \", DT10, \" Other DTs : \", DTother, \" No wins : \", Nowin)"
      ],
      "execution_count": 0,
      "outputs": []
    },
    {
      "cell_type": "code",
      "metadata": {
        "id": "qak6MwDoezzr",
        "colab_type": "code",
        "outputId": "bb658e5f-ac39-4d25-bf8d-43147882b774",
        "colab": {
          "base_uri": "https://localhost:8080/",
          "height": 1000
        }
      },
      "source": [
        "if __name__ == \"__main__\":\n",
        " \n",
        "  # create a global list to record the unexpected states encountered by the Decision tree. These are states for which DT could not give an eligible move.\n",
        "  global train_state \n",
        "  global depth_max_accuracy\n",
        "  train_state=[]\n",
        "\n",
        "  dt_clfr_games=int(input('Please enter the number of games to be played between Decision tree Classifiers : '))\n",
        "  #print(dt_clfr_games)\n",
        "\n",
        "  dt_clfr=int(input('Please enter the number of decision tree classifiers required for each iteration : '))\n",
        "  #print(dt_clfr)\n",
        "  \n",
        "  Gameplay_classifiers(dt_clfr_games, dt_clfr)"
      ],
      "execution_count": 21,
      "outputs": [
        {
          "output_type": "stream",
          "text": [
            "Please enter the number of games to be played between Decision tree Classifiers : 10\n",
            "Please enter the number of decision tree classifiers required for each iteration : 10\n"
          ],
          "name": "stdout"
        },
        {
          "output_type": "display_data",
          "data": {
            "image/png": "[encoded data removed]",
            "text/plain": [
              "<Figure size 432x288 with 1 Axes>"
            ]
          },
          "metadata": {
            "tags": [],
            "needs_background": "light"
          }
        },
        {
          "output_type": "stream",
          "text": [
            "maximum accuracy :  0.6371036846615252\n",
            "depth of tree at the maimum accuracy :  14\n",
            "depth_max :  14\n",
            "depth_max :  14\n",
            "depth_max :  14\n",
            "depth_max :  14\n",
            "depth_max :  14\n",
            "depth_max :  14\n",
            "depth_max :  14\n",
            "depth_max :  14\n",
            "depth_max :  14\n",
            "depth_max :  14\n",
            "Wins : \n",
            " DT10 :  5  Other DTs :  1  No wins :  3\n"
          ],
          "name": "stdout"
        },
        {
          "output_type": "display_data",
          "data": {
            "image/png": "[encoded data removed]",
            "text/plain": [
              "<Figure size 432x288 with 1 Axes>"
            ]
          },
          "metadata": {
            "tags": [],
            "needs_background": "light"
          }
        },
        {
          "output_type": "stream",
          "text": [
            "maximum accuracy :  0.6517047906776003\n",
            "depth of tree at the maimum accuracy :  13\n",
            "depth_max :  13\n",
            "depth_max :  13\n",
            "depth_max :  13\n",
            "depth_max :  13\n",
            "depth_max :  13\n",
            "depth_max :  13\n",
            "depth_max :  13\n",
            "depth_max :  13\n",
            "depth_max :  13\n",
            "depth_max :  13\n",
            "Wins : \n",
            " DT10 :  6  Other DTs :  0  No wins :  3\n"
          ],
          "name": "stdout"
        },
        {
          "output_type": "display_data",
          "data": {
            "image/png": "[encoded data removed]",
            "text/plain": [
              "<Figure size 432x288 with 1 Axes>"
            ]
          },
          "metadata": {
            "tags": [],
            "needs_background": "light"
          }
        },
        {
          "output_type": "stream",
          "text": [
            "maximum accuracy :  0.643496801705757\n",
            "depth of tree at the maimum accuracy :  14\n",
            "depth_max :  14\n",
            "depth_max :  14\n",
            "depth_max :  14\n",
            "depth_max :  14\n",
            "depth_max :  14\n",
            "depth_max :  14\n",
            "depth_max :  14\n",
            "depth_max :  14\n",
            "depth_max :  14\n",
            "depth_max :  14\n",
            "Wins : \n",
            " DT10 :  7  Other DTs :  0  No wins :  2\n"
          ],
          "name": "stdout"
        },
        {
          "output_type": "display_data",
          "data": {
            "image/png": "[encoded data removed]",
            "text/plain": [
              "<Figure size 432x288 with 1 Axes>"
            ]
          },
          "metadata": {
            "tags": [],
            "needs_background": "light"
          }
        },
        {
          "output_type": "stream",
          "text": [
            "maximum accuracy :  0.6492214532871973\n",
            "depth of tree at the maimum accuracy :  13\n",
            "depth_max :  13\n",
            "depth_max :  13\n",
            "depth_max :  13\n",
            "depth_max :  13\n",
            "depth_max :  13\n",
            "depth_max :  13\n",
            "depth_max :  13\n",
            "depth_max :  13\n",
            "depth_max :  13\n",
            "depth_max :  13\n",
            "Wins : \n",
            " DT10 :  6  Other DTs :  0  No wins :  3\n"
          ],
          "name": "stdout"
        },
        {
          "output_type": "display_data",
          "data": {
            "image/png": "[encoded data removed]",
            "text/plain": [
              "<Figure size 432x288 with 1 Axes>"
            ]
          },
          "metadata": {
            "tags": [],
            "needs_background": "light"
          }
        },
        {
          "output_type": "stream",
          "text": [
            "maximum accuracy :  0.6567996567996568\n",
            "depth of tree at the maimum accuracy :  14\n",
            "depth_max :  14\n",
            "depth_max :  14\n",
            "depth_max :  14\n",
            "depth_max :  14\n",
            "depth_max :  14\n",
            "depth_max :  14\n",
            "depth_max :  14\n",
            "depth_max :  14\n",
            "depth_max :  14\n",
            "depth_max :  14\n",
            "Wins : \n",
            " DT10 :  7  Other DTs :  0  No wins :  2\n"
          ],
          "name": "stdout"
        },
        {
          "output_type": "display_data",
          "data": {
            "image/png": "[encoded data removed]",
            "text/plain": [
              "<Figure size 432x288 with 1 Axes>"
            ]
          },
          "metadata": {
            "tags": [],
            "needs_background": "light"
          }
        },
        {
          "output_type": "stream",
          "text": [
            "maximum accuracy :  0.6535975872468763\n",
            "depth of tree at the maimum accuracy :  14\n",
            "depth_max :  14\n",
            "depth_max :  14\n",
            "depth_max :  14\n",
            "depth_max :  14\n",
            "depth_max :  14\n",
            "depth_max :  14\n",
            "depth_max :  14\n",
            "depth_max :  14\n",
            "depth_max :  14\n",
            "depth_max :  14\n",
            "Wins : \n",
            " DT10 :  5  Other DTs :  0  No wins :  4\n"
          ],
          "name": "stdout"
        },
        {
          "output_type": "display_data",
          "data": {
            "image/png": "[encoded data removed]",
            "text/plain": [
              "<Figure size 432x288 with 1 Axes>"
            ]
          },
          "metadata": {
            "tags": [],
            "needs_background": "light"
          }
        },
        {
          "output_type": "stream",
          "text": [
            "maximum accuracy :  0.6292134831460674\n",
            "depth of tree at the maimum accuracy :  14\n",
            "depth_max :  14\n",
            "depth_max :  14\n",
            "depth_max :  14\n",
            "depth_max :  14\n",
            "depth_max :  14\n",
            "depth_max :  14\n",
            "depth_max :  14\n",
            "depth_max :  14\n",
            "depth_max :  14\n",
            "depth_max :  14\n",
            "Wins : \n",
            " DT10 :  4  Other DTs :  1  No wins :  4\n"
          ],
          "name": "stdout"
        },
        {
          "output_type": "display_data",
          "data": {
            "image/png": "[encoded data removed]",
            "text/plain": [
              "<Figure size 432x288 with 1 Axes>"
            ]
          },
          "metadata": {
            "tags": [],
            "needs_background": "light"
          }
        },
        {
          "output_type": "stream",
          "text": [
            "maximum accuracy :  0.6658097686375322\n",
            "depth of tree at the maimum accuracy :  12\n",
            "depth_max :  12\n",
            "depth_max :  12\n",
            "depth_max :  12\n",
            "depth_max :  12\n",
            "depth_max :  12\n",
            "depth_max :  12\n",
            "depth_max :  12\n",
            "depth_max :  12\n",
            "depth_max :  12\n",
            "depth_max :  12\n",
            "Wins : \n",
            " DT10 :  6  Other DTs :  3  No wins :  0\n"
          ],
          "name": "stdout"
        },
        {
          "output_type": "display_data",
          "data": {
            "image/png": "[encoded data removed]",
            "text/plain": [
              "<Figure size 432x288 with 1 Axes>"
            ]
          },
          "metadata": {
            "tags": [],
            "needs_background": "light"
          }
        },
        {
          "output_type": "stream",
          "text": [
            "maximum accuracy :  0.6598202824133504\n",
            "depth of tree at the maimum accuracy :  13\n",
            "depth_max :  13\n",
            "depth_max :  13\n",
            "depth_max :  13\n",
            "depth_max :  13\n",
            "depth_max :  13\n",
            "depth_max :  13\n",
            "depth_max :  13\n",
            "depth_max :  13\n",
            "depth_max :  13\n",
            "depth_max :  13\n",
            "Wins : \n",
            " DT10 :  7  Other DTs :  0  No wins :  2\n"
          ],
          "name": "stdout"
        },
        {
          "output_type": "display_data",
          "data": {
            "image/png": "[encoded data removed]",
            "text/plain": [
              "<Figure size 432x288 with 1 Axes>"
            ]
          },
          "metadata": {
            "tags": [],
            "needs_background": "light"
          }
        },
        {
          "output_type": "stream",
          "text": [
            "maximum accuracy :  0.6616894197952219\n",
            "depth of tree at the maimum accuracy :  14\n",
            "depth_max :  14\n",
            "depth_max :  14\n",
            "depth_max :  14\n",
            "depth_max :  14\n",
            "depth_max :  14\n",
            "depth_max :  14\n",
            "depth_max :  14\n",
            "depth_max :  14\n",
            "depth_max :  14\n",
            "depth_max :  14\n",
            "Wins : \n",
            " DT10 :  5  Other DTs :  0  No wins :  4\n"
          ],
          "name": "stdout"
        }
      ]
    },
    {
      "cell_type": "code",
      "metadata": {
        "id": "a9kBxXnsgcRt",
        "colab_type": "code",
        "colab": {}
      },
      "source": [
        "#50:50,50:50, 1000 games, 10, 10 - same DT classifier depth for every 10 iterations."
      ],
      "execution_count": 0,
      "outputs": []
    },
    {
      "cell_type": "code",
      "metadata": {
        "id": "q-kD98pgbl8c",
        "colab_type": "code",
        "colab": {}
      },
      "source": [
        "#100;10, 50:50, 200 games, 10,10\n",
        "'''Please enter the number of games to be played between Decision tree Classifiers : 10\n",
        "Please enter the number of decision tree classifiers required for each iteration : 10\n",
        "Wins : \n",
        " DT10 :  6  Other DTs :  2  No wins :  1\n",
        "Wins : \n",
        " DT10 :  3  Other DTs :  3  No wins :  3\n",
        "Wins : \n",
        " DT10 :  4  Other DTs :  0  No wins :  5\n",
        "Wins : \n",
        " DT10 :  5  Other DTs :  0  No wins :  4\n",
        "Wins : \n",
        " DT10 :  6  Other DTs :  1  No wins :  2\n",
        "Wins : \n",
        " DT10 :  4  Other DTs :  1  No wins :  4\n",
        "Wins : \n",
        " DT10 :  5  Other DTs :  1  No wins :  3\n",
        "Wins : \n",
        " DT10 :  4  Other DTs :  0  No wins :  5\n",
        "Wins : \n",
        " DT10 :  3  Other DTs :  1  No wins :  5\n",
        "Wins : \n",
        " DT10 :  3  Other DTs :  2  No wins :  4'''"
      ],
      "execution_count": 0,
      "outputs": []
    },
    {
      "cell_type": "code",
      "metadata": {
        "id": "bA4WcK9jxx5v",
        "colab_type": "code",
        "colab": {}
      },
      "source": [
        "#100:10, 10:90,200 games, 10,10 \n",
        "'''Please enter the number of games to be played between Decision tree Classifiers : 10\n",
        "Please enter the number of decision tree classifiers required for each iteration : 10\n",
        "Wins : \n",
        " DT10 :  7  Other DTs :  2  No wins :  0\n",
        "Wins : \n",
        " DT10 :  6  Other DTs :  2  No wins :  1\n",
        "Wins : \n",
        " DT10 :  6  Other DTs :  2  No wins :  1\n",
        "Wins : \n",
        " DT10 :  6  Other DTs :  1  No wins :  2\n",
        "Wins : \n",
        " DT10 :  8  Other DTs :  0  No wins :  1\n",
        "Wins : \n",
        " DT10 :  6  Other DTs :  1  No wins :  2\n",
        "Wins : \n",
        " DT10 :  8  Other DTs :  0  No wins :  1\n",
        "Wins : \n",
        " DT10 :  4  Other DTs :  1  No wins :  4\n",
        "Wins : \n",
        " DT10 :  8  Other DTs :  0  No wins :  1\n",
        "Wins : \n",
        " DT10 :  8  Other DTs :  0  No wins :  1'''"
      ],
      "execution_count": 0,
      "outputs": []
    },
    {
      "cell_type": "code",
      "metadata": {
        "id": "YdOnGd5smCtO",
        "colab_type": "code",
        "colab": {}
      },
      "source": [
        "#50:50,10:90 200 games, 10,10\n",
        "'''Please enter the number of games to be played between Decision tree Classifiers : 10\n",
        "Please enter the number of decision tree classifiers required for each iteration : 10\n",
        "Wins : \n",
        " DT10 :  7  Other DTs :  1  No wins :  1\n",
        "Wins : \n",
        " DT10 :  7  Other DTs :  2  No wins :  0\n",
        "Wins : \n",
        " DT10 :  8  Other DTs :  1  No wins :  0\n",
        "Wins : \n",
        " DT10 :  8  Other DTs :  0  No wins :  1\n",
        "Wins : \n",
        " DT10 :  5  Other DTs :  1  No wins :  3\n",
        "Wins : \n",
        " DT10 :  8  Other DTs :  0  No wins :  1\n",
        "Wins : \n",
        " DT10 :  7  Other DTs :  1  No wins :  1\n",
        "Wins : \n",
        " DT10 :  7  Other DTs :  2  No wins :  0\n",
        "Wins : \n",
        " DT10 :  6  Other DTs :  3  No wins :  0\n",
        "Wins : \n",
        " DT10 :  5  Other DTs :  0  No wins :  4'''"
      ],
      "execution_count": 0,
      "outputs": []
    },
    {
      "cell_type": "code",
      "metadata": {
        "id": "6n6UJtI0l1gR",
        "colab_type": "code",
        "colab": {}
      },
      "source": [
        "#10:20,500,10,10\n",
        "'''Please enter the number of games to be played between Decision tree Classifiers : 10\n",
        "Please enter the number of decision tree classifiers required for each iteration : 10\n",
        "Wins : \n",
        " DT10 :  6  Other DTs :  1  No wins :  2\n",
        "Wins : \n",
        " DT10 :  4  Other DTs :  1  No wins :  4\n",
        "Wins : \n",
        " DT10 :  5  Other DTs :  2  No wins :  2\n",
        "Wins : \n",
        " DT10 :  6  Other DTs :  1  No wins :  2\n",
        "Wins : \n",
        " DT10 :  8  Other DTs :  0  No wins :  1\n",
        "Wins : \n",
        " DT10 :  4  Other DTs :  3  No wins :  2\n",
        "Wins : \n",
        " DT10 :  5  Other DTs :  2  No wins :  2\n",
        "Wins : \n",
        " DT10 :  3  Other DTs :  4  No wins :  2\n",
        "Wins : \n",
        " DT10 :  7  Other DTs :  1  No wins :  1\n",
        "Wins : \n",
        " DT10 :  7  Other DTs :  0  No wins :  2'''"
      ],
      "execution_count": 0,
      "outputs": []
    },
    {
      "cell_type": "code",
      "metadata": {
        "id": "VGShJtTdjzE4",
        "colab_type": "code",
        "colab": {}
      },
      "source": [
        "#5:500, 2000, 10,10\n",
        "'''Please enter the number of games to be played between Decision tree Classifiers : 10\n",
        "Please enter the number of decision tree classifiers required for each iteration : 10\n",
        "Wins : \n",
        " DT10 :  7  Other DTs :  2  No wins :  0\n",
        "Wins : \n",
        " DT10 :  9  Other DTs :  0  No wins :  0\n",
        "Wins : \n",
        " DT10 :  8  Other DTs :  1  No wins :  0\n",
        "Wins : \n",
        " DT10 :  9  Other DTs :  0  No wins :  0\n",
        "Wins : \n",
        " DT10 :  4  Other DTs :  3  No wins :  2'''"
      ],
      "execution_count": 0,
      "outputs": []
    },
    {
      "cell_type": "code",
      "metadata": {
        "id": "K3v6eh6rnika",
        "colab_type": "code",
        "colab": {}
      },
      "source": [
        "''' 10: 1000 ; 2000 runs.\n",
        "Wins : \n",
        " DT10 :  9  Other DTs :  0  No wins :  0\n",
        "Wins : \n",
        " DT10 :  7  Other DTs :  2  No wins :  0\n",
        "Wins : \n",
        " DT10 :  8  Other DTs :  1  No wins :  0\n",
        "Wins : \n",
        " DT10 :  8  Other DTs :  0  No wins :  1\n",
        "Wins : \n",
        " DT10 :  8  Other DTs :  1  No wins :  0\n",
        "Wins : \n",
        " DT10 :  7  Other DTs :  2  No wins :  0\n",
        "Wins : \n",
        " DT10 :  6  Other DTs :  3  No wins :  0\n",
        "Wins : \n",
        " DT10 :  7  Other DTs :  2  No wins :  0\n",
        " '''"
      ],
      "execution_count": 0,
      "outputs": []
    },
    {
      "cell_type": "code",
      "metadata": {
        "id": "RTMhMMpFMhLo",
        "colab_type": "code",
        "colab": {}
      },
      "source": [
        "#Download the Dataset to be processed in Assignment 2\n",
        "#2000*10= 20000; 20000-2000=18000 rows if nobody wins for all games.\n",
        "#from google.colab import files\n",
        "#datatbp.to_csv('CE888_DataToBeProcessed_1900690.csv')\n",
        "#files.download('CE888_DataToBeProcessed_1900690.csv')"
      ],
      "execution_count": 0,
      "outputs": []
    },
    {
      "cell_type": "code",
      "metadata": {
        "id": "Nt6ny6ZKg93-",
        "colab_type": "code",
        "colab": {}
      },
      "source": [
        "#import os\n",
        "#print(os.getcwd())"
      ],
      "execution_count": 0,
      "outputs": []
    },
    {
      "cell_type": "code",
      "metadata": {
        "id": "7QIVKeKsgCd6",
        "colab_type": "code",
        "colab": {}
      },
      "source": [
        "#Get data set from Drive\n",
        "#Data=pd.read_csv('CE888_DataToBeProcessed_1900690_6261Wins.csv')\n",
        "#Data"
      ],
      "execution_count": 0,
      "outputs": []
    },
    {
      "cell_type": "code",
      "metadata": {
        "id": "SmDcom6amnPc",
        "colab_type": "code",
        "colab": {}
      },
      "source": [
        ""
      ],
      "execution_count": 0,
      "outputs": []
    }
  ]
}