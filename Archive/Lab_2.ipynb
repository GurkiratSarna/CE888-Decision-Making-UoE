{
  "nbformat": 4,
  "nbformat_minor": 0,
  "metadata": {
    "colab": {
      "name": "Untitled0.ipynb",
      "provenance": [],
      "collapsed_sections": [],
      "authorship_tag": "ABX9TyMRrzxVHNuWxWuZ1WP7k2BQ",
      "include_colab_link": true
    },
    "kernelspec": {
      "name": "python3",
      "display_name": "Python 3"
    }
  },
  "cells": [
    {
      "cell_type": "markdown",
      "metadata": {
        "id": "view-in-github",
        "colab_type": "text"
      },
      "source": [
        "<a href=\"https://colab.research.google.com/github/GurkiratSarna/CE888-Decision-Making-UoE/blob/master/Untitled0.ipynb\" target=\"_parent\"><img src=\"https://colab.research.google.com/assets/colab-badge.svg\" alt=\"Open In Colab\"/></a>"
      ]
    },
    {
      "cell_type": "code",
      "metadata": {
        "id": "45vlWIb8thi7",
        "colab_type": "code",
        "colab": {}
      },
      "source": [
        "import matplotlib\n",
        "import pandas as pd\n",
        "import numpy as np\n",
        "import seaborn as sbs"
      ],
      "execution_count": 0,
      "outputs": []
    },
    {
      "cell_type": "code",
      "metadata": {
        "id": "3kkWrCgivHPI",
        "colab_type": "code",
        "colab": {}
      },
      "source": [
        "# Bootstraping"
      ],
      "execution_count": 0,
      "outputs": []
    },
    {
      "cell_type": "code",
      "metadata": {
        "id": "CbyMl__Yxmmu",
        "colab_type": "code",
        "colab": {}
      },
      "source": [
        "df=pd.read_csv('https://raw.githubusercontent.com/albanda/CE888/master/lab2%20-%20bootstrap/customers.csv')"
      ],
      "execution_count": 0,
      "outputs": []
    },
    {
      "cell_type": "code",
      "metadata": {
        "id": "gyiMs6Q0zI_F",
        "colab_type": "code",
        "colab": {}
      },
      "source": [
        "data = df.values.T[1]"
      ],
      "execution_count": 0,
      "outputs": []
    },
    {
      "cell_type": "code",
      "metadata": {
        "id": "vmXw4hto0nAN",
        "colab_type": "code",
        "colab": {
          "base_uri": "https://localhost:8080/",
          "height": 34
        },
        "outputId": "053ea9e9-caf7-4c7c-828a-d48bf3811a0f"
      },
      "source": [
        "print(data)"
      ],
      "execution_count": 7,
      "outputs": [
        {
          "output_type": "stream",
          "text": [
            "[ 2.  8. 20. 13.  5.  9. 10.  8. 22. 10.  2.  4.  7.  9.]\n"
          ],
          "name": "stdout"
        }
      ]
    },
    {
      "cell_type": "code",
      "metadata": {
        "id": "_nM6zAxF2B3Q",
        "colab_type": "code",
        "colab": {
          "base_uri": "https://localhost:8080/",
          "height": 34
        },
        "outputId": "46b594bd-d457-437a-c9d9-0ab95bf6508c"
      },
      "source": [
        "data.shape"
      ],
      "execution_count": 9,
      "outputs": [
        {
          "output_type": "execute_result",
          "data": {
            "text/plain": [
              "(14,)"
            ]
          },
          "metadata": {
            "tags": []
          },
          "execution_count": 9
        }
      ]
    },
    {
      "cell_type": "code",
      "metadata": {
        "id": "L42EQasg0oNP",
        "colab_type": "code",
        "colab": {}
      },
      "source": [
        "# Checking the notes from the lecture, create here your own bootstrap function:\n",
        "# 1. Create an array of samples of shape (n_iterations, sample_size) - this creates a 2d array of num of rows different everytime\n",
        "# 2. Calculate and save the mean of the array (this is \"data_mean\" that is returned by the function)\n",
        "# 3. In each iteration:\n",
        "# 3.1 Get the data corresponding to that iteration (new_samples[iteration, :])\n",
        "# 3.2 Calculate the mean of the iteration data and store it\n",
        "# (At this point you should have an array of n_iterations values)\n",
        "# 4. Calculate the lower and upper bounds for a 95% CI (hint: check the percentile function on Numpy)\n",
        "# 5. Return data_mean, and the lower and upper bounds of your interval\n",
        "def boostrap_mean(sample, sample_size, n_iterations):\n",
        "\t# <---INSERT YOUR CODE HERE--->\n",
        "  bstraplist=np.random.choice(sample,(n_iterations,sample_size),replace=True)\n",
        "  print(bstraplist)\n",
        "  \n",
        "  data_mean=np.mean(bstraplist)\n",
        "  mean_list=[]\n",
        "  for i in range(len(bstraplist)):\n",
        "    new_sample=bstraplist[i,:]\n",
        "    sample_mean=np.mean(new_sample)\n",
        "    mean_list.append(sample_mean)\n",
        "    print(new_sample)\n",
        "    print(sample_mean)\n",
        "  print(mean_list)\n",
        "  lower=min(mean_list)\n",
        "  upper=max(mean_list)\n",
        "  print(lower,\"\\t\",upper)\n",
        "  print(data_mean)\n",
        "  print(\"----\"*20)\n",
        "\n",
        "\treturn data_mean, lower, upper"
      ],
      "execution_count": 0,
      "outputs": []
    },
    {
      "cell_type": "code",
      "metadata": {
        "id": "9RhYs8rB18pT",
        "colab_type": "code",
        "colab": {
          "base_uri": "https://localhost:8080/",
          "height": 1000
        },
        "outputId": "3a2ab84d-f700-4821-cb47-7d6b16a00fec"
      },
      "source": [
        "\n",
        "# Call your bootstrap function and plot the results\n",
        "\n",
        "boots = []\n",
        "#for i in range(100, 100000, 1000):\n",
        "for i in range(5, 10): \n",
        "    boots = boostrap_mean(data, data.shape[0], i)\n",
        "    boots.append([i, boot[0], \"mean\"])\n",
        "    boots.append([i, boot[1], \"lower\"])\n",
        "    boots.append([i, boot[2], \"upper\"])\n",
        "\n",
        "df_boot = pd.DataFrame(boots, columns=['Boostrap Iterations', 'Mean', \"Value\"])\n",
        "sns_plot = sns.lmplot(df_boot.columns[0], df_boot.columns[1], data=df_boot, fit_reg=False, hue=\"Value\")\n",
        "\n",
        "sns_plot.axes[0, 0].set_ylim(0,)\n",
        "sns_plot.axes[0, 0].set_xlim(0, 100000)\n",
        "\n",
        "#sns_plot.savefig(\"bootstrap_confidence.png\", bbox_inches='tight')\n",
        "#sns_plot.savefig(\"bootstrap_confidence.pdf\", bbox_inches='tight')"
      ],
      "execution_count": 38,
      "outputs": [
        {
          "output_type": "stream",
          "text": [
            "[[ 9. 20.  8. 10.  4. 10. 10.  2.  7. 10.  2. 13.  9. 13.]\n",
            " [ 8. 20.  9.  7.  9.  9. 20.  7. 13. 10. 10. 10. 10.  9.]\n",
            " [ 8.  2.  2.  8.  4.  9.  9.  5.  4.  5. 10.  5.  2. 20.]\n",
            " [ 7.  8. 10.  4.  4. 10. 10. 13.  9.  2. 20. 13. 13.  2.]\n",
            " [13. 13.  5.  8.  8.  9.  9.  7.  5.  5. 10.  7. 13. 13.]]\n",
            "[ 9. 20.  8. 10.  4. 10. 10.  2.  7. 10.  2. 13.  9. 13.]\n",
            "9.071428571428571\n",
            "[ 8. 20.  9.  7.  9.  9. 20.  7. 13. 10. 10. 10. 10.  9.]\n",
            "10.785714285714286\n",
            "[ 8.  2.  2.  8.  4.  9.  9.  5.  4.  5. 10.  5.  2. 20.]\n",
            "6.642857142857143\n",
            "[ 7.  8. 10.  4.  4. 10. 10. 13.  9.  2. 20. 13. 13.  2.]\n",
            "8.928571428571429\n",
            "[13. 13.  5.  8.  8.  9.  9.  7.  5.  5. 10.  7. 13. 13.]\n",
            "8.928571428571429\n",
            "[9.071428571428571, 10.785714285714286, 6.642857142857143, 8.928571428571429, 8.928571428571429]\n",
            "6.642857142857143 \t 10.785714285714286\n",
            "8.871428571428572\n",
            "--------------------------------------------------------------------------------\n",
            "[[ 2.  2.  8.  8. 13.  7. 10.  7.  4. 22.  4. 22.  8.  2.]\n",
            " [ 5. 10. 13.  7.  7.  2.  7. 22. 13. 10. 22.  8.  2.  4.]\n",
            " [ 2.  4.  9.  8.  9. 13.  2.  4.  7. 22.  2. 13. 10.  9.]\n",
            " [ 4. 20.  9.  9.  2. 20.  8. 22.  4.  8.  9.  8.  7. 22.]\n",
            " [ 7.  8.  2.  8.  5.  2.  2. 22. 13.  5.  2. 22.  9.  9.]\n",
            " [13.  4. 10.  2. 10.  5.  9.  8.  8.  4.  2. 10. 20.  8.]]\n",
            "[ 2.  2.  8.  8. 13.  7. 10.  7.  4. 22.  4. 22.  8.  2.]\n",
            "8.5\n",
            "[ 5. 10. 13.  7.  7.  2.  7. 22. 13. 10. 22.  8.  2.  4.]\n",
            "9.428571428571429\n",
            "[ 2.  4.  9.  8.  9. 13.  2.  4.  7. 22.  2. 13. 10.  9.]\n",
            "8.142857142857142\n",
            "[ 4. 20.  9.  9.  2. 20.  8. 22.  4.  8.  9.  8.  7. 22.]\n",
            "10.857142857142858\n",
            "[ 7.  8.  2.  8.  5.  2.  2. 22. 13.  5.  2. 22.  9.  9.]\n",
            "8.285714285714286\n",
            "[13.  4. 10.  2. 10.  5.  9.  8.  8.  4.  2. 10. 20.  8.]\n",
            "8.071428571428571\n",
            "[8.5, 9.428571428571429, 8.142857142857142, 10.857142857142858, 8.285714285714286, 8.071428571428571]\n",
            "8.071428571428571 \t 10.857142857142858\n",
            "8.880952380952381\n",
            "--------------------------------------------------------------------------------\n",
            "[[20. 20.  2.  9.  8. 10. 13. 13.  2. 10.  9.  2.  9.  9.]\n",
            " [10.  7. 10.  7. 22.  8.  9. 22.  9. 10. 10.  8.  8. 22.]\n",
            " [ 8.  9.  4.  8. 20. 20. 13. 10.  5.  9. 13. 13.  7.  8.]\n",
            " [ 8.  9.  8.  8.  9.  4. 10.  9.  7. 20. 20.  7. 13.  8.]\n",
            " [10.  9.  5.  2. 20. 20.  8.  2.  5.  7.  7. 10. 20. 10.]\n",
            " [ 8.  7.  2. 20. 10.  9.  9.  2.  2. 10.  4.  2. 13. 10.]\n",
            " [ 9. 10. 10.  8.  2. 20.  5.  9.  8.  9.  8.  5.  8.  2.]]\n",
            "[20. 20.  2.  9.  8. 10. 13. 13.  2. 10.  9.  2.  9.  9.]\n",
            "9.714285714285714\n",
            "[10.  7. 10.  7. 22.  8.  9. 22.  9. 10. 10.  8.  8. 22.]\n",
            "11.571428571428571\n",
            "[ 8.  9.  4.  8. 20. 20. 13. 10.  5.  9. 13. 13.  7.  8.]\n",
            "10.5\n",
            "[ 8.  9.  8.  8.  9.  4. 10.  9.  7. 20. 20.  7. 13.  8.]\n",
            "10.0\n",
            "[10.  9.  5.  2. 20. 20.  8.  2.  5.  7.  7. 10. 20. 10.]\n",
            "9.642857142857142\n",
            "[ 8.  7.  2. 20. 10.  9.  9.  2.  2. 10.  4.  2. 13. 10.]\n",
            "7.714285714285714\n",
            "[ 9. 10. 10.  8.  2. 20.  5.  9.  8.  9.  8.  5.  8.  2.]\n",
            "8.071428571428571\n",
            "[9.714285714285714, 11.571428571428571, 10.5, 10.0, 9.642857142857142, 7.714285714285714, 8.071428571428571]\n",
            "7.714285714285714 \t 11.571428571428571\n",
            "9.60204081632653\n",
            "--------------------------------------------------------------------------------\n",
            "[[ 8. 10.  2. 20.  9.  7.  9.  9.  8.  9. 10.  2.  8. 20.]\n",
            " [ 2.  4. 10. 20. 10.  7.  2. 10.  4. 10. 22. 10.  7. 22.]\n",
            " [13.  2.  2.  9.  9.  8.  2.  5.  8.  8.  2.  2. 13. 20.]\n",
            " [ 9. 10. 10.  8.  9.  2.  8.  2. 20.  9.  9.  9. 20.  9.]\n",
            " [22. 20.  9. 20. 22.  5.  2.  8.  7. 10.  8.  4.  2. 10.]\n",
            " [13.  4.  7.  8.  9.  4.  7.  4.  7.  7.  8. 22.  9.  2.]\n",
            " [ 8. 10. 13.  4.  4. 20.  8.  7.  2. 10.  8.  9. 20.  2.]\n",
            " [20. 10.  4.  2. 20.  5. 13.  7.  7. 13.  8.  2.  4. 20.]]\n",
            "[ 8. 10.  2. 20.  9.  7.  9.  9.  8.  9. 10.  2.  8. 20.]\n",
            "9.357142857142858\n",
            "[ 2.  4. 10. 20. 10.  7.  2. 10.  4. 10. 22. 10.  7. 22.]\n",
            "10.0\n",
            "[13.  2.  2.  9.  9.  8.  2.  5.  8.  8.  2.  2. 13. 20.]\n",
            "7.357142857142857\n",
            "[ 9. 10. 10.  8.  9.  2.  8.  2. 20.  9.  9.  9. 20.  9.]\n",
            "9.571428571428571\n",
            "[22. 20.  9. 20. 22.  5.  2.  8.  7. 10.  8.  4.  2. 10.]\n",
            "10.642857142857142\n",
            "[13.  4.  7.  8.  9.  4.  7.  4.  7.  7.  8. 22.  9.  2.]\n",
            "7.928571428571429\n",
            "[ 8. 10. 13.  4.  4. 20.  8.  7.  2. 10.  8.  9. 20.  2.]\n",
            "8.928571428571429\n",
            "[20. 10.  4.  2. 20.  5. 13.  7.  7. 13.  8.  2.  4. 20.]\n",
            "9.642857142857142\n",
            "[9.357142857142858, 10.0, 7.357142857142857, 9.571428571428571, 10.642857142857142, 7.928571428571429, 8.928571428571429, 9.642857142857142]\n",
            "7.357142857142857 \t 10.642857142857142\n",
            "9.178571428571429\n",
            "--------------------------------------------------------------------------------\n",
            "[[ 2. 22.  5. 10.  8.  2.  9. 22. 10.  8.  8.  9.  8.  8.]\n",
            " [10.  8.  2. 22. 10.  9. 20. 22.  9. 13.  4.  8.  2.  5.]\n",
            " [ 2.  4.  9.  8.  8.  9.  4. 10. 10.  8. 20. 20.  8.  7.]\n",
            " [ 2.  8.  5. 10.  2. 13.  4.  2.  8.  8.  4.  5. 20.  7.]\n",
            " [22.  2. 10. 20.  4.  8.  7.  7.  9.  4.  8.  8.  8. 13.]\n",
            " [ 4.  9.  8. 13.  4. 10.  9.  5. 13.  2.  9.  2. 13.  8.]\n",
            " [10.  2.  5.  2.  2.  2.  5.  2.  2.  9. 22. 22.  7. 10.]\n",
            " [ 4.  5. 20.  8. 10.  5.  7. 20.  8. 20.  9.  8.  9.  7.]\n",
            " [ 4.  9. 20.  2. 22.  7. 22.  2.  7.  2. 20.  2.  9.  9.]]\n",
            "[ 2. 22.  5. 10.  8.  2.  9. 22. 10.  8.  8.  9.  8.  8.]\n",
            "9.357142857142858\n",
            "[10.  8.  2. 22. 10.  9. 20. 22.  9. 13.  4.  8.  2.  5.]\n",
            "10.285714285714286\n",
            "[ 2.  4.  9.  8.  8.  9.  4. 10. 10.  8. 20. 20.  8.  7.]\n",
            "9.071428571428571\n",
            "[ 2.  8.  5. 10.  2. 13.  4.  2.  8.  8.  4.  5. 20.  7.]\n",
            "7.0\n",
            "[22.  2. 10. 20.  4.  8.  7.  7.  9.  4.  8.  8.  8. 13.]\n",
            "9.285714285714286\n",
            "[ 4.  9.  8. 13.  4. 10.  9.  5. 13.  2.  9.  2. 13.  8.]\n",
            "7.785714285714286\n",
            "[10.  2.  5.  2.  2.  2.  5.  2.  2.  9. 22. 22.  7. 10.]\n",
            "7.285714285714286\n",
            "[ 4.  5. 20.  8. 10.  5.  7. 20.  8. 20.  9.  8.  9.  7.]\n",
            "10.0\n",
            "[ 4.  9. 20.  2. 22.  7. 22.  2.  7.  2. 20.  2.  9.  9.]\n",
            "9.785714285714286\n",
            "[9.357142857142858, 10.285714285714286, 9.071428571428571, 7.0, 9.285714285714286, 7.785714285714286, 7.285714285714286, 10.0, 9.785714285714286]\n",
            "7.0 \t 10.285714285714286\n",
            "8.873015873015873\n",
            "--------------------------------------------------------------------------------\n"
          ],
          "name": "stdout"
        }
      ]
    },
    {
      "cell_type": "code",
      "metadata": {
        "id": "yh2gvZTu5URT",
        "colab_type": "code",
        "colab": {}
      },
      "source": [
        ""
      ],
      "execution_count": 0,
      "outputs": []
    }
  ]
}