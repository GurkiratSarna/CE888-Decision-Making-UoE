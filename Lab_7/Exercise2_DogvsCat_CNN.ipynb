{
  "nbformat": 4,
  "nbformat_minor": 0,
  "metadata": {
    "colab": {
      "name": "Exercise2_DogvsCat_CNN.ipynb",
      "provenance": [],
      "authorship_tag": "ABX9TyMhCn1zJhJi5t8CkjisgRwi",
      "include_colab_link": true
    },
    "kernelspec": {
      "name": "python3",
      "display_name": "Python 3"
    }
  },
  "cells": [
    {
      "cell_type": "markdown",
      "metadata": {
        "id": "view-in-github",
        "colab_type": "text"
      },
      "source": [
        "<a href=\"https://colab.research.google.com/github/GurkiratSarna/CE888-Decision-Making-UoE/blob/master/Lab_7/Exercise2_DogvsCat_CNN.ipynb\" target=\"_parent\"><img src=\"https://colab.research.google.com/assets/colab-badge.svg\" alt=\"Open In Colab\"/></a>"
      ]
    },
    {
      "cell_type": "markdown",
      "metadata": {
        "id": "VjuK7BJ2gwH8",
        "colab_type": "text"
      },
      "source": [
        "**Dogs vs. Cats**"
      ]
    },
    {
      "cell_type": "markdown",
      "metadata": {
        "id": "cChBJkLOg06O",
        "colab_type": "text"
      },
      "source": [
        "In this competition, you'll write an algorithm to classify whether images contain either a dog or a cat. This is easy for humans, dogs, and cats. Your computer will find it a bit more difficult."
      ]
    },
    {
      "cell_type": "code",
      "metadata": {
        "id": "mUTn15ieqYa3",
        "colab_type": "code",
        "outputId": "18311f42-4dcd-4587-95bc-98c41f9351fd",
        "colab": {
          "base_uri": "https://localhost:8080/",
          "height": 204
        }
      },
      "source": [
        "!pip install kaggle"
      ],
      "execution_count": 1,
      "outputs": [
        {
          "output_type": "stream",
          "text": [
            "Requirement already satisfied: kaggle in /usr/local/lib/python3.6/dist-packages (1.5.6)\n",
            "Requirement already satisfied: certifi in /usr/local/lib/python3.6/dist-packages (from kaggle) (2019.11.28)\n",
            "Requirement already satisfied: six>=1.10 in /usr/local/lib/python3.6/dist-packages (from kaggle) (1.12.0)\n",
            "Requirement already satisfied: python-slugify in /usr/local/lib/python3.6/dist-packages (from kaggle) (4.0.0)\n",
            "Requirement already satisfied: tqdm in /usr/local/lib/python3.6/dist-packages (from kaggle) (4.38.0)\n",
            "Requirement already satisfied: requests in /usr/local/lib/python3.6/dist-packages (from kaggle) (2.21.0)\n",
            "Requirement already satisfied: urllib3<1.25,>=1.21.1 in /usr/local/lib/python3.6/dist-packages (from kaggle) (1.24.3)\n",
            "Requirement already satisfied: python-dateutil in /usr/local/lib/python3.6/dist-packages (from kaggle) (2.8.1)\n",
            "Requirement already satisfied: text-unidecode>=1.3 in /usr/local/lib/python3.6/dist-packages (from python-slugify->kaggle) (1.3)\n",
            "Requirement already satisfied: idna<2.9,>=2.5 in /usr/local/lib/python3.6/dist-packages (from requests->kaggle) (2.8)\n",
            "Requirement already satisfied: chardet<3.1.0,>=3.0.2 in /usr/local/lib/python3.6/dist-packages (from requests->kaggle) (3.0.4)\n"
          ],
          "name": "stdout"
        }
      ]
    },
    {
      "cell_type": "code",
      "metadata": {
        "id": "46GGI_VEgusc",
        "colab_type": "code",
        "outputId": "d4dd73d1-1575-41dc-baf3-7820b8e59d81",
        "colab": {
          "base_uri": "https://localhost:8080/",
          "height": 187
        }
      },
      "source": [
        "import os\n",
        "os.environ['KAGGLE_USERNAME'] = \"gurkiratsarna\" # username from the json file\n",
        "os.environ['KAGGLE_KEY'] = \"9da63a9f8502796fca053f8a0af46a58\" # key from the json file\n",
        "!kaggle competitions download -c dogs-vs-cats # api copied from kaggle"
      ],
      "execution_count": 2,
      "outputs": [
        {
          "output_type": "stream",
          "text": [
            "Warning: Looks like you're using an outdated API Version, please consider updating (server 1.5.6 / client 1.5.4)\n",
            "Downloading train.zip to /content\n",
            " 99% 537M/543M [00:04<00:00, 118MB/s]\n",
            "100% 543M/543M [00:04<00:00, 138MB/s]\n",
            "Downloading sampleSubmission.csv to /content\n",
            "  0% 0.00/86.8k [00:00<?, ?B/s]\n",
            "100% 86.8k/86.8k [00:00<00:00, 75.7MB/s]\n",
            "Downloading test1.zip to /content\n",
            " 98% 265M/271M [00:01<00:00, 145MB/s]\n",
            "100% 271M/271M [00:01<00:00, 151MB/s]\n"
          ],
          "name": "stdout"
        }
      ]
    },
    {
      "cell_type": "code",
      "metadata": {
        "id": "ju7sZ9M_hfqJ",
        "colab_type": "code",
        "colab": {
          "base_uri": "https://localhost:8080/",
          "height": 34
        },
        "outputId": "b303615c-160b-470b-b9cd-16cd0437fa6f"
      },
      "source": [
        "# Upload data\n",
        "from zipfile import ZipFile\n",
        "\n",
        "file_name = \"/content/train.zip\"\n",
        "\n",
        "with ZipFile(file_name, 'r') as zip:\n",
        "  zip.extractall()\n",
        "  print('done')"
      ],
      "execution_count": 3,
      "outputs": [
        {
          "output_type": "stream",
          "text": [
            "done\n"
          ],
          "name": "stdout"
        }
      ]
    },
    {
      "cell_type": "code",
      "metadata": {
        "id": "B95KXgsThk6s",
        "colab_type": "code",
        "colab": {
          "base_uri": "https://localhost:8080/",
          "height": 34
        },
        "outputId": "aead15b6-3d99-418d-a0d2-5d47b1bd29d8"
      },
      "source": [
        "data_dir_list = os.listdir('/content/train')\n",
        "#print(data_dir_list)\n",
        "\n",
        "path, dirs, files = next(os.walk(\"/content/train\"))\n",
        "file_count = len(files)\n",
        "print(file_count)"
      ],
      "execution_count": 4,
      "outputs": [
        {
          "output_type": "stream",
          "text": [
            "25000\n"
          ],
          "name": "stdout"
        }
      ]
    },
    {
      "cell_type": "code",
      "metadata": {
        "id": "BOAIEEAEhnqj",
        "colab_type": "code",
        "colab": {}
      },
      "source": [
        "original_dataset_dir = '/content/train'\n",
        "base_dir2 = '/content/cats_and_dogs_small'\n",
        "os.mkdir(base_dir2)"
      ],
      "execution_count": 0,
      "outputs": []
    },
    {
      "cell_type": "code",
      "metadata": {
        "id": "Aox0FKzVhsRg",
        "colab_type": "code",
        "colab": {}
      },
      "source": [
        "train_dir2 = os.path.join(base_dir2, 'train')\n",
        "os.mkdir(train_dir2)\n",
        "\n",
        "validation_dir2 = os.path.join(base_dir2, 'validation')\n",
        "os.mkdir(validation_dir2)\n",
        "\n",
        "test_dir2 = os.path.join(base_dir2, 'test')\n",
        "os.mkdir(test_dir2)\n",
        "\n",
        "train_cats_dir2 = os.path.join(train_dir2, 'cats')\n",
        "os.mkdir(train_cats_dir2)\n",
        "\n",
        "train_dogs_dir2 = os.path.join(train_dir2, 'dogs')\n",
        "os.mkdir(train_dogs_dir2)\n",
        "\n",
        "validation_cats_dir2 = os.path.join(validation_dir2, 'cats')\n",
        "os.mkdir(validation_cats_dir2)\n",
        "\n",
        "validation_dogs_dir2 = os.path.join(validation_dir2, 'dogs')\n",
        "os.mkdir(validation_dogs_dir2)\n",
        "\n",
        "test_cats_dir2 = os.path.join(test_dir2, 'cats')\n",
        "os.mkdir(test_cats_dir2)\n",
        "\n",
        "test_dogs_dir2 = os.path.join(test_dir2, 'dogs')\n",
        "os.mkdir(test_dogs_dir2)"
      ],
      "execution_count": 0,
      "outputs": []
    }
  ]
}