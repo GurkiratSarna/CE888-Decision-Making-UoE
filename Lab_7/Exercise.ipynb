{
  "nbformat": 4,
  "nbformat_minor": 0,
  "metadata": {
    "colab": {
      "name": "Exercise.ipynb",
      "provenance": [],
      "authorship_tag": "ABX9TyPZ0CyoLzQ/7Cyx6NVHdGag",
      "include_colab_link": true
    },
    "kernelspec": {
      "name": "python3",
      "display_name": "Python 3"
    }
  },
  "cells": [
    {
      "cell_type": "markdown",
      "metadata": {
        "id": "view-in-github",
        "colab_type": "text"
      },
      "source": [
        "<a href=\"https://colab.research.google.com/github/GurkiratSarna/CE888-Decision-Making-UoE/blob/master/Lab_7/Exercise.ipynb\" target=\"_parent\"><img src=\"https://colab.research.google.com/assets/colab-badge.svg\" alt=\"Open In Colab\"/></a>"
      ]
    },
    {
      "cell_type": "markdown",
      "metadata": {
        "id": "RsoLObuIMZia",
        "colab_type": "text"
      },
      "source": [
        "We perform CNN on a datset taken from Kaggle. The datset had 8 folders but we have picked only 3 folders - airplane, car and motorbike."
      ]
    },
    {
      "cell_type": "code",
      "metadata": {
        "id": "IP3DSjA3JSqq",
        "colab_type": "code",
        "colab": {}
      },
      "source": [
        "from google.colab import files\n",
        "\n",
        "#Delete the folders from colab\n",
        "#!rm -rf natural_images\n",
        "!rm -rf natural_images_ttv\n",
        "#!rm -rf natural_images.zip"
      ],
      "execution_count": 0,
      "outputs": []
    },
    {
      "cell_type": "code",
      "metadata": {
        "id": "Qr0vkNayziaN",
        "colab_type": "code",
        "outputId": "0f5c8d15-038d-4d2e-f783-dfcaa62a11fd",
        "colab": {
          "base_uri": "https://localhost:8080/",
          "height": 34
        }
      },
      "source": [
        "#check current directory\n",
        "import os\n",
        "os.getcwd()"
      ],
      "execution_count": 45,
      "outputs": [
        {
          "output_type": "execute_result",
          "data": {
            "text/plain": [
              "'/content'"
            ]
          },
          "metadata": {
            "tags": []
          },
          "execution_count": 45
        }
      ]
    },
    {
      "cell_type": "code",
      "metadata": {
        "id": "E0FboGfeLn-K",
        "colab_type": "code",
        "colab": {
          "base_uri": "https://localhost:8080/",
          "height": 207
        },
        "outputId": "135449c3-8297-4292-aac1-cc547796b2c2"
      },
      "source": [
        "#Unrar the manually loaded file\n",
        "!pip install patool\n",
        "import patoolib\n",
        "patoolib.extract_archive(\"natural_images.rar\", outdir=\"/content\")"
      ],
      "execution_count": 21,
      "outputs": [
        {
          "output_type": "stream",
          "text": [
            "Collecting patool\n",
            "\u001b[?25l  Downloading https://files.pythonhosted.org/packages/43/94/52243ddff508780dd2d8110964320ab4851134a55ab102285b46e740f76a/patool-1.12-py2.py3-none-any.whl (77kB)\n",
            "\r\u001b[K     |████▎                           | 10kB 18.5MB/s eta 0:00:01\r\u001b[K     |████████▌                       | 20kB 1.8MB/s eta 0:00:01\r\u001b[K     |████████████▊                   | 30kB 2.3MB/s eta 0:00:01\r\u001b[K     |█████████████████               | 40kB 1.7MB/s eta 0:00:01\r\u001b[K     |█████████████████████▏          | 51kB 1.9MB/s eta 0:00:01\r\u001b[K     |█████████████████████████▍      | 61kB 2.2MB/s eta 0:00:01\r\u001b[K     |█████████████████████████████▋  | 71kB 2.5MB/s eta 0:00:01\r\u001b[K     |████████████████████████████████| 81kB 2.3MB/s \n",
            "\u001b[?25hInstalling collected packages: patool\n",
            "Successfully installed patool-1.12\n",
            "patool: Extracting natural_images.rar ...\n",
            "patool: running /usr/bin/unrar x -- /content/natural_images.rar\n",
            "patool:     with cwd='/content'\n",
            "patool: ... natural_images.rar extracted to `/content'.\n"
          ],
          "name": "stdout"
        },
        {
          "output_type": "execute_result",
          "data": {
            "text/plain": [
              "'/content'"
            ]
          },
          "metadata": {
            "tags": []
          },
          "execution_count": 21
        }
      ]
    },
    {
      "cell_type": "code",
      "metadata": {
        "id": "1I7nVk3F0-KB",
        "colab_type": "code",
        "colab": {}
      },
      "source": [
        "#Unzip the manually loaded file - not needed for now\n",
        "'''from zipfile import ZipFile\n",
        "\n",
        "file_name = \"/content/natural_images.zip\" # data is availbale in github\n",
        "\n",
        "with ZipFile(file_name, 'r') as zip:\n",
        "  zip.extractall()\n",
        "  print('done')'''"
      ],
      "execution_count": 0,
      "outputs": []
    },
    {
      "cell_type": "code",
      "metadata": {
        "id": "crNXSzFz1Nu5",
        "colab_type": "code",
        "outputId": "9c896966-9586-4799-95e2-6e225eb23980",
        "colab": {
          "base_uri": "https://localhost:8080/",
          "height": 34
        }
      },
      "source": [
        "#data_dir_list = os.listdir('/content/natural_images')\n",
        "#print(data_dir_list)\n",
        "\n",
        "#Number of airplane files\n",
        "path_a, dirs_a, files_a = next(os.walk(\"/content/natural_images/airplane\")) \n",
        "file_count_a = len(files_a)\n",
        "print(file_count_a)"
      ],
      "execution_count": 40,
      "outputs": [
        {
          "output_type": "stream",
          "text": [
            "727\n"
          ],
          "name": "stdout"
        }
      ]
    },
    {
      "cell_type": "code",
      "metadata": {
        "id": "IZrc6PNoL6V9",
        "colab_type": "code",
        "outputId": "0f161b48-3d9a-4bf2-bd01-337c6c62c60e",
        "colab": {
          "base_uri": "https://localhost:8080/",
          "height": 34
        }
      },
      "source": [
        "#Number of car files\n",
        "path_c, dirs_c, files_c = next(os.walk(\"/content/natural_images/car\")) \n",
        "file_count_c = len(files_c)\n",
        "print(file_count_c)"
      ],
      "execution_count": 38,
      "outputs": [
        {
          "output_type": "stream",
          "text": [
            "968\n"
          ],
          "name": "stdout"
        }
      ]
    },
    {
      "cell_type": "code",
      "metadata": {
        "id": "fzkBo-pfMRA2",
        "colab_type": "code",
        "colab": {
          "base_uri": "https://localhost:8080/",
          "height": 34
        },
        "outputId": "22f26001-7693-4b3e-fac1-a618705355d3"
      },
      "source": [
        "#Number of motorbike files\n",
        "path_m, dirs_m, files_m = next(os.walk(\"/content/natural_images/motorbike\")) \n",
        "file_count_m = len(files_m)\n",
        "print(file_count_m)"
      ],
      "execution_count": 39,
      "outputs": [
        {
          "output_type": "stream",
          "text": [
            "788\n"
          ],
          "name": "stdout"
        }
      ]
    },
    {
      "cell_type": "code",
      "metadata": {
        "id": "hZR3aryq1l_y",
        "colab_type": "code",
        "colab": {}
      },
      "source": [
        "#Define orginal directory and the base directory where train, test and validation folders will be created.\n",
        "original_dataset_dir = '/content/natural_images'\n",
        "base_dir = '/content/natural_images_ttv'\n",
        "os.mkdir(base_dir)"
      ],
      "execution_count": 0,
      "outputs": []
    },
    {
      "cell_type": "code",
      "metadata": {
        "id": "uT7SgvS4NHUu",
        "colab_type": "code",
        "colab": {}
      },
      "source": [
        "#Create a train folder under the base directory\n",
        "train_dir = os.path.join(base_dir, 'train')\n",
        "os.mkdir(train_dir)\n",
        "\n",
        "#Create a validation folder under the base directory\n",
        "validation_dir = os.path.join(base_dir, 'validation')\n",
        "os.mkdir(validation_dir)\n",
        "\n",
        "#Create a test folder under the base directory\n",
        "test_dir = os.path.join(base_dir, 'test')\n",
        "os.mkdir(test_dir)\n",
        "\n",
        "#Create an airplane folder under the train folder\n",
        "train_airplane_dir = os.path.join(train_dir, 'airplane')\n",
        "os.mkdir(train_airplane_dir)\n",
        "\n",
        "#Create a car folder under the train folder\n",
        "train_car_dir = os.path.join(train_dir, 'car')\n",
        "os.mkdir(train_car_dir)\n",
        "\n",
        "#Create a motorbike folder under the train folder\n",
        "train_motorbike_dir = os.path.join(train_dir, 'motorbike')\n",
        "os.mkdir(train_motorbike_dir)\n",
        "\n",
        "#Create an airplane folder under the validation folder\n",
        "validation_airplane_dir = os.path.join(validation_dir, 'airplane')\n",
        "os.mkdir(validation_airplane_dir)\n",
        "\n",
        "#Create a car folder under the validation folder\n",
        "validation_car_dir = os.path.join(validation_dir, 'car')\n",
        "os.mkdir(validation_car_dir)\n",
        "\n",
        "#Create a motorbike folder under the validation folder\n",
        "validation_motorbike_dir = os.path.join(validation_dir, 'motorbike')\n",
        "os.mkdir(validation_motorbike_dir)\n",
        "\n",
        "#Create an airplane folder under the test folder\n",
        "test_airplane_dir = os.path.join(test_dir, 'airplane')\n",
        "os.mkdir(test_airplane_dir)\n",
        "\n",
        "#Create a car folder under the test folder\n",
        "test_car_dir = os.path.join(test_dir, 'car')\n",
        "os.mkdir(test_car_dir)\n",
        "\n",
        "#Create a motorbike folder under the test folder\n",
        "test_motorbike_dir = os.path.join(test_dir, 'motorbike')\n",
        "os.mkdir(test_motorbike_dir)"
      ],
      "execution_count": 0,
      "outputs": []
    },
    {
      "cell_type": "code",
      "metadata": {
        "id": "x_uHKoaIN0yB",
        "colab_type": "code",
        "colab": {}
      },
      "source": [
        "import shutil"
      ],
      "execution_count": 0,
      "outputs": []
    },
    {
      "cell_type": "markdown",
      "metadata": {
        "id": "UlD3u4i5P4_y",
        "colab_type": "text"
      },
      "source": [
        "Dividing 80% for train and 10% for validation and 10% for test\n"
      ]
    },
    {
      "cell_type": "code",
      "metadata": {
        "id": "pza1FtrXfHxn",
        "colab_type": "code",
        "colab": {}
      },
      "source": [
        "original_dataset_dir_a = '/content/natural_images/airplane'\n",
        "fnames = ['airplane_{}.jpg'.format(str(i).zfill(4)) for i in range(581)]\n",
        "for fname in fnames:\n",
        "    src = os.path.join(original_dataset_dir_a, fname)\n",
        "    dst = os.path.join(train_airplane_dir, fname)\n",
        "    #print(src,dst)\n",
        "    shutil.copyfile(src, dst)\n",
        "    \n",
        "fnames = ['airplane_{}.jpg'.format(str(i).zfill(4)) for i in range(581, 654)]\n",
        "for fname in fnames:\n",
        "    src = os.path.join(original_dataset_dir_a, fname)\n",
        "    dst = os.path.join(validation_airplane_dir, fname)\n",
        "    shutil.copyfile(src, dst)\n",
        "\n",
        "fnames = ['airplane_{}.jpg'.format(str(i).zfill(4)) for i in range(654, 727)]\n",
        "for fname in fnames:\n",
        "    src = os.path.join(original_dataset_dir_a, fname)\n",
        "    dst = os.path.join(test_airplane_dir, fname)\n",
        "    shutil.copyfile(src, dst)"
      ],
      "execution_count": 0,
      "outputs": []
    },
    {
      "cell_type": "code",
      "metadata": {
        "id": "c4figqdUfiTH",
        "colab_type": "code",
        "colab": {}
      },
      "source": [
        "original_dataset_dir_c = '/content/natural_images/car'    \n",
        "fnames = ['car_{}.jpg'.format(str(i).zfill(4)) for i in range(774)]\n",
        "for fname in fnames:\n",
        "    src = os.path.join(original_dataset_dir_c, fname)\n",
        "    dst = os.path.join(train_car_dir, fname)\n",
        "    shutil.copyfile(src, dst)\n",
        "\n",
        "fnames = ['car_{}.jpg'.format(str(i).zfill(4)) for i in range(775, 871)]\n",
        "for fname in fnames:\n",
        "    src = os.path.join(original_dataset_dir_c, fname)\n",
        "    dst = os.path.join(validation_car_dir, fname)\n",
        "    shutil.copyfile(src, dst)\n",
        "\n",
        "fnames = ['car_{}.jpg'.format(str(i).zfill(4)) for i in range(872, 968)]\n",
        "for fname in fnames:\n",
        "    src = os.path.join(original_dataset_dir_c, fname)\n",
        "    dst = os.path.join(test_car_dir, fname)\n",
        "    shutil.copyfile(src, dst)"
      ],
      "execution_count": 0,
      "outputs": []
    },
    {
      "cell_type": "code",
      "metadata": {
        "id": "GwK8XM4Hfmux",
        "colab_type": "code",
        "colab": {}
      },
      "source": [
        "original_dataset_dir_m = '/content/natural_images/motorbike' \n",
        "fnames = ['motorbike_{}.jpg'.format(str(i).zfill(4)) for i in range(630)]\n",
        "for fname in fnames:\n",
        "    src = os.path.join(original_dataset_dir_m, fname)\n",
        "    dst = os.path.join(train_motorbike_dir, fname)\n",
        "    shutil.copyfile(src, dst)\n",
        "\n",
        "fnames = ['motorbike_{}.jpg'.format(str(i).zfill(4)) for i in range(631, 709)]\n",
        "for fname in fnames:\n",
        "    src = os.path.join(original_dataset_dir_m, fname)\n",
        "    dst = os.path.join(validation_motorbike_dir, fname)\n",
        "    shutil.copyfile(src, dst)\n",
        "\n",
        "fnames = ['motorbike_{}.jpg'.format(str(i).zfill(4)) for i in range(710, 788)]\n",
        "for fname in fnames:\n",
        "    src = os.path.join(original_dataset_dir_m, fname)\n",
        "    dst = os.path.join(test_motorbike_dir, fname)\n",
        "    shutil.copyfile(src, dst)"
      ],
      "execution_count": 0,
      "outputs": []
    },
    {
      "cell_type": "code",
      "metadata": {
        "id": "dVlsyd8yXznJ",
        "colab_type": "code",
        "colab": {
          "base_uri": "https://localhost:8080/",
          "height": 170
        },
        "outputId": "6708929d-7f0f-40ef-e8a5-1a1e3c85cf1a"
      },
      "source": [
        "print('total training airplane images:', len(os.listdir(train_airplane_dir)), 'in directory : ', train_airplane_dir)\n",
        "print('total validation airplane images:', len(os.listdir(validation_airplane_dir)), 'in directory : ', validation_airplane_dir)\n",
        "print('total test airplane images:', len(os.listdir(test_airplane_dir)), 'in directory : ', test_airplane_dir)\n",
        "\n",
        "print('total training car images:', len(os.listdir(train_car_dir)), 'in directory : ', train_car_dir)\n",
        "print('total validation car images:', len(os.listdir(validation_car_dir)), 'in directory : ', validation_car_dir)\n",
        "print('total test car images:', len(os.listdir(test_car_dir)), 'in directory : ', test_car_dir)\n",
        "\n",
        "print('total training motorbike images:', len(os.listdir(train_motorbike_dir)), 'in directory : ', train_motorbike_dir)\n",
        "print('total validation motorbike images:', len(os.listdir(validation_motorbike_dir)), 'in directory : ', validation_motorbike_dir)\n",
        "print('total test motorbike images:', len(os.listdir(test_motorbike_dir)), 'in directory : ', test_motorbike_dir)"
      ],
      "execution_count": 87,
      "outputs": [
        {
          "output_type": "stream",
          "text": [
            "total training airplane images: 581 in directory :  /content/natural_images_ttv/train/airplane\n",
            "total validation airplane images: 73 in directory :  /content/natural_images_ttv/validation/airplane\n",
            "total test airplane images: 73 in directory :  /content/natural_images_ttv/test/airplane\n",
            "total training car images: 0 in directory :  /content/natural_images_ttv/train/car\n",
            "total validation car images: 0 in directory :  /content/natural_images_ttv/validation/car\n",
            "total test car images: 0 in directory :  /content/natural_images_ttv/test/car\n",
            "total training motorbike images: 0 in directory :  /content/natural_images_ttv/train/motorbike\n",
            "total validation motorbike images: 0 in directory :  /content/natural_images_ttv/validation/motorbike\n",
            "total test motorbike images: 0 in directory :  /content/natural_images_ttv/test/motorbike\n"
          ],
          "name": "stdout"
        }
      ]
    }
  ]
}