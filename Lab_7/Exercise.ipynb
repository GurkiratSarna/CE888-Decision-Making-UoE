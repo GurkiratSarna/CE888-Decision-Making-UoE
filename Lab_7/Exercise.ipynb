{
  "nbformat": 4,
  "nbformat_minor": 0,
  "metadata": {
    "colab": {
      "name": "Exercise.ipynb",
      "provenance": [],
      "authorship_tag": "ABX9TyPXTSWeNppMDP/oP2kqkkpV",
      "include_colab_link": true
    },
    "kernelspec": {
      "name": "python3",
      "display_name": "Python 3"
    }
  },
  "cells": [
    {
      "cell_type": "markdown",
      "metadata": {
        "id": "view-in-github",
        "colab_type": "text"
      },
      "source": [
        "<a href=\"https://colab.research.google.com/github/GurkiratSarna/CE888-Decision-Making-UoE/blob/master/Lab_7/Exercise.ipynb\" target=\"_parent\"><img src=\"https://colab.research.google.com/assets/colab-badge.svg\" alt=\"Open In Colab\"/></a>"
      ]
    },
    {
      "cell_type": "markdown",
      "metadata": {
        "id": "RsoLObuIMZia",
        "colab_type": "text"
      },
      "source": [
        "We perform CNN on a datset taken from Kaggle https://www.kaggle.com/prasunroy/natural-images. The datset had 8 folders but we have picked only 3 folders - airplane, car and motorbike."
      ]
    },
    {
      "cell_type": "code",
      "metadata": {
        "id": "IP3DSjA3JSqq",
        "colab_type": "code",
        "colab": {}
      },
      "source": [
        "from google.colab import files\n",
        "\n",
        "#Delete the folders from colab\n",
        "#!rm -rf natural_images\n",
        "#!rm -rf natural_images_ttv\n",
        "#!rm -rf natural_images.zip"
      ],
      "execution_count": 0,
      "outputs": []
    },
    {
      "cell_type": "code",
      "metadata": {
        "id": "Qr0vkNayziaN",
        "colab_type": "code",
        "outputId": "0f5c8d15-038d-4d2e-f783-dfcaa62a11fd",
        "colab": {
          "base_uri": "https://localhost:8080/",
          "height": 34
        }
      },
      "source": [
        "#check current directory\n",
        "import os\n",
        "os.getcwd()"
      ],
      "execution_count": 45,
      "outputs": [
        {
          "output_type": "execute_result",
          "data": {
            "text/plain": [
              "'/content'"
            ]
          },
          "metadata": {
            "tags": []
          },
          "execution_count": 45
        }
      ]
    },
    {
      "cell_type": "code",
      "metadata": {
        "id": "E0FboGfeLn-K",
        "colab_type": "code",
        "colab": {
          "base_uri": "https://localhost:8080/",
          "height": 207
        },
        "outputId": "135449c3-8297-4292-aac1-cc547796b2c2"
      },
      "source": [
        "#Unrar the manually loaded file\n",
        "!pip install patool\n",
        "import patoolib\n",
        "patoolib.extract_archive(\"natural_images.rar\", outdir=\"/content\")"
      ],
      "execution_count": 21,
      "outputs": [
        {
          "output_type": "stream",
          "text": [
            "Collecting patool\n",
            "\u001b[?25l  Downloading https://files.pythonhosted.org/packages/43/94/52243ddff508780dd2d8110964320ab4851134a55ab102285b46e740f76a/patool-1.12-py2.py3-none-any.whl (77kB)\n",
            "\r\u001b[K     |████▎                           | 10kB 18.5MB/s eta 0:00:01\r\u001b[K     |████████▌                       | 20kB 1.8MB/s eta 0:00:01\r\u001b[K     |████████████▊                   | 30kB 2.3MB/s eta 0:00:01\r\u001b[K     |█████████████████               | 40kB 1.7MB/s eta 0:00:01\r\u001b[K     |█████████████████████▏          | 51kB 1.9MB/s eta 0:00:01\r\u001b[K     |█████████████████████████▍      | 61kB 2.2MB/s eta 0:00:01\r\u001b[K     |█████████████████████████████▋  | 71kB 2.5MB/s eta 0:00:01\r\u001b[K     |████████████████████████████████| 81kB 2.3MB/s \n",
            "\u001b[?25hInstalling collected packages: patool\n",
            "Successfully installed patool-1.12\n",
            "patool: Extracting natural_images.rar ...\n",
            "patool: running /usr/bin/unrar x -- /content/natural_images.rar\n",
            "patool:     with cwd='/content'\n",
            "patool: ... natural_images.rar extracted to `/content'.\n"
          ],
          "name": "stdout"
        },
        {
          "output_type": "execute_result",
          "data": {
            "text/plain": [
              "'/content'"
            ]
          },
          "metadata": {
            "tags": []
          },
          "execution_count": 21
        }
      ]
    },
    {
      "cell_type": "code",
      "metadata": {
        "id": "1I7nVk3F0-KB",
        "colab_type": "code",
        "colab": {}
      },
      "source": [
        "#Unzip the manually loaded file - not needed for now\n",
        "'''from zipfile import ZipFile\n",
        "\n",
        "file_name = \"/content/natural_images.zip\" # data is availbale in github\n",
        "\n",
        "with ZipFile(file_name, 'r') as zip:\n",
        "  zip.extractall()\n",
        "  print('done')'''"
      ],
      "execution_count": 0,
      "outputs": []
    },
    {
      "cell_type": "code",
      "metadata": {
        "id": "crNXSzFz1Nu5",
        "colab_type": "code",
        "outputId": "9c896966-9586-4799-95e2-6e225eb23980",
        "colab": {
          "base_uri": "https://localhost:8080/",
          "height": 34
        }
      },
      "source": [
        "#data_dir_list = os.listdir('/content/natural_images')\n",
        "#print(data_dir_list)\n",
        "\n",
        "#Number of airplane files\n",
        "path_a, dirs_a, files_a = next(os.walk(\"/content/natural_images/airplane\")) \n",
        "file_count_a = len(files_a)\n",
        "print(file_count_a)"
      ],
      "execution_count": 40,
      "outputs": [
        {
          "output_type": "stream",
          "text": [
            "727\n"
          ],
          "name": "stdout"
        }
      ]
    },
    {
      "cell_type": "code",
      "metadata": {
        "id": "IZrc6PNoL6V9",
        "colab_type": "code",
        "outputId": "0f161b48-3d9a-4bf2-bd01-337c6c62c60e",
        "colab": {
          "base_uri": "https://localhost:8080/",
          "height": 34
        }
      },
      "source": [
        "#Number of car files\n",
        "path_c, dirs_c, files_c = next(os.walk(\"/content/natural_images/car\")) \n",
        "file_count_c = len(files_c)\n",
        "print(file_count_c)"
      ],
      "execution_count": 38,
      "outputs": [
        {
          "output_type": "stream",
          "text": [
            "968\n"
          ],
          "name": "stdout"
        }
      ]
    },
    {
      "cell_type": "code",
      "metadata": {
        "id": "fzkBo-pfMRA2",
        "colab_type": "code",
        "colab": {
          "base_uri": "https://localhost:8080/",
          "height": 34
        },
        "outputId": "22f26001-7693-4b3e-fac1-a618705355d3"
      },
      "source": [
        "#Number of motorbike files\n",
        "path_m, dirs_m, files_m = next(os.walk(\"/content/natural_images/motorbike\")) \n",
        "file_count_m = len(files_m)\n",
        "print(file_count_m)"
      ],
      "execution_count": 39,
      "outputs": [
        {
          "output_type": "stream",
          "text": [
            "788\n"
          ],
          "name": "stdout"
        }
      ]
    },
    {
      "cell_type": "code",
      "metadata": {
        "id": "hZR3aryq1l_y",
        "colab_type": "code",
        "colab": {}
      },
      "source": [
        "#Define orginal directory and the base directory where train, test and validation folders will be created.\n",
        "original_dataset_dir = '/content/natural_images'\n",
        "base_dir = '/content/natural_images_ttv'\n",
        "os.mkdir(base_dir)"
      ],
      "execution_count": 0,
      "outputs": []
    },
    {
      "cell_type": "code",
      "metadata": {
        "id": "uT7SgvS4NHUu",
        "colab_type": "code",
        "colab": {}
      },
      "source": [
        "#Create a train folder under the base directory\n",
        "train_dir = os.path.join(base_dir, 'train')\n",
        "os.mkdir(train_dir)\n",
        "\n",
        "#Create a validation folder under the base directory\n",
        "validation_dir = os.path.join(base_dir, 'validation')\n",
        "os.mkdir(validation_dir)\n",
        "\n",
        "#Create a test folder under the base directory\n",
        "test_dir = os.path.join(base_dir, 'test')\n",
        "os.mkdir(test_dir)\n",
        "\n",
        "#Create an airplane folder under the train folder\n",
        "train_airplane_dir = os.path.join(train_dir, 'airplane')\n",
        "os.mkdir(train_airplane_dir)\n",
        "\n",
        "#Create a car folder under the train folder\n",
        "train_car_dir = os.path.join(train_dir, 'car')\n",
        "os.mkdir(train_car_dir)\n",
        "\n",
        "#Create a motorbike folder under the train folder\n",
        "train_motorbike_dir = os.path.join(train_dir, 'motorbike')\n",
        "os.mkdir(train_motorbike_dir)\n",
        "\n",
        "#Create an airplane folder under the validation folder\n",
        "validation_airplane_dir = os.path.join(validation_dir, 'airplane')\n",
        "os.mkdir(validation_airplane_dir)\n",
        "\n",
        "#Create a car folder under the validation folder\n",
        "validation_car_dir = os.path.join(validation_dir, 'car')\n",
        "os.mkdir(validation_car_dir)\n",
        "\n",
        "#Create a motorbike folder under the validation folder\n",
        "validation_motorbike_dir = os.path.join(validation_dir, 'motorbike')\n",
        "os.mkdir(validation_motorbike_dir)\n",
        "\n",
        "#Create an airplane folder under the test folder\n",
        "test_airplane_dir = os.path.join(test_dir, 'airplane')\n",
        "os.mkdir(test_airplane_dir)\n",
        "\n",
        "#Create a car folder under the test folder\n",
        "test_car_dir = os.path.join(test_dir, 'car')\n",
        "os.mkdir(test_car_dir)\n",
        "\n",
        "#Create a motorbike folder under the test folder\n",
        "test_motorbike_dir = os.path.join(test_dir, 'motorbike')\n",
        "os.mkdir(test_motorbike_dir)"
      ],
      "execution_count": 0,
      "outputs": []
    },
    {
      "cell_type": "code",
      "metadata": {
        "id": "x_uHKoaIN0yB",
        "colab_type": "code",
        "colab": {}
      },
      "source": [
        "import shutil"
      ],
      "execution_count": 0,
      "outputs": []
    },
    {
      "cell_type": "markdown",
      "metadata": {
        "id": "UlD3u4i5P4_y",
        "colab_type": "text"
      },
      "source": [
        "Dividing 80% for train and 10% for validation and 10% for test for all the classes namely airplane, car and motorbike\n"
      ]
    },
    {
      "cell_type": "code",
      "metadata": {
        "id": "pza1FtrXfHxn",
        "colab_type": "code",
        "colab": {}
      },
      "source": [
        "original_dataset_dir_a = '/content/natural_images/airplane'\n",
        "fnames = ['airplane_{}.jpg'.format(str(i).zfill(4)) for i in range(581)]\n",
        "for fname in fnames:\n",
        "    src = os.path.join(original_dataset_dir_a, fname)\n",
        "    dst = os.path.join(train_airplane_dir, fname)\n",
        "    #print(src,dst)\n",
        "    shutil.copyfile(src, dst)\n",
        "    \n",
        "fnames = ['airplane_{}.jpg'.format(str(i).zfill(4)) for i in range(581, 654)]\n",
        "for fname in fnames:\n",
        "    src = os.path.join(original_dataset_dir_a, fname)\n",
        "    dst = os.path.join(validation_airplane_dir, fname)\n",
        "    shutil.copyfile(src, dst)\n",
        "\n",
        "fnames = ['airplane_{}.jpg'.format(str(i).zfill(4)) for i in range(654, 727)]\n",
        "for fname in fnames:\n",
        "    src = os.path.join(original_dataset_dir_a, fname)\n",
        "    dst = os.path.join(test_airplane_dir, fname)\n",
        "    shutil.copyfile(src, dst)"
      ],
      "execution_count": 0,
      "outputs": []
    },
    {
      "cell_type": "code",
      "metadata": {
        "id": "c4figqdUfiTH",
        "colab_type": "code",
        "colab": {}
      },
      "source": [
        "original_dataset_dir_c = '/content/natural_images/car'    \n",
        "fnames = ['car_{}.jpg'.format(str(i).zfill(4)) for i in range(772)]\n",
        "for fname in fnames:\n",
        "    src = os.path.join(original_dataset_dir_c, fname)\n",
        "    dst = os.path.join(train_car_dir, fname)\n",
        "    shutil.copyfile(src, dst)\n",
        "\n",
        "fnames = ['car_{}.jpg'.format(str(i).zfill(4)) for i in range(772, 870)]\n",
        "for fname in fnames:\n",
        "    src = os.path.join(original_dataset_dir_c, fname)\n",
        "    dst = os.path.join(validation_car_dir, fname)\n",
        "    shutil.copyfile(src, dst)\n",
        "\n",
        "fnames = ['car_{}.jpg'.format(str(i).zfill(4)) for i in range(870, 968)]\n",
        "for fname in fnames:\n",
        "    src = os.path.join(original_dataset_dir_c, fname)\n",
        "    dst = os.path.join(test_car_dir, fname)\n",
        "    shutil.copyfile(src, dst)"
      ],
      "execution_count": 0,
      "outputs": []
    },
    {
      "cell_type": "code",
      "metadata": {
        "id": "GwK8XM4Hfmux",
        "colab_type": "code",
        "colab": {}
      },
      "source": [
        "original_dataset_dir_m = '/content/natural_images/motorbike' \n",
        "fnames = ['motorbike_{}.jpg'.format(str(i).zfill(4)) for i in range(630)]\n",
        "for fname in fnames:\n",
        "    src = os.path.join(original_dataset_dir_m, fname)\n",
        "    dst = os.path.join(train_motorbike_dir, fname)\n",
        "    shutil.copyfile(src, dst)\n",
        "\n",
        "fnames = ['motorbike_{}.jpg'.format(str(i).zfill(4)) for i in range(630, 709)]\n",
        "for fname in fnames:\n",
        "    src = os.path.join(original_dataset_dir_m, fname)\n",
        "    dst = os.path.join(validation_motorbike_dir, fname)\n",
        "    shutil.copyfile(src, dst)\n",
        "\n",
        "fnames = ['motorbike_{}.jpg'.format(str(i).zfill(4)) for i in range(709, 788)]\n",
        "for fname in fnames:\n",
        "    src = os.path.join(original_dataset_dir_m, fname)\n",
        "    dst = os.path.join(test_motorbike_dir, fname)\n",
        "    shutil.copyfile(src, dst)"
      ],
      "execution_count": 0,
      "outputs": []
    },
    {
      "cell_type": "code",
      "metadata": {
        "id": "dVlsyd8yXznJ",
        "colab_type": "code",
        "colab": {
          "base_uri": "https://localhost:8080/",
          "height": 170
        },
        "outputId": "09934eb2-4522-412a-9c0e-9abbededf64d"
      },
      "source": [
        "print('total training airplane images:', len(os.listdir(train_airplane_dir)), 'in directory : ', train_airplane_dir)\n",
        "print('total validation airplane images:', len(os.listdir(validation_airplane_dir)), 'in directory : ', validation_airplane_dir)\n",
        "print('total test airplane images:', len(os.listdir(test_airplane_dir)), 'in directory : ', test_airplane_dir)\n",
        "\n",
        "print('total training car images:', len(os.listdir(train_car_dir)), 'in directory : ', train_car_dir)\n",
        "print('total validation car images:', len(os.listdir(validation_car_dir)), 'in directory : ', validation_car_dir)\n",
        "print('total test car images:', len(os.listdir(test_car_dir)), 'in directory : ', test_car_dir)\n",
        "\n",
        "print('total training motorbike images:', len(os.listdir(train_motorbike_dir)), 'in directory : ', train_motorbike_dir)\n",
        "print('total validation motorbike images:', len(os.listdir(validation_motorbike_dir)), 'in directory : ', validation_motorbike_dir)\n",
        "print('total test motorbike images:', len(os.listdir(test_motorbike_dir)), 'in directory : ', test_motorbike_dir)"
      ],
      "execution_count": 103,
      "outputs": [
        {
          "output_type": "stream",
          "text": [
            "total training airplane images: 581 in directory :  /content/natural_images_ttv/train/airplane\n",
            "total validation airplane images: 73 in directory :  /content/natural_images_ttv/validation/airplane\n",
            "total test airplane images: 73 in directory :  /content/natural_images_ttv/test/airplane\n",
            "total training car images: 772 in directory :  /content/natural_images_ttv/train/car\n",
            "total validation car images: 98 in directory :  /content/natural_images_ttv/validation/car\n",
            "total test car images: 98 in directory :  /content/natural_images_ttv/test/car\n",
            "total training motorbike images: 630 in directory :  /content/natural_images_ttv/train/motorbike\n",
            "total validation motorbike images: 79 in directory :  /content/natural_images_ttv/validation/motorbike\n",
            "total test motorbike images: 79 in directory :  /content/natural_images_ttv/test/motorbike\n"
          ],
          "name": "stdout"
        }
      ]
    },
    {
      "cell_type": "code",
      "metadata": {
        "id": "EEiikfK8muWF",
        "colab_type": "code",
        "colab": {
          "base_uri": "https://localhost:8080/",
          "height": 746
        },
        "outputId": "210c1281-b547-4a9d-c8a4-4afed49b1b9b"
      },
      "source": [
        "from keras import layers\n",
        "from keras import models\n",
        "\n",
        "model = models.Sequential()\n",
        "model.add(layers.Conv2D(32, (3, 3), activation='relu', input_shape=(150, 150, 3)))\n",
        "model.add(layers.MaxPooling2D((2, 2)))\n",
        "model.add(layers.Conv2D(64, (3, 3), activation='relu'))\n",
        "model.add(layers.MaxPooling2D((2, 2)))\n",
        "model.add(layers.Conv2D(128, (3, 3), activation='relu'))\n",
        "model.add(layers.MaxPooling2D((2, 2)))\n",
        "model.add(layers.Conv2D(128, (3, 3), activation='relu'))\n",
        "model.add(layers.MaxPooling2D((2, 2)))\n",
        "model.add(layers.Flatten())\n",
        "model.add(layers.Dense(512, activation='relu'))\n",
        "model.add(layers.Dense(1, activation='sigmoid'))\n",
        "model.summary()"
      ],
      "execution_count": 104,
      "outputs": [
        {
          "output_type": "stream",
          "text": [
            "Using TensorFlow backend.\n"
          ],
          "name": "stderr"
        },
        {
          "output_type": "display_data",
          "data": {
            "text/html": [
              "<p style=\"color: red;\">\n",
              "The default version of TensorFlow in Colab will switch to TensorFlow 2.x on the 27th of March, 2020.<br>\n",
              "We recommend you <a href=\"https://www.tensorflow.org/guide/migrate\" target=\"_blank\">upgrade</a> now\n",
              "or ensure your notebook will continue to use TensorFlow 1.x via the <code>%tensorflow_version 1.x</code> magic:\n",
              "<a href=\"https://colab.research.google.com/notebooks/tensorflow_version.ipynb\" target=\"_blank\">more info</a>.</p>\n"
            ],
            "text/plain": [
              "<IPython.core.display.HTML object>"
            ]
          },
          "metadata": {
            "tags": []
          }
        },
        {
          "output_type": "stream",
          "text": [
            "WARNING:tensorflow:From /usr/local/lib/python3.6/dist-packages/keras/backend/tensorflow_backend.py:66: The name tf.get_default_graph is deprecated. Please use tf.compat.v1.get_default_graph instead.\n",
            "\n",
            "WARNING:tensorflow:From /usr/local/lib/python3.6/dist-packages/keras/backend/tensorflow_backend.py:541: The name tf.placeholder is deprecated. Please use tf.compat.v1.placeholder instead.\n",
            "\n",
            "WARNING:tensorflow:From /usr/local/lib/python3.6/dist-packages/keras/backend/tensorflow_backend.py:4432: The name tf.random_uniform is deprecated. Please use tf.random.uniform instead.\n",
            "\n",
            "WARNING:tensorflow:From /usr/local/lib/python3.6/dist-packages/keras/backend/tensorflow_backend.py:4267: The name tf.nn.max_pool is deprecated. Please use tf.nn.max_pool2d instead.\n",
            "\n",
            "Model: \"sequential_1\"\n",
            "_________________________________________________________________\n",
            "Layer (type)                 Output Shape              Param #   \n",
            "=================================================================\n",
            "conv2d_1 (Conv2D)            (None, 148, 148, 32)      896       \n",
            "_________________________________________________________________\n",
            "max_pooling2d_1 (MaxPooling2 (None, 74, 74, 32)        0         \n",
            "_________________________________________________________________\n",
            "conv2d_2 (Conv2D)            (None, 72, 72, 64)        18496     \n",
            "_________________________________________________________________\n",
            "max_pooling2d_2 (MaxPooling2 (None, 36, 36, 64)        0         \n",
            "_________________________________________________________________\n",
            "conv2d_3 (Conv2D)            (None, 34, 34, 128)       73856     \n",
            "_________________________________________________________________\n",
            "max_pooling2d_3 (MaxPooling2 (None, 17, 17, 128)       0         \n",
            "_________________________________________________________________\n",
            "conv2d_4 (Conv2D)            (None, 15, 15, 128)       147584    \n",
            "_________________________________________________________________\n",
            "max_pooling2d_4 (MaxPooling2 (None, 7, 7, 128)         0         \n",
            "_________________________________________________________________\n",
            "flatten_1 (Flatten)          (None, 6272)              0         \n",
            "_________________________________________________________________\n",
            "dense_1 (Dense)              (None, 512)               3211776   \n",
            "_________________________________________________________________\n",
            "dense_2 (Dense)              (None, 1)                 513       \n",
            "=================================================================\n",
            "Total params: 3,453,121\n",
            "Trainable params: 3,453,121\n",
            "Non-trainable params: 0\n",
            "_________________________________________________________________\n"
          ],
          "name": "stdout"
        }
      ]
    },
    {
      "cell_type": "code",
      "metadata": {
        "id": "7kJIMILcm1r3",
        "colab_type": "code",
        "colab": {
          "base_uri": "https://localhost:8080/",
          "height": 156
        },
        "outputId": "2a84b85f-370e-4a4e-8dce-4ba6cd5fc3c6"
      },
      "source": [
        "from keras import optimizers\n",
        "model.compile(loss='binary_crossentropy', \n",
        "              optimizer=optimizers.RMSprop(lr=1e-4), #Root mean square (RMS)\n",
        "              metrics=['acc'])"
      ],
      "execution_count": 105,
      "outputs": [
        {
          "output_type": "stream",
          "text": [
            "WARNING:tensorflow:From /usr/local/lib/python3.6/dist-packages/keras/optimizers.py:793: The name tf.train.Optimizer is deprecated. Please use tf.compat.v1.train.Optimizer instead.\n",
            "\n",
            "WARNING:tensorflow:From /usr/local/lib/python3.6/dist-packages/keras/backend/tensorflow_backend.py:3657: The name tf.log is deprecated. Please use tf.math.log instead.\n",
            "\n",
            "WARNING:tensorflow:From /tensorflow-1.15.0/python3.6/tensorflow_core/python/ops/nn_impl.py:183: where (from tensorflow.python.ops.array_ops) is deprecated and will be removed in a future version.\n",
            "Instructions for updating:\n",
            "Use tf.where in 2.0, which has the same broadcast rule as np.where\n"
          ],
          "name": "stdout"
        }
      ]
    },
    {
      "cell_type": "code",
      "metadata": {
        "id": "iCrm0bWGm663",
        "colab_type": "code",
        "colab": {
          "base_uri": "https://localhost:8080/",
          "height": 51
        },
        "outputId": "45ba753d-d35c-4dc9-85d2-69d9d360508d"
      },
      "source": [
        "from keras.preprocessing.image import ImageDataGenerator\n",
        "\n",
        "train_datagen = ImageDataGenerator(rescale=1./255)\n",
        "test_datagen = ImageDataGenerator(rescale=1./255)\n",
        "\n",
        "train_generator = train_datagen.flow_from_directory(train_dir,\n",
        "                                                    target_size=(150, 150), \n",
        "                                                    batch_size=20,\n",
        "                                                    class_mode='binary')\n",
        "\n",
        "validation_generator = test_datagen.flow_from_directory(validation_dir,\n",
        "                                                        target_size=(150, 150),\n",
        "                                                        batch_size=20,\n",
        "                                                        class_mode='binary')"
      ],
      "execution_count": 108,
      "outputs": [
        {
          "output_type": "stream",
          "text": [
            "Found 1983 images belonging to 3 classes.\n",
            "Found 250 images belonging to 3 classes.\n"
          ],
          "name": "stdout"
        }
      ]
    },
    {
      "cell_type": "code",
      "metadata": {
        "id": "WOdU52O9oTt0",
        "colab_type": "code",
        "colab": {
          "base_uri": "https://localhost:8080/",
          "height": 1000
        },
        "outputId": "d138d99f-5e1d-4cc0-c970-efa6801a40fa"
      },
      "source": [
        "history = model.fit_generator(train_generator,\n",
        "                              steps_per_epoch=100,\n",
        "                              epochs=30,\n",
        "                              validation_data=validation_generator,\n",
        "                              validation_steps=10)"
      ],
      "execution_count": 109,
      "outputs": [
        {
          "output_type": "stream",
          "text": [
            "WARNING:tensorflow:From /usr/local/lib/python3.6/dist-packages/keras/backend/tensorflow_backend.py:1033: The name tf.assign_add is deprecated. Please use tf.compat.v1.assign_add instead.\n",
            "\n",
            "WARNING:tensorflow:From /usr/local/lib/python3.6/dist-packages/keras/backend/tensorflow_backend.py:1020: The name tf.assign is deprecated. Please use tf.compat.v1.assign instead.\n",
            "\n",
            "WARNING:tensorflow:From /usr/local/lib/python3.6/dist-packages/keras/backend/tensorflow_backend.py:3005: The name tf.Session is deprecated. Please use tf.compat.v1.Session instead.\n",
            "\n",
            "Epoch 1/30\n",
            "WARNING:tensorflow:From /usr/local/lib/python3.6/dist-packages/keras/backend/tensorflow_backend.py:190: The name tf.get_default_session is deprecated. Please use tf.compat.v1.get_default_session instead.\n",
            "\n",
            "WARNING:tensorflow:From /usr/local/lib/python3.6/dist-packages/keras/backend/tensorflow_backend.py:197: The name tf.ConfigProto is deprecated. Please use tf.compat.v1.ConfigProto instead.\n",
            "\n",
            "WARNING:tensorflow:From /usr/local/lib/python3.6/dist-packages/keras/backend/tensorflow_backend.py:207: The name tf.global_variables is deprecated. Please use tf.compat.v1.global_variables instead.\n",
            "\n",
            "WARNING:tensorflow:From /usr/local/lib/python3.6/dist-packages/keras/backend/tensorflow_backend.py:216: The name tf.is_variable_initialized is deprecated. Please use tf.compat.v1.is_variable_initialized instead.\n",
            "\n",
            "WARNING:tensorflow:From /usr/local/lib/python3.6/dist-packages/keras/backend/tensorflow_backend.py:223: The name tf.variables_initializer is deprecated. Please use tf.compat.v1.variables_initializer instead.\n",
            "\n",
            "100/100 [==============================] - 91s 911ms/step - loss: -2.7812 - acc: 0.4498 - val_loss: -5.0290 - val_acc: 0.6400\n",
            "Epoch 2/30\n",
            "100/100 [==============================] - 90s 901ms/step - loss: -4.4311 - acc: 0.5744 - val_loss: -4.5726 - val_acc: 0.6789\n",
            "Epoch 3/30\n",
            "100/100 [==============================] - 90s 902ms/step - loss: -4.6107 - acc: 0.6094 - val_loss: -4.7968 - val_acc: 0.6632\n",
            "Epoch 4/30\n",
            "100/100 [==============================] - 90s 901ms/step - loss: -4.6754 - acc: 0.6167 - val_loss: -5.2012 - val_acc: 0.6632\n",
            "Epoch 5/30\n",
            "100/100 [==============================] - 90s 904ms/step - loss: -4.8649 - acc: 0.6266 - val_loss: -5.2364 - val_acc: 0.6600\n",
            "Epoch 6/30\n",
            "100/100 [==============================] - 90s 901ms/step - loss: -4.8144 - acc: 0.6362 - val_loss: -4.7414 - val_acc: 0.6947\n",
            "Epoch 7/30\n",
            "100/100 [==============================] - 90s 903ms/step - loss: -4.8916 - acc: 0.6434 - val_loss: -5.0173 - val_acc: 0.6737\n",
            "Epoch 8/30\n",
            "100/100 [==============================] - 91s 905ms/step - loss: -4.9569 - acc: 0.6391 - val_loss: -4.5702 - val_acc: 0.6789\n",
            "Epoch 9/30\n",
            "100/100 [==============================] - 91s 908ms/step - loss: -4.8955 - acc: 0.6572 - val_loss: -5.4718 - val_acc: 0.6500\n",
            "Epoch 10/30\n",
            "100/100 [==============================] - 91s 913ms/step - loss: -4.9176 - acc: 0.6537 - val_loss: -4.6553 - val_acc: 0.6789\n",
            "Epoch 11/30\n",
            "100/100 [==============================] - 91s 906ms/step - loss: -5.0443 - acc: 0.6591 - val_loss: -5.1652 - val_acc: 0.6684\n",
            "Epoch 12/30\n",
            "100/100 [==============================] - 91s 905ms/step - loss: -4.9934 - acc: 0.6579 - val_loss: -4.8235 - val_acc: 0.6737\n",
            "Epoch 13/30\n",
            "100/100 [==============================] - 90s 902ms/step - loss: -4.9652 - acc: 0.6627 - val_loss: -5.1000 - val_acc: 0.6737\n",
            "Epoch 14/30\n",
            "100/100 [==============================] - 91s 908ms/step - loss: -4.9462 - acc: 0.6670 - val_loss: -4.9198 - val_acc: 0.6900\n",
            "Epoch 15/30\n",
            "100/100 [==============================] - 90s 903ms/step - loss: -5.0400 - acc: 0.6669 - val_loss: -4.8207 - val_acc: 0.6842\n",
            "Epoch 16/30\n",
            "100/100 [==============================] - 90s 904ms/step - loss: -5.0135 - acc: 0.6677 - val_loss: -5.4486 - val_acc: 0.6579\n",
            "Epoch 17/30\n",
            "100/100 [==============================] - 91s 905ms/step - loss: -4.9703 - acc: 0.6735 - val_loss: -4.9310 - val_acc: 0.6842\n",
            "Epoch 18/30\n",
            "100/100 [==============================] - 90s 901ms/step - loss: -5.0373 - acc: 0.6752 - val_loss: -5.0131 - val_acc: 0.6800\n",
            "Epoch 19/30\n",
            "100/100 [==============================] - 91s 906ms/step - loss: -4.9843 - acc: 0.6775 - val_loss: -4.7777 - val_acc: 0.7000\n",
            "Epoch 20/30\n",
            "100/100 [==============================] - 90s 904ms/step - loss: -5.0456 - acc: 0.6782 - val_loss: -5.3510 - val_acc: 0.6579\n",
            "Epoch 21/30\n",
            "100/100 [==============================] - 91s 906ms/step - loss: -4.9978 - acc: 0.6805 - val_loss: -5.0303 - val_acc: 0.6842\n",
            "Epoch 22/30\n",
            "100/100 [==============================] - 90s 902ms/step - loss: -5.0064 - acc: 0.6830 - val_loss: -4.9394 - val_acc: 0.6900\n",
            "Epoch 23/30\n",
            "100/100 [==============================] - 90s 903ms/step - loss: -5.0534 - acc: 0.6782 - val_loss: -5.2016 - val_acc: 0.6737\n",
            "Epoch 24/30\n",
            "100/100 [==============================] - 91s 906ms/step - loss: -5.0061 - acc: 0.6825 - val_loss: -4.7827 - val_acc: 0.7000\n",
            "Epoch 25/30\n",
            "100/100 [==============================] - 91s 910ms/step - loss: -5.0641 - acc: 0.6812 - val_loss: -4.9430 - val_acc: 0.6842\n",
            "Epoch 26/30\n",
            "100/100 [==============================] - 91s 908ms/step - loss: -5.0620 - acc: 0.6817 - val_loss: -5.2020 - val_acc: 0.6737\n",
            "Epoch 27/30\n",
            "100/100 [==============================] - 91s 910ms/step - loss: -5.0110 - acc: 0.6840 - val_loss: -5.0218 - val_acc: 0.6850\n",
            "Epoch 28/30\n",
            "100/100 [==============================] - 91s 905ms/step - loss: -5.0207 - acc: 0.6845 - val_loss: -4.6988 - val_acc: 0.7053\n",
            "Epoch 29/30\n",
            "100/100 [==============================] - 91s 907ms/step - loss: -5.0118 - acc: 0.6835 - val_loss: -4.7826 - val_acc: 0.7000\n",
            "Epoch 30/30\n",
            "100/100 [==============================] - 91s 906ms/step - loss: -5.0632 - acc: 0.6817 - val_loss: -5.7895 - val_acc: 0.6368\n"
          ],
          "name": "stdout"
        }
      ]
    },
    {
      "cell_type": "code",
      "metadata": {
        "id": "YozFKPv0wxsl",
        "colab_type": "code",
        "colab": {
          "base_uri": "https://localhost:8080/",
          "height": 545
        },
        "outputId": "35262067-0cea-4c2a-f7d9-e655d078264e"
      },
      "source": [
        "model.save('airplane_cars_motorbike.h5')\n",
        "\n",
        "import matplotlib.pyplot as plt\n",
        "\n",
        "acc = history.history['acc']\n",
        "val_acc = history.history['val_acc']\n",
        "loss = history.history['loss']\n",
        "val_loss = history.history['val_loss']\n",
        "\n",
        "epochs = range(1, len(acc) + 1)\n",
        "\n",
        "plt.plot(epochs, acc, 'bo', label='Training acc')\n",
        "plt.plot(epochs, val_acc, 'b', label='Validation acc')\n",
        "plt.title('Training and validation accuracy')\n",
        "plt.legend()\n",
        "\n",
        "plt.figure()\n",
        "\n",
        "plt.plot(epochs, loss, 'bo', label='Training loss')\n",
        "plt.plot(epochs, val_loss, 'b', label='Validation loss')\n",
        "plt.title('Training and validation loss')\n",
        "plt.legend()\n",
        "\n",
        "plt.show()"
      ],
      "execution_count": 110,
      "outputs": [
        {
          "output_type": "display_data",
          "data": {
            "image/png": "[encoded data removed]",
            "text/plain": [
              "<Figure size 432x288 with 1 Axes>"
            ]
          },
          "metadata": {
            "tags": []
          }
        },
        {
          "output_type": "display_data",
          "data": {
            "image/png": "[encoded data removed]",
            "text/plain": [
              "<Figure size 432x288 with 1 Axes>"
            ]
          },
          "metadata": {
            "tags": []
          }
        }
      ]
    },
    {
      "cell_type": "markdown",
      "metadata": {
        "id": "gwbZn0VtxNZs",
        "colab_type": "text"
      },
      "source": [
        "**Convolutional Networks with Dropout**"
      ]
    },
    {
      "cell_type": "code",
      "metadata": {
        "id": "zYwOVFeWxChK",
        "colab_type": "code",
        "colab": {
          "base_uri": "https://localhost:8080/",
          "height": 122
        },
        "outputId": "e08199eb-6294-4189-8506-655209a772c7"
      },
      "source": [
        "model = models.Sequential()\n",
        "model.add(layers.Conv2D(32, (3, 3), activation='relu',\n",
        "input_shape=(150, 150, 3)))\n",
        "model.add(layers.MaxPooling2D((2, 2)))\n",
        "model.add(layers.Conv2D(64, (3, 3), activation='relu'))\n",
        "model.add(layers.MaxPooling2D((2, 2)))\n",
        "model.add(layers.Conv2D(128, (3, 3), activation='relu'))\n",
        "model.add(layers.MaxPooling2D((2, 2)))\n",
        "model.add(layers.Conv2D(128, (3, 3), activation='relu'))\n",
        "model.add(layers.MaxPooling2D((2, 2)))\n",
        "model.add(layers.Flatten())\n",
        "model.add(layers.Dropout(0.5))\n",
        "model.add(layers.Dense(512, activation='relu'))\n",
        "model.add(layers.Dense(1, activation='sigmoid'))\n",
        "\n",
        "model.compile(loss='binary_crossentropy',\n",
        "              optimizer=optimizers.RMSprop(lr=1e-4), #Root Mean Square (RMS)\n",
        "              metrics=['acc'])"
      ],
      "execution_count": 111,
      "outputs": [
        {
          "output_type": "stream",
          "text": [
            "WARNING:tensorflow:From /usr/local/lib/python3.6/dist-packages/keras/backend/tensorflow_backend.py:148: The name tf.placeholder_with_default is deprecated. Please use tf.compat.v1.placeholder_with_default instead.\n",
            "\n",
            "WARNING:tensorflow:From /usr/local/lib/python3.6/dist-packages/keras/backend/tensorflow_backend.py:3733: calling dropout (from tensorflow.python.ops.nn_ops) with keep_prob is deprecated and will be removed in a future version.\n",
            "Instructions for updating:\n",
            "Please use `rate` instead of `keep_prob`. Rate should be set to `rate = 1 - keep_prob`.\n"
          ],
          "name": "stdout"
        }
      ]
    },
    {
      "cell_type": "code",
      "metadata": {
        "id": "_xvf7OAWxGLo",
        "colab_type": "code",
        "colab": {
          "base_uri": "https://localhost:8080/",
          "height": 751
        },
        "outputId": "e9f01670-18d5-49bf-c8d4-4daa855ae446"
      },
      "source": [
        "train_datagen = ImageDataGenerator(rescale=1./255,\n",
        "                                   rotation_range=40,\n",
        "                                   width_shift_range=0.2,\n",
        "                                   height_shift_range=0.2,\n",
        "                                   shear_range=0.2,\n",
        "                                   zoom_range=0.2,\n",
        "                                   horizontal_flip=True,)\n",
        "\n",
        "test_datagen = ImageDataGenerator(rescale=1./255)\n",
        "\n",
        "train_generator = train_datagen.flow_from_directory(train_dir,\n",
        "                                                    target_size=(150, 150),\n",
        "                                                    batch_size=32,\n",
        "                                                    class_mode='binary')\n",
        "\n",
        "validation_generator = test_datagen.flow_from_directory(validation_dir,\n",
        "                                                        target_size=(150, 150),\n",
        "                                                        batch_size=32,\n",
        "                                                        class_mode='binary')\n",
        "\n",
        "history = model.fit_generator(train_generator,\n",
        "                              steps_per_epoch=100,\n",
        "                              epochs=20,\n",
        "                              validation_data=validation_generator,\n",
        "                              validation_steps=50)"
      ],
      "execution_count": 112,
      "outputs": [
        {
          "output_type": "stream",
          "text": [
            "Found 1983 images belonging to 3 classes.\n",
            "Found 250 images belonging to 3 classes.\n",
            "Epoch 1/20\n",
            "100/100 [==============================] - 177s 2s/step - loss: -2.1089 - acc: 0.4089 - val_loss: -3.3475 - val_acc: 0.4341\n",
            "Epoch 2/20\n",
            "100/100 [==============================] - 174s 2s/step - loss: -3.7905 - acc: 0.5003 - val_loss: -4.5638 - val_acc: 0.5965\n",
            "Epoch 3/20\n",
            "100/100 [==============================] - 173s 2s/step - loss: -3.7421 - acc: 0.5175 - val_loss: -4.4128 - val_acc: 0.5486\n",
            "Epoch 4/20\n",
            "100/100 [==============================] - 173s 2s/step - loss: -4.0349 - acc: 0.5317 - val_loss: -4.5036 - val_acc: 0.5764\n",
            "Epoch 5/20\n",
            "100/100 [==============================] - 173s 2s/step - loss: -4.0757 - acc: 0.5394 - val_loss: -3.9838 - val_acc: 0.4706\n",
            "Epoch 6/20\n",
            "100/100 [==============================] - 174s 2s/step - loss: -4.1825 - acc: 0.5448 - val_loss: -4.4191 - val_acc: 0.5965\n",
            "Epoch 7/20\n",
            "100/100 [==============================] - 174s 2s/step - loss: -4.2495 - acc: 0.5456 - val_loss: -4.7345 - val_acc: 0.6522\n",
            "Epoch 8/20\n",
            "100/100 [==============================] - 173s 2s/step - loss: -4.1080 - acc: 0.5566 - val_loss: -4.7906 - val_acc: 0.6508\n",
            "Epoch 9/20\n",
            "100/100 [==============================] - 175s 2s/step - loss: -4.3263 - acc: 0.5691 - val_loss: -3.9400 - val_acc: 0.5026\n",
            "Epoch 10/20\n",
            "100/100 [==============================] - 175s 2s/step - loss: -4.2712 - acc: 0.5689 - val_loss: -4.6717 - val_acc: 0.6464\n",
            "Epoch 11/20\n",
            "100/100 [==============================] - 174s 2s/step - loss: -4.3074 - acc: 0.5675 - val_loss: -4.7685 - val_acc: 0.6419\n",
            "Epoch 12/20\n",
            "100/100 [==============================] - 174s 2s/step - loss: -4.3806 - acc: 0.5755 - val_loss: -4.7634 - val_acc: 0.6431\n",
            "Epoch 13/20\n",
            "100/100 [==============================] - 173s 2s/step - loss: -4.4308 - acc: 0.5835 - val_loss: -4.8440 - val_acc: 0.6624\n",
            "Epoch 14/20\n",
            "100/100 [==============================] - 175s 2s/step - loss: -4.5706 - acc: 0.5892 - val_loss: -4.8577 - val_acc: 0.6458\n",
            "Epoch 15/20\n",
            "100/100 [==============================] - 173s 2s/step - loss: -4.5031 - acc: 0.5889 - val_loss: -4.5926 - val_acc: 0.6292\n",
            "Epoch 16/20\n",
            "100/100 [==============================] - 174s 2s/step - loss: -4.4299 - acc: 0.5959 - val_loss: -4.7209 - val_acc: 0.6393\n",
            "Epoch 17/20\n",
            "100/100 [==============================] - 174s 2s/step - loss: -4.4233 - acc: 0.6032 - val_loss: -4.1111 - val_acc: 0.5607\n",
            "Epoch 18/20\n",
            "100/100 [==============================] - 174s 2s/step - loss: -4.6468 - acc: 0.5895 - val_loss: -4.6653 - val_acc: 0.6119\n",
            "Epoch 19/20\n",
            "100/100 [==============================] - 174s 2s/step - loss: -4.5319 - acc: 0.6061 - val_loss: -4.8320 - val_acc: 0.6669\n",
            "Epoch 20/20\n",
            "100/100 [==============================] - 173s 2s/step - loss: -4.6495 - acc: 0.6060 - val_loss: -4.9046 - val_acc: 0.6669\n"
          ],
          "name": "stdout"
        }
      ]
    },
    {
      "cell_type": "code",
      "metadata": {
        "id": "XgSP0nVrzzKL",
        "colab_type": "code",
        "colab": {
          "base_uri": "https://localhost:8080/",
          "height": 545
        },
        "outputId": "a730c5f7-1017-4cd7-ed3c-324fcdd3b6c9"
      },
      "source": [
        "model.save('airplane_cars_motorbike_2.h5')\n",
        "\n",
        "acc = history.history['acc']\n",
        "val_acc = history.history['val_acc']\n",
        "loss = history.history['loss']\n",
        "val_loss = history.history['val_loss']\n",
        "\n",
        "epochs = range(1, len(acc) + 1)\n",
        "\n",
        "plt.plot(epochs, acc, 'bo', label='Training acc')\n",
        "plt.plot(epochs, val_acc, 'b', label='Validation acc')\n",
        "plt.title('Training and validation accuracy')\n",
        "plt.legend()\n",
        "\n",
        "plt.figure()\n",
        "\n",
        "plt.plot(epochs, loss, 'bo', label='Training loss')\n",
        "plt.plot(epochs, val_loss, 'b', label='Validation loss')\n",
        "plt.title('Training and validation loss')\n",
        "plt.legend()\n",
        "\n",
        "plt.show()"
      ],
      "execution_count": 113,
      "outputs": [
        {
          "output_type": "display_data",
          "data": {
            "image/png": "[encoded data removed]",
            "text/plain": [
              "<Figure size 432x288 with 1 Axes>"
            ]
          },
          "metadata": {
            "tags": []
          }
        },
        {
          "output_type": "display_data",
          "data": {
            "image/png": "[encoded data removed]",
            "text/plain": [
              "<Figure size 432x288 with 1 Axes>"
            ]
          },
          "metadata": {
            "tags": []
          }
        }
      ]
    }
  ]
}