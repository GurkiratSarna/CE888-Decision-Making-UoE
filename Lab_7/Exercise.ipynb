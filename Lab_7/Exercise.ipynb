{
  "nbformat": 4,
  "nbformat_minor": 0,
  "metadata": {
    "colab": {
      "name": "Exercise.ipynb",
      "provenance": [],
      "authorship_tag": "ABX9TyPXc/nS6jjouPBs7/kGlYME",
      "include_colab_link": true
    },
    "kernelspec": {
      "name": "python3",
      "display_name": "Python 3"
    }
  },
  "cells": [
    {
      "cell_type": "markdown",
      "metadata": {
        "id": "view-in-github",
        "colab_type": "text"
      },
      "source": [
        "<a href=\"https://colab.research.google.com/github/GurkiratSarna/CE888-Decision-Making-UoE/blob/master/Lab_7/Exercise.ipynb\" target=\"_parent\"><img src=\"https://colab.research.google.com/assets/colab-badge.svg\" alt=\"Open In Colab\"/></a>"
      ]
    },
    {
      "cell_type": "markdown",
      "metadata": {
        "id": "RsoLObuIMZia",
        "colab_type": "text"
      },
      "source": [
        "We perform CNN on a datset taken from Kaggle. The datset had 8 folders but we have picked only 3 folders - airplane, car and motorbike."
      ]
    },
    {
      "cell_type": "code",
      "metadata": {
        "id": "IP3DSjA3JSqq",
        "colab_type": "code",
        "colab": {}
      },
      "source": [
        "from google.colab import files\n",
        "\n",
        "#Delete the folders from colab\n",
        "#!rm -rf natural_images\n",
        "!rm -rf natural_images_ttv\n",
        "#!rm -rf natural_images.zip"
      ],
      "execution_count": 0,
      "outputs": []
    },
    {
      "cell_type": "code",
      "metadata": {
        "id": "Qr0vkNayziaN",
        "colab_type": "code",
        "outputId": "0f5c8d15-038d-4d2e-f783-dfcaa62a11fd",
        "colab": {
          "base_uri": "https://localhost:8080/",
          "height": 34
        }
      },
      "source": [
        "#check current directory\n",
        "import os\n",
        "os.getcwd()"
      ],
      "execution_count": 45,
      "outputs": [
        {
          "output_type": "execute_result",
          "data": {
            "text/plain": [
              "'/content'"
            ]
          },
          "metadata": {
            "tags": []
          },
          "execution_count": 45
        }
      ]
    },
    {
      "cell_type": "code",
      "metadata": {
        "id": "E0FboGfeLn-K",
        "colab_type": "code",
        "colab": {
          "base_uri": "https://localhost:8080/",
          "height": 207
        },
        "outputId": "135449c3-8297-4292-aac1-cc547796b2c2"
      },
      "source": [
        "#Unrar the manually loaded file\n",
        "!pip install patool\n",
        "import patoolib\n",
        "patoolib.extract_archive(\"natural_images.rar\", outdir=\"/content\")"
      ],
      "execution_count": 21,
      "outputs": [
        {
          "output_type": "stream",
          "text": [
            "Collecting patool\n",
            "\u001b[?25l  Downloading https://files.pythonhosted.org/packages/43/94/52243ddff508780dd2d8110964320ab4851134a55ab102285b46e740f76a/patool-1.12-py2.py3-none-any.whl (77kB)\n",
            "\r\u001b[K     |████▎                           | 10kB 18.5MB/s eta 0:00:01\r\u001b[K     |████████▌                       | 20kB 1.8MB/s eta 0:00:01\r\u001b[K     |████████████▊                   | 30kB 2.3MB/s eta 0:00:01\r\u001b[K     |█████████████████               | 40kB 1.7MB/s eta 0:00:01\r\u001b[K     |█████████████████████▏          | 51kB 1.9MB/s eta 0:00:01\r\u001b[K     |█████████████████████████▍      | 61kB 2.2MB/s eta 0:00:01\r\u001b[K     |█████████████████████████████▋  | 71kB 2.5MB/s eta 0:00:01\r\u001b[K     |████████████████████████████████| 81kB 2.3MB/s \n",
            "\u001b[?25hInstalling collected packages: patool\n",
            "Successfully installed patool-1.12\n",
            "patool: Extracting natural_images.rar ...\n",
            "patool: running /usr/bin/unrar x -- /content/natural_images.rar\n",
            "patool:     with cwd='/content'\n",
            "patool: ... natural_images.rar extracted to `/content'.\n"
          ],
          "name": "stdout"
        },
        {
          "output_type": "execute_result",
          "data": {
            "text/plain": [
              "'/content'"
            ]
          },
          "metadata": {
            "tags": []
          },
          "execution_count": 21
        }
      ]
    },
    {
      "cell_type": "code",
      "metadata": {
        "id": "1I7nVk3F0-KB",
        "colab_type": "code",
        "colab": {}
      },
      "source": [
        "#Unzip the manually loaded file - not needed for now\n",
        "'''from zipfile import ZipFile\n",
        "\n",
        "file_name = \"/content/natural_images.zip\" # data is availbale in github\n",
        "\n",
        "with ZipFile(file_name, 'r') as zip:\n",
        "  zip.extractall()\n",
        "  print('done')'''"
      ],
      "execution_count": 0,
      "outputs": []
    },
    {
      "cell_type": "code",
      "metadata": {
        "id": "crNXSzFz1Nu5",
        "colab_type": "code",
        "outputId": "9c896966-9586-4799-95e2-6e225eb23980",
        "colab": {
          "base_uri": "https://localhost:8080/",
          "height": 34
        }
      },
      "source": [
        "#data_dir_list = os.listdir('/content/natural_images')\n",
        "#print(data_dir_list)\n",
        "\n",
        "#Number of airplane files\n",
        "path_a, dirs_a, files_a = next(os.walk(\"/content/natural_images/airplane\")) \n",
        "file_count_a = len(files_a)\n",
        "print(file_count_a)"
      ],
      "execution_count": 40,
      "outputs": [
        {
          "output_type": "stream",
          "text": [
            "727\n"
          ],
          "name": "stdout"
        }
      ]
    },
    {
      "cell_type": "code",
      "metadata": {
        "id": "IZrc6PNoL6V9",
        "colab_type": "code",
        "outputId": "0f161b48-3d9a-4bf2-bd01-337c6c62c60e",
        "colab": {
          "base_uri": "https://localhost:8080/",
          "height": 34
        }
      },
      "source": [
        "#Number of car files\n",
        "path_c, dirs_c, files_c = next(os.walk(\"/content/natural_images/car\")) \n",
        "file_count_c = len(files_c)\n",
        "print(file_count_c)"
      ],
      "execution_count": 38,
      "outputs": [
        {
          "output_type": "stream",
          "text": [
            "968\n"
          ],
          "name": "stdout"
        }
      ]
    },
    {
      "cell_type": "code",
      "metadata": {
        "id": "fzkBo-pfMRA2",
        "colab_type": "code",
        "colab": {
          "base_uri": "https://localhost:8080/",
          "height": 34
        },
        "outputId": "22f26001-7693-4b3e-fac1-a618705355d3"
      },
      "source": [
        "#Number of motorbike files\n",
        "path_m, dirs_m, files_m = next(os.walk(\"/content/natural_images/motorbike\")) \n",
        "file_count_m = len(files_m)\n",
        "print(file_count_m)"
      ],
      "execution_count": 39,
      "outputs": [
        {
          "output_type": "stream",
          "text": [
            "788\n"
          ],
          "name": "stdout"
        }
      ]
    },
    {
      "cell_type": "code",
      "metadata": {
        "id": "hZR3aryq1l_y",
        "colab_type": "code",
        "colab": {}
      },
      "source": [
        "#Define orginal directory and the base directory where train, test and validation folders will be created.\n",
        "original_dataset_dir = '/content/natural_images'\n",
        "base_dir = '/content/natural_images_ttv'\n",
        "os.mkdir(base_dir)"
      ],
      "execution_count": 0,
      "outputs": []
    },
    {
      "cell_type": "code",
      "metadata": {
        "id": "uT7SgvS4NHUu",
        "colab_type": "code",
        "colab": {}
      },
      "source": [
        "#Create a train folder under the base directory\n",
        "train_dir = os.path.join(base_dir, 'train')\n",
        "os.mkdir(train_dir)\n",
        "\n",
        "#Create a validation folder under the base directory\n",
        "validation_dir = os.path.join(base_dir, 'validation')\n",
        "os.mkdir(validation_dir)\n",
        "\n",
        "#Create a test folder under the base directory\n",
        "test_dir = os.path.join(base_dir, 'test')\n",
        "os.mkdir(test_dir)\n",
        "\n",
        "#Create an airplane folder under the train folder\n",
        "train_airplane_dir = os.path.join(train_dir, 'airplane')\n",
        "os.mkdir(train_airplane_dir)\n",
        "\n",
        "#Create a car folder under the train folder\n",
        "train_car_dir = os.path.join(train_dir, 'car')\n",
        "os.mkdir(train_car_dir)\n",
        "\n",
        "#Create a motorbike folder under the train folder\n",
        "train_motorbike_dir = os.path.join(train_dir, 'motorbike')\n",
        "os.mkdir(train_motorbike_dir)\n",
        "\n",
        "#Create an airplane folder under the validation folder\n",
        "validation_airplane_dir = os.path.join(validation_dir, 'airplane')\n",
        "os.mkdir(validation_airplane_dir)\n",
        "\n",
        "#Create a car folder under the validation folder\n",
        "validation_car_dir = os.path.join(validation_dir, 'car')\n",
        "os.mkdir(validation_car_dir)\n",
        "\n",
        "#Create a motorbike folder under the validation folder\n",
        "validation_motorbike_dir = os.path.join(validation_dir, 'motorbike')\n",
        "os.mkdir(validation_motorbike_dir)\n",
        "\n",
        "#Create an airplane folder under the test folder\n",
        "test_airplane_dir = os.path.join(test_dir, 'airplane')\n",
        "os.mkdir(test_airplane_dir)\n",
        "\n",
        "#Create a car folder under the test folder\n",
        "test_car_dir = os.path.join(test_dir, 'car')\n",
        "os.mkdir(test_car_dir)\n",
        "\n",
        "#Create a motorbike folder under the test folder\n",
        "test_motorbike_dir = os.path.join(test_dir, 'motorbike')\n",
        "os.mkdir(test_motorbike_dir)"
      ],
      "execution_count": 0,
      "outputs": []
    },
    {
      "cell_type": "code",
      "metadata": {
        "id": "x_uHKoaIN0yB",
        "colab_type": "code",
        "colab": {}
      },
      "source": [
        "import shutil"
      ],
      "execution_count": 0,
      "outputs": []
    },
    {
      "cell_type": "markdown",
      "metadata": {
        "id": "UlD3u4i5P4_y",
        "colab_type": "text"
      },
      "source": [
        "Dividing 80% for train and 10% for validation and 10% for test\n"
      ]
    },
    {
      "cell_type": "code",
      "metadata": {
        "id": "pza1FtrXfHxn",
        "colab_type": "code",
        "colab": {}
      },
      "source": [
        "original_dataset_dir_a = '/content/natural_images/airplane'\n",
        "fnames = ['airplane_{}.jpg'.format(str(i).zfill(4)) for i in range(581)]\n",
        "for fname in fnames:\n",
        "    src = os.path.join(original_dataset_dir_a, fname)\n",
        "    dst = os.path.join(train_airplane_dir, fname)\n",
        "    #print(src,dst)\n",
        "    shutil.copyfile(src, dst)\n",
        "    \n",
        "fnames = ['airplane_{}.jpg'.format(str(i).zfill(4)) for i in range(581, 654)]\n",
        "for fname in fnames:\n",
        "    src = os.path.join(original_dataset_dir_a, fname)\n",
        "    dst = os.path.join(validation_airplane_dir, fname)\n",
        "    shutil.copyfile(src, dst)\n",
        "\n",
        "fnames = ['airplane_{}.jpg'.format(str(i).zfill(4)) for i in range(654, 727)]\n",
        "for fname in fnames:\n",
        "    src = os.path.join(original_dataset_dir_a, fname)\n",
        "    dst = os.path.join(test_airplane_dir, fname)\n",
        "    shutil.copyfile(src, dst)"
      ],
      "execution_count": 0,
      "outputs": []
    },
    {
      "cell_type": "code",
      "metadata": {
        "id": "c4figqdUfiTH",
        "colab_type": "code",
        "colab": {}
      },
      "source": [
        "original_dataset_dir_c = '/content/natural_images/car'    \n",
        "fnames = ['car_{}.jpg'.format(str(i).zfill(4)) for i in range(772)]\n",
        "for fname in fnames:\n",
        "    src = os.path.join(original_dataset_dir_c, fname)\n",
        "    dst = os.path.join(train_car_dir, fname)\n",
        "    shutil.copyfile(src, dst)\n",
        "\n",
        "fnames = ['car_{}.jpg'.format(str(i).zfill(4)) for i in range(772, 870)]\n",
        "for fname in fnames:\n",
        "    src = os.path.join(original_dataset_dir_c, fname)\n",
        "    dst = os.path.join(validation_car_dir, fname)\n",
        "    shutil.copyfile(src, dst)\n",
        "\n",
        "fnames = ['car_{}.jpg'.format(str(i).zfill(4)) for i in range(870, 968)]\n",
        "for fname in fnames:\n",
        "    src = os.path.join(original_dataset_dir_c, fname)\n",
        "    dst = os.path.join(test_car_dir, fname)\n",
        "    shutil.copyfile(src, dst)"
      ],
      "execution_count": 0,
      "outputs": []
    },
    {
      "cell_type": "code",
      "metadata": {
        "id": "GwK8XM4Hfmux",
        "colab_type": "code",
        "colab": {}
      },
      "source": [
        "original_dataset_dir_m = '/content/natural_images/motorbike' \n",
        "fnames = ['motorbike_{}.jpg'.format(str(i).zfill(4)) for i in range(630)]\n",
        "for fname in fnames:\n",
        "    src = os.path.join(original_dataset_dir_m, fname)\n",
        "    dst = os.path.join(train_motorbike_dir, fname)\n",
        "    shutil.copyfile(src, dst)\n",
        "\n",
        "fnames = ['motorbike_{}.jpg'.format(str(i).zfill(4)) for i in range(630, 709)]\n",
        "for fname in fnames:\n",
        "    src = os.path.join(original_dataset_dir_m, fname)\n",
        "    dst = os.path.join(validation_motorbike_dir, fname)\n",
        "    shutil.copyfile(src, dst)\n",
        "\n",
        "fnames = ['motorbike_{}.jpg'.format(str(i).zfill(4)) for i in range(709, 788)]\n",
        "for fname in fnames:\n",
        "    src = os.path.join(original_dataset_dir_m, fname)\n",
        "    dst = os.path.join(test_motorbike_dir, fname)\n",
        "    shutil.copyfile(src, dst)"
      ],
      "execution_count": 0,
      "outputs": []
    },
    {
      "cell_type": "code",
      "metadata": {
        "id": "dVlsyd8yXznJ",
        "colab_type": "code",
        "colab": {
          "base_uri": "https://localhost:8080/",
          "height": 170
        },
        "outputId": "09934eb2-4522-412a-9c0e-9abbededf64d"
      },
      "source": [
        "print('total training airplane images:', len(os.listdir(train_airplane_dir)), 'in directory : ', train_airplane_dir)\n",
        "print('total validation airplane images:', len(os.listdir(validation_airplane_dir)), 'in directory : ', validation_airplane_dir)\n",
        "print('total test airplane images:', len(os.listdir(test_airplane_dir)), 'in directory : ', test_airplane_dir)\n",
        "\n",
        "print('total training car images:', len(os.listdir(train_car_dir)), 'in directory : ', train_car_dir)\n",
        "print('total validation car images:', len(os.listdir(validation_car_dir)), 'in directory : ', validation_car_dir)\n",
        "print('total test car images:', len(os.listdir(test_car_dir)), 'in directory : ', test_car_dir)\n",
        "\n",
        "print('total training motorbike images:', len(os.listdir(train_motorbike_dir)), 'in directory : ', train_motorbike_dir)\n",
        "print('total validation motorbike images:', len(os.listdir(validation_motorbike_dir)), 'in directory : ', validation_motorbike_dir)\n",
        "print('total test motorbike images:', len(os.listdir(test_motorbike_dir)), 'in directory : ', test_motorbike_dir)"
      ],
      "execution_count": 103,
      "outputs": [
        {
          "output_type": "stream",
          "text": [
            "total training airplane images: 581 in directory :  /content/natural_images_ttv/train/airplane\n",
            "total validation airplane images: 73 in directory :  /content/natural_images_ttv/validation/airplane\n",
            "total test airplane images: 73 in directory :  /content/natural_images_ttv/test/airplane\n",
            "total training car images: 772 in directory :  /content/natural_images_ttv/train/car\n",
            "total validation car images: 98 in directory :  /content/natural_images_ttv/validation/car\n",
            "total test car images: 98 in directory :  /content/natural_images_ttv/test/car\n",
            "total training motorbike images: 630 in directory :  /content/natural_images_ttv/train/motorbike\n",
            "total validation motorbike images: 79 in directory :  /content/natural_images_ttv/validation/motorbike\n",
            "total test motorbike images: 79 in directory :  /content/natural_images_ttv/test/motorbike\n"
          ],
          "name": "stdout"
        }
      ]
    },
    {
      "cell_type": "code",
      "metadata": {
        "id": "EEiikfK8muWF",
        "colab_type": "code",
        "colab": {
          "base_uri": "https://localhost:8080/",
          "height": 746
        },
        "outputId": "210c1281-b547-4a9d-c8a4-4afed49b1b9b"
      },
      "source": [
        "from keras import layers\n",
        "from keras import models\n",
        "\n",
        "model = models.Sequential()\n",
        "model.add(layers.Conv2D(32, (3, 3), activation='relu', input_shape=(150, 150, 3)))\n",
        "model.add(layers.MaxPooling2D((2, 2)))\n",
        "model.add(layers.Conv2D(64, (3, 3), activation='relu'))\n",
        "model.add(layers.MaxPooling2D((2, 2)))\n",
        "model.add(layers.Conv2D(128, (3, 3), activation='relu'))\n",
        "model.add(layers.MaxPooling2D((2, 2)))\n",
        "model.add(layers.Conv2D(128, (3, 3), activation='relu'))\n",
        "model.add(layers.MaxPooling2D((2, 2)))\n",
        "model.add(layers.Flatten())\n",
        "model.add(layers.Dense(512, activation='relu'))\n",
        "model.add(layers.Dense(1, activation='sigmoid'))\n",
        "model.summary()"
      ],
      "execution_count": 104,
      "outputs": [
        {
          "output_type": "stream",
          "text": [
            "Using TensorFlow backend.\n"
          ],
          "name": "stderr"
        },
        {
          "output_type": "display_data",
          "data": {
            "text/html": [
              "<p style=\"color: red;\">\n",
              "The default version of TensorFlow in Colab will switch to TensorFlow 2.x on the 27th of March, 2020.<br>\n",
              "We recommend you <a href=\"https://www.tensorflow.org/guide/migrate\" target=\"_blank\">upgrade</a> now\n",
              "or ensure your notebook will continue to use TensorFlow 1.x via the <code>%tensorflow_version 1.x</code> magic:\n",
              "<a href=\"https://colab.research.google.com/notebooks/tensorflow_version.ipynb\" target=\"_blank\">more info</a>.</p>\n"
            ],
            "text/plain": [
              "<IPython.core.display.HTML object>"
            ]
          },
          "metadata": {
            "tags": []
          }
        },
        {
          "output_type": "stream",
          "text": [
            "WARNING:tensorflow:From /usr/local/lib/python3.6/dist-packages/keras/backend/tensorflow_backend.py:66: The name tf.get_default_graph is deprecated. Please use tf.compat.v1.get_default_graph instead.\n",
            "\n",
            "WARNING:tensorflow:From /usr/local/lib/python3.6/dist-packages/keras/backend/tensorflow_backend.py:541: The name tf.placeholder is deprecated. Please use tf.compat.v1.placeholder instead.\n",
            "\n",
            "WARNING:tensorflow:From /usr/local/lib/python3.6/dist-packages/keras/backend/tensorflow_backend.py:4432: The name tf.random_uniform is deprecated. Please use tf.random.uniform instead.\n",
            "\n",
            "WARNING:tensorflow:From /usr/local/lib/python3.6/dist-packages/keras/backend/tensorflow_backend.py:4267: The name tf.nn.max_pool is deprecated. Please use tf.nn.max_pool2d instead.\n",
            "\n",
            "Model: \"sequential_1\"\n",
            "_________________________________________________________________\n",
            "Layer (type)                 Output Shape              Param #   \n",
            "=================================================================\n",
            "conv2d_1 (Conv2D)            (None, 148, 148, 32)      896       \n",
            "_________________________________________________________________\n",
            "max_pooling2d_1 (MaxPooling2 (None, 74, 74, 32)        0         \n",
            "_________________________________________________________________\n",
            "conv2d_2 (Conv2D)            (None, 72, 72, 64)        18496     \n",
            "_________________________________________________________________\n",
            "max_pooling2d_2 (MaxPooling2 (None, 36, 36, 64)        0         \n",
            "_________________________________________________________________\n",
            "conv2d_3 (Conv2D)            (None, 34, 34, 128)       73856     \n",
            "_________________________________________________________________\n",
            "max_pooling2d_3 (MaxPooling2 (None, 17, 17, 128)       0         \n",
            "_________________________________________________________________\n",
            "conv2d_4 (Conv2D)            (None, 15, 15, 128)       147584    \n",
            "_________________________________________________________________\n",
            "max_pooling2d_4 (MaxPooling2 (None, 7, 7, 128)         0         \n",
            "_________________________________________________________________\n",
            "flatten_1 (Flatten)          (None, 6272)              0         \n",
            "_________________________________________________________________\n",
            "dense_1 (Dense)              (None, 512)               3211776   \n",
            "_________________________________________________________________\n",
            "dense_2 (Dense)              (None, 1)                 513       \n",
            "=================================================================\n",
            "Total params: 3,453,121\n",
            "Trainable params: 3,453,121\n",
            "Non-trainable params: 0\n",
            "_________________________________________________________________\n"
          ],
          "name": "stdout"
        }
      ]
    },
    {
      "cell_type": "code",
      "metadata": {
        "id": "7kJIMILcm1r3",
        "colab_type": "code",
        "colab": {
          "base_uri": "https://localhost:8080/",
          "height": 156
        },
        "outputId": "2a84b85f-370e-4a4e-8dce-4ba6cd5fc3c6"
      },
      "source": [
        "from keras import optimizers\n",
        "model.compile(loss='binary_crossentropy', \n",
        "              optimizer=optimizers.RMSprop(lr=1e-4),\n",
        "              metrics=['acc'])"
      ],
      "execution_count": 105,
      "outputs": [
        {
          "output_type": "stream",
          "text": [
            "WARNING:tensorflow:From /usr/local/lib/python3.6/dist-packages/keras/optimizers.py:793: The name tf.train.Optimizer is deprecated. Please use tf.compat.v1.train.Optimizer instead.\n",
            "\n",
            "WARNING:tensorflow:From /usr/local/lib/python3.6/dist-packages/keras/backend/tensorflow_backend.py:3657: The name tf.log is deprecated. Please use tf.math.log instead.\n",
            "\n",
            "WARNING:tensorflow:From /tensorflow-1.15.0/python3.6/tensorflow_core/python/ops/nn_impl.py:183: where (from tensorflow.python.ops.array_ops) is deprecated and will be removed in a future version.\n",
            "Instructions for updating:\n",
            "Use tf.where in 2.0, which has the same broadcast rule as np.where\n"
          ],
          "name": "stdout"
        }
      ]
    },
    {
      "cell_type": "code",
      "metadata": {
        "id": "iCrm0bWGm663",
        "colab_type": "code",
        "colab": {
          "base_uri": "https://localhost:8080/",
          "height": 51
        },
        "outputId": "45ba753d-d35c-4dc9-85d2-69d9d360508d"
      },
      "source": [
        "from keras.preprocessing.image import ImageDataGenerator\n",
        "\n",
        "train_datagen = ImageDataGenerator(rescale=1./255)\n",
        "test_datagen = ImageDataGenerator(rescale=1./255)\n",
        "\n",
        "train_generator = train_datagen.flow_from_directory(train_dir,\n",
        "                                                    target_size=(150, 150), \n",
        "                                                    batch_size=20,\n",
        "                                                    class_mode='binary')\n",
        "\n",
        "validation_generator = test_datagen.flow_from_directory(validation_dir,\n",
        "                                                        target_size=(150, 150),\n",
        "                                                        batch_size=20,\n",
        "                                                        class_mode='binary')"
      ],
      "execution_count": 108,
      "outputs": [
        {
          "output_type": "stream",
          "text": [
            "Found 1983 images belonging to 3 classes.\n",
            "Found 250 images belonging to 3 classes.\n"
          ],
          "name": "stdout"
        }
      ]
    },
    {
      "cell_type": "code",
      "metadata": {
        "id": "WOdU52O9oTt0",
        "colab_type": "code",
        "colab": {}
      },
      "source": [
        "history = model.fit_generator(train_generator,\n",
        "                              steps_per_epoch=100,\n",
        "                              epochs=30,\n",
        "                              validation_data=validation_generator,\n",
        "                              validation_steps=10)"
      ],
      "execution_count": 0,
      "outputs": []
    }
  ]
}