{
  "nbformat": 4,
  "nbformat_minor": 0,
  "metadata": {
    "colab": {
      "name": "Untitled3.ipynb",
      "provenance": [],
      "toc_visible": true,
      "authorship_tag": "ABX9TyOktO4sUjvVjP0sSPQWlSKE",
      "include_colab_link": true
    },
    "kernelspec": {
      "name": "python3",
      "display_name": "Python 3"
    }
  },
  "cells": [
    {
      "cell_type": "markdown",
      "metadata": {
        "id": "view-in-github",
        "colab_type": "text"
      },
      "source": [
        "<a href=\"https://colab.research.google.com/github/GurkiratSarna/CE888-Decision-Making-UoE/blob/master/Lab_5/my_recommender.ipynb\" target=\"_parent\"><img src=\"https://colab.research.google.com/assets/colab-badge.svg\" alt=\"Open In Colab\"/></a>"
      ]
    },
    {
      "cell_type": "code",
      "metadata": {
        "id": "gPKGSoPu0-pU",
        "colab_type": "code",
        "colab": {}
      },
      "source": [
        "import pandas as pd\n",
        "import numpy as np"
      ],
      "execution_count": 0,
      "outputs": []
    },
    {
      "cell_type": "code",
      "metadata": {
        "id": "LDKWFZmk1Jwn",
        "colab_type": "code",
        "colab": {
          "base_uri": "https://localhost:8080/",
          "height": 255
        },
        "outputId": "2b9dca4c-56eb-409b-9cd8-b9b5a5088287"
      },
      "source": [
        "#Upload file in sample_data folder\n",
        "#https://github.com/GurkiratSarna/CE888-Decision-Making-UoE/blob/master/Lab_5/jester-data-1.csv\n",
        "df = pd.read_csv(\"jester-data-1.csv\", header=None)\n",
        "print(df)"
      ],
      "execution_count": 15,
      "outputs": [
        {
          "output_type": "stream",
          "text": [
            "       0      1      2      3      4    ...    96     97     98     99     100\n",
            "0       74  -7.82   8.79  -9.66  -8.16  ...  99.00  -5.63  99.00  99.00  99.00\n",
            "1      100   4.08  -0.29   6.36   4.37  ...  -2.14   3.06   0.34  -4.32   1.07\n",
            "2       49  99.00  99.00  99.00  99.00  ...  99.00  99.00  99.00  99.00  99.00\n",
            "3       48  99.00   8.35  99.00  99.00  ...  99.00  99.00  99.00  99.00  99.00\n",
            "4       91   8.50   4.61  -4.17  -5.39  ...   1.55   3.11   6.55   1.80   1.60\n",
            "...    ...    ...    ...    ...    ...  ...    ...    ...    ...    ...    ...\n",
            "24978  100   0.44   7.43   9.08   2.33  ...   9.03   6.55   8.69   8.79   7.43\n",
            "24979   91   9.13  -8.16   8.59   9.08  ...  -8.20  -7.23  -8.59   9.13   8.45\n",
            "24980   39  99.00  99.00  99.00  99.00  ...  99.00  99.00  99.00  99.00  99.00\n",
            "24981   37  99.00  99.00  99.00  99.00  ...  99.00  99.00  99.00  99.00  99.00\n",
            "24982   72   2.43   2.67  -3.98   4.27  ...  99.00  99.00  99.00  99.00  99.00\n",
            "\n",
            "[24983 rows x 101 columns]\n"
          ],
          "name": "stdout"
        }
      ]
    },
    {
      "cell_type": "code",
      "metadata": {
        "id": "5qVnFEUg18ER",
        "colab_type": "code",
        "colab": {
          "base_uri": "https://localhost:8080/",
          "height": 34
        },
        "outputId": "d709c237-cfa9-40b4-e48f-c361807f7c0c"
      },
      "source": [
        "#Helper function\n",
        "arr = df.values\n",
        "print(arr.shape)"
      ],
      "execution_count": 16,
      "outputs": [
        {
          "output_type": "stream",
          "text": [
            "(24983, 101)\n"
          ],
          "name": "stdout"
        }
      ]
    },
    {
      "cell_type": "code",
      "metadata": {
        "id": "ldwD1qEsOdl-",
        "colab_type": "code",
        "colab": {
          "base_uri": "https://localhost:8080/",
          "height": 51
        },
        "outputId": "808459a7-e4f4-473d-f862-7ccf90777e20"
      },
      "source": [
        "# shorthand for np.asarray(condition).nonzero().\n",
        "rated = np.where(arr!=99)\n",
        "print(rated)\n",
        "print(len(rated[0]), rated[1].shape)"
      ],
      "execution_count": 17,
      "outputs": [
        {
          "output_type": "stream",
          "text": [
            "(array([    0,     0,     0, ..., 24982, 24982, 24982]), array([ 0,  1,  2, ..., 70, 71, 87]))\n",
            "1835357 (1835357,)\n"
          ],
          "name": "stdout"
        }
      ]
    },
    {
      "cell_type": "code",
      "metadata": {
        "id": "I1u3KT3tOp2X",
        "colab_type": "code",
        "colab": {}
      },
      "source": [
        "def replace(orig, percentage=0.1):\n",
        "  \"\"\"\n",
        "  Replaces 'percentage'% of the original values in 'orig' with 99's\n",
        "  :param orig: original data array\n",
        "  :param percentage: percentage of values to replace (0<percentage<1)\n",
        "  \"\"\"\n",
        "  new_data = orig.copy()\n",
        "  rated = np.where(arr!=99)\n",
        "  n_rated = len(rated[0])\n",
        "  idx = np.random.choice(n_rated, size=int(percentage*n_rated), replace=False)\n",
        "  new_data[rated[0][idx], rated[1][idx]] = 99\n",
        "  return new_data, (rated[0][idx], rated[1][idx])"
      ],
      "execution_count": 0,
      "outputs": []
    },
    {
      "cell_type": "code",
      "metadata": {
        "id": "ZKp9HX5-OtaG",
        "colab_type": "code",
        "colab": {
          "base_uri": "https://localhost:8080/",
          "height": 136
        },
        "outputId": "46b01c41-c18b-4b75-d38f-bd44ac5c6447"
      },
      "source": [
        "new_arr, idx = replace(arr, 0.1)\n",
        "print(new_arr)"
      ],
      "execution_count": 19,
      "outputs": [
        {
          "output_type": "stream",
          "text": [
            "[[ 74.    99.     8.79 ...  99.    99.    99.  ]\n",
            " [100.     4.08  -0.29 ...   0.34  99.     1.07]\n",
            " [ 49.    99.    99.   ...  99.    99.    99.  ]\n",
            " ...\n",
            " [ 39.    99.    99.   ...  99.    99.    99.  ]\n",
            " [ 37.    99.    99.   ...  99.    99.    99.  ]\n",
            " [ 72.     2.43   2.67 ...  99.    99.    99.  ]]\n"
          ],
          "name": "stdout"
        }
      ]
    },
    {
      "cell_type": "code",
      "metadata": {
        "id": "5Q0hIpNQOyXX",
        "colab_type": "code",
        "colab": {
          "base_uri": "https://localhost:8080/",
          "height": 51
        },
        "outputId": "8ed4d6e8-815c-4aa1-b2ce-ede64ed4035e"
      },
      "source": [
        "print(arr[idx[0][0], idx[1][0]])\n",
        "print(new_arr[idx[0][0], idx[1][0]])"
      ],
      "execution_count": 20,
      "outputs": [
        {
          "output_type": "stream",
          "text": [
            "-1.99\n",
            "99.0\n"
          ],
          "name": "stdout"
        }
      ]
    },
    {
      "cell_type": "markdown",
      "metadata": {
        "id": "THdYvAMeQ4a6",
        "colab_type": "text"
      },
      "source": [
        "***Latent Features***"
      ]
    },
    {
      "cell_type": "code",
      "metadata": {
        "id": "ShefdGaEQm0S",
        "colab_type": "code",
        "colab": {
          "base_uri": "https://localhost:8080/",
          "height": 1000
        },
        "outputId": "d6ebc589-fc03-439c-c0f9-bb729f026614"
      },
      "source": [
        "n_latent_factors = 2\n",
        "\n",
        "user_ratings = df.values\n",
        "print(user_ratings)\n",
        "# Initialise as random values\n",
        "latent_user_preferences = np.random.random((user_ratings.shape[0], n_latent_factors))\n",
        "print(latent_user_preferences)\n",
        "latent_item_features = np.random.random((user_ratings.shape[1], n_latent_factors))\n",
        "print(latent_item_features)"
      ],
      "execution_count": 21,
      "outputs": [
        {
          "output_type": "stream",
          "text": [
            "[[ 74.    -7.82   8.79 ...  99.    99.    99.  ]\n",
            " [100.     4.08  -0.29 ...   0.34  -4.32   1.07]\n",
            " [ 49.    99.    99.   ...  99.    99.    99.  ]\n",
            " ...\n",
            " [ 39.    99.    99.   ...  99.    99.    99.  ]\n",
            " [ 37.    99.    99.   ...  99.    99.    99.  ]\n",
            " [ 72.     2.43   2.67 ...  99.    99.    99.  ]]\n",
            "[[0.89519424 0.80801041]\n",
            " [0.46072765 0.50525453]\n",
            " [0.51536446 0.15559621]\n",
            " ...\n",
            " [0.35951595 0.76321017]\n",
            " [0.74529941 0.57805578]\n",
            " [0.214441   0.95984477]]\n",
            "[[0.73059887 0.3458005 ]\n",
            " [0.89237666 0.59278286]\n",
            " [0.4425242  0.77231431]\n",
            " [0.56160985 0.86630339]\n",
            " [0.7486216  0.54724466]\n",
            " [0.4202979  0.06211873]\n",
            " [0.94575366 0.30094505]\n",
            " [0.09291056 0.71645495]\n",
            " [0.74910047 0.22243797]\n",
            " [0.73438872 0.4003098 ]\n",
            " [0.48079197 0.75306944]\n",
            " [0.19542856 0.10626763]\n",
            " [0.47044662 0.46197802]\n",
            " [0.34504203 0.19368376]\n",
            " [0.58048941 0.22170367]\n",
            " [0.28524236 0.6309388 ]\n",
            " [0.38298182 0.25387985]\n",
            " [0.47519133 0.17318108]\n",
            " [0.44399658 0.324972  ]\n",
            " [0.1450725  0.46095422]\n",
            " [0.67531817 0.90477352]\n",
            " [0.37491963 0.32255079]\n",
            " [0.70558268 0.72916288]\n",
            " [0.89638816 0.82219647]\n",
            " [0.19413947 0.52440987]\n",
            " [0.67808709 0.54986279]\n",
            " [0.51599598 0.15953929]\n",
            " [0.18771357 0.36832351]\n",
            " [0.21383517 0.97970469]\n",
            " [0.94140114 0.35027936]\n",
            " [0.58863166 0.84688366]\n",
            " [0.01352669 0.98314236]\n",
            " [0.92224787 0.93287571]\n",
            " [0.41695432 0.75852786]\n",
            " [0.91741729 0.74357113]\n",
            " [0.61899015 0.8681001 ]\n",
            " [0.39107261 0.43850201]\n",
            " [0.0207812  0.18273677]\n",
            " [0.14457388 0.72854224]\n",
            " [0.44763892 0.6438641 ]\n",
            " [0.69293347 0.00572257]\n",
            " [0.18026836 0.47024884]\n",
            " [0.98102234 0.37843909]\n",
            " [0.45163303 0.79466816]\n",
            " [0.69901644 0.41575756]\n",
            " [0.97798692 0.75449673]\n",
            " [0.72259151 0.55636676]\n",
            " [0.02217259 0.75525301]\n",
            " [0.47324659 0.74318303]\n",
            " [0.68512559 0.23180739]\n",
            " [0.21631074 0.50533753]\n",
            " [0.26008956 0.36055305]\n",
            " [0.64233678 0.45786818]\n",
            " [0.40369983 0.65330278]\n",
            " [0.60832888 0.53545228]\n",
            " [0.03936332 0.90778487]\n",
            " [0.50829511 0.54050458]\n",
            " [0.11010888 0.77003302]\n",
            " [0.80306046 0.70204151]\n",
            " [0.98243758 0.60734132]\n",
            " [0.13074609 0.27493291]\n",
            " [0.51758888 0.65773474]\n",
            " [0.49392125 0.44710795]\n",
            " [0.78901031 0.15524945]\n",
            " [0.98100858 0.36637403]\n",
            " [0.06253136 0.2258873 ]\n",
            " [0.98364004 0.4680921 ]\n",
            " [0.17662426 0.27052111]\n",
            " [0.75003429 0.24108402]\n",
            " [0.25583168 0.22371047]\n",
            " [0.17149337 0.2992049 ]\n",
            " [0.85760504 0.41662286]\n",
            " [0.8300666  0.15142962]\n",
            " [0.35258638 0.62106058]\n",
            " [0.51990182 0.27333587]\n",
            " [0.34213021 0.38587499]\n",
            " [0.85422901 0.95853593]\n",
            " [0.12369471 0.20256206]\n",
            " [0.54297711 0.82672093]\n",
            " [0.761402   0.32558667]\n",
            " [0.25404942 0.87555413]\n",
            " [0.90514299 0.85171892]\n",
            " [0.95000666 0.96082569]\n",
            " [0.2207236  0.59864199]\n",
            " [0.63827648 0.40222137]\n",
            " [0.25077845 0.20640977]\n",
            " [0.14178407 0.05481155]\n",
            " [0.7967877  0.16842972]\n",
            " [0.35529216 0.87934267]\n",
            " [0.62724134 0.23165974]\n",
            " [0.30924206 0.52811715]\n",
            " [0.99267206 0.63303585]\n",
            " [0.53894818 0.93602919]\n",
            " [0.25939828 0.92141818]\n",
            " [0.94261406 0.98988987]\n",
            " [0.99807165 0.70742981]\n",
            " [0.27643333 0.65350164]\n",
            " [0.67471258 0.44241085]\n",
            " [0.82354183 0.05357424]\n",
            " [0.02033806 0.13940931]\n",
            " [0.82823086 0.32743455]]\n"
          ],
          "name": "stdout"
        }
      ]
    },
    {
      "cell_type": "code",
      "metadata": {
        "id": "qrS8cHlhQuaD",
        "colab_type": "code",
        "colab": {}
      },
      "source": [
        "def predict_rating(user_id, item_id):\n",
        "    \"\"\" Predict a rating given a user_id and an item_id.\n",
        "    \"\"\"\n",
        "    user_preference = latent_user_preferences[user_id]\n",
        "    item_preference = latent_item_features[item_id]\n",
        "    return user_preference.dot(item_preference)\n",
        "\n",
        "\n",
        "def train(user_id, item_id, rating, alpha=0.0001):\n",
        "    \n",
        "    #print item_id\n",
        "    prediction_rating = predict_rating(user_id, item_id)\n",
        "    err =  prediction_rating - rating\n",
        "    #print err\n",
        "    user_pref_values = latent_user_preferences[user_id][:]\n",
        "    latent_user_preferences[user_id] -= alpha * err * latent_item_features[item_id]\n",
        "    latent_item_features[item_id] -= alpha * err * user_pref_values\n",
        "    return err\n",
        "    \n",
        "\n",
        "def sgd(iterations=300000):\n",
        "    \"\"\" Iterate over all users and all items and train for \n",
        "        a certain number of iterations\n",
        "    \"\"\"\n",
        "    for iteration in range(iterations):\n",
        "        error = []\n",
        "        for user_id in range(latent_user_preferences.shape[0]):\n",
        "            for item_id in range(latent_item_features.shape[0]):\n",
        "                rating = user_ratings[user_id][item_id]\n",
        "                if not np.isnan(rating):\n",
        "                    err = train(user_id, item_id, rating)\n",
        "                    error.append(err)\n",
        "        mse = (np.array(error) ** 2).mean()   \n",
        "        if (iteration % 10000) == 0:\n",
        "            print(mse)"
      ],
      "execution_count": 0,
      "outputs": []
    },
    {
      "cell_type": "code",
      "metadata": {
        "id": "HWlq1dbERAwz",
        "colab_type": "code",
        "colab": {
          "base_uri": "https://localhost:8080/",
          "height": 323
        },
        "outputId": "156d7e4e-05ba-4569-b422-3714be7ba593"
      },
      "source": [
        "#sgd()\n",
        "#sgd(100)\n",
        "sgd(20) "
      ],
      "execution_count": 28,
      "outputs": [
        {
          "output_type": "stream",
          "text": [
            "nan\n"
          ],
          "name": "stdout"
        },
        {
          "output_type": "error",
          "ename": "KeyboardInterrupt",
          "evalue": "ignored",
          "traceback": [
            "\u001b[0;31m---------------------------------------------------------------------------\u001b[0m",
            "\u001b[0;31mKeyboardInterrupt\u001b[0m                         Traceback (most recent call last)",
            "\u001b[0;32m<ipython-input-28-882e1b48bf0e>\u001b[0m in \u001b[0;36m<module>\u001b[0;34m()\u001b[0m\n\u001b[0;32m----> 1\u001b[0;31m \u001b[0msgd\u001b[0m\u001b[0;34m(\u001b[0m\u001b[0;36m20\u001b[0m\u001b[0;34m)\u001b[0m\u001b[0;34m\u001b[0m\u001b[0;34m\u001b[0m\u001b[0m\n\u001b[0m",
            "\u001b[0;32m<ipython-input-13-bfc68363e164>\u001b[0m in \u001b[0;36msgd\u001b[0;34m(iterations)\u001b[0m\n\u001b[1;32m     29\u001b[0m                 \u001b[0mrating\u001b[0m \u001b[0;34m=\u001b[0m \u001b[0muser_ratings\u001b[0m\u001b[0;34m[\u001b[0m\u001b[0muser_id\u001b[0m\u001b[0;34m]\u001b[0m\u001b[0;34m[\u001b[0m\u001b[0mitem_id\u001b[0m\u001b[0;34m]\u001b[0m\u001b[0;34m\u001b[0m\u001b[0;34m\u001b[0m\u001b[0m\n\u001b[1;32m     30\u001b[0m                 \u001b[0;32mif\u001b[0m \u001b[0;32mnot\u001b[0m \u001b[0mnp\u001b[0m\u001b[0;34m.\u001b[0m\u001b[0misnan\u001b[0m\u001b[0;34m(\u001b[0m\u001b[0mrating\u001b[0m\u001b[0;34m)\u001b[0m\u001b[0;34m:\u001b[0m\u001b[0;34m\u001b[0m\u001b[0;34m\u001b[0m\u001b[0m\n\u001b[0;32m---> 31\u001b[0;31m                     \u001b[0merr\u001b[0m \u001b[0;34m=\u001b[0m \u001b[0mtrain\u001b[0m\u001b[0;34m(\u001b[0m\u001b[0muser_id\u001b[0m\u001b[0;34m,\u001b[0m \u001b[0mitem_id\u001b[0m\u001b[0;34m,\u001b[0m \u001b[0mrating\u001b[0m\u001b[0;34m)\u001b[0m\u001b[0;34m\u001b[0m\u001b[0;34m\u001b[0m\u001b[0m\n\u001b[0m\u001b[1;32m     32\u001b[0m                     \u001b[0merror\u001b[0m\u001b[0;34m.\u001b[0m\u001b[0mappend\u001b[0m\u001b[0;34m(\u001b[0m\u001b[0merr\u001b[0m\u001b[0;34m)\u001b[0m\u001b[0;34m\u001b[0m\u001b[0;34m\u001b[0m\u001b[0m\n\u001b[1;32m     33\u001b[0m         \u001b[0mmse\u001b[0m \u001b[0;34m=\u001b[0m \u001b[0;34m(\u001b[0m\u001b[0mnp\u001b[0m\u001b[0;34m.\u001b[0m\u001b[0marray\u001b[0m\u001b[0;34m(\u001b[0m\u001b[0merror\u001b[0m\u001b[0;34m)\u001b[0m \u001b[0;34m**\u001b[0m \u001b[0;36m2\u001b[0m\u001b[0;34m)\u001b[0m\u001b[0;34m.\u001b[0m\u001b[0mmean\u001b[0m\u001b[0;34m(\u001b[0m\u001b[0;34m)\u001b[0m\u001b[0;34m\u001b[0m\u001b[0;34m\u001b[0m\u001b[0m\n",
            "\u001b[0;32m<ipython-input-13-bfc68363e164>\u001b[0m in \u001b[0;36mtrain\u001b[0;34m(user_id, item_id, rating, alpha)\u001b[0m\n\u001b[1;32m     14\u001b[0m     \u001b[0;31m#print err\u001b[0m\u001b[0;34m\u001b[0m\u001b[0;34m\u001b[0m\u001b[0;34m\u001b[0m\u001b[0m\n\u001b[1;32m     15\u001b[0m     \u001b[0muser_pref_values\u001b[0m \u001b[0;34m=\u001b[0m \u001b[0mlatent_user_preferences\u001b[0m\u001b[0;34m[\u001b[0m\u001b[0muser_id\u001b[0m\u001b[0;34m]\u001b[0m\u001b[0;34m[\u001b[0m\u001b[0;34m:\u001b[0m\u001b[0;34m]\u001b[0m\u001b[0;34m\u001b[0m\u001b[0;34m\u001b[0m\u001b[0m\n\u001b[0;32m---> 16\u001b[0;31m     \u001b[0mlatent_user_preferences\u001b[0m\u001b[0;34m[\u001b[0m\u001b[0muser_id\u001b[0m\u001b[0;34m]\u001b[0m \u001b[0;34m-=\u001b[0m \u001b[0malpha\u001b[0m \u001b[0;34m*\u001b[0m \u001b[0merr\u001b[0m \u001b[0;34m*\u001b[0m \u001b[0mlatent_item_features\u001b[0m\u001b[0;34m[\u001b[0m\u001b[0mitem_id\u001b[0m\u001b[0;34m]\u001b[0m\u001b[0;34m\u001b[0m\u001b[0;34m\u001b[0m\u001b[0m\n\u001b[0m\u001b[1;32m     17\u001b[0m     \u001b[0mlatent_item_features\u001b[0m\u001b[0;34m[\u001b[0m\u001b[0mitem_id\u001b[0m\u001b[0;34m]\u001b[0m \u001b[0;34m-=\u001b[0m \u001b[0malpha\u001b[0m \u001b[0;34m*\u001b[0m \u001b[0merr\u001b[0m \u001b[0;34m*\u001b[0m \u001b[0muser_pref_values\u001b[0m\u001b[0;34m\u001b[0m\u001b[0;34m\u001b[0m\u001b[0m\n\u001b[1;32m     18\u001b[0m     \u001b[0;32mreturn\u001b[0m \u001b[0merr\u001b[0m\u001b[0;34m\u001b[0m\u001b[0;34m\u001b[0m\u001b[0m\n",
            "\u001b[0;31mKeyboardInterrupt\u001b[0m: "
          ]
        }
      ]
    },
    {
      "cell_type": "code",
      "metadata": {
        "id": "soAMZsXv-nyZ",
        "colab_type": "code",
        "colab": {}
      },
      "source": [
        "pred = latent_user_preferences.dot(latent_item_features.T)\n",
        "print(pred)"
      ],
      "execution_count": 0,
      "outputs": []
    },
    {
      "cell_type": "code",
      "metadata": {
        "id": "yPFNXDgl-0Ub",
        "colab_type": "code",
        "colab": {}
      },
      "source": [
        "values = [zip(user_ratings[i], pred[i]) for i in range(pred.shape[0])]\n",
        "comparison_data = pd.DataFrame(values)\n",
        "comparison_data.columns = df.columns"
      ],
      "execution_count": 0,
      "outputs": []
    },
    {
      "cell_type": "code",
      "metadata": {
        "id": "0dgv_yFD_C3C",
        "colab_type": "code",
        "colab": {}
      },
      "source": [
        "# the first number is the orginal value from the jester-ata-1.csv dataset, \n",
        "# the second number is the predicted value\n",
        "print(comparison_data)"
      ],
      "execution_count": 0,
      "outputs": []
    },
    {
      "cell_type": "code",
      "metadata": {
        "id": "BIuJjjZl_cDv",
        "colab_type": "code",
        "colab": {}
      },
      "source": [
        "#Calculate the performance (e.g., MSE) of the algorithm on the validation dataset\n",
        "error=(pred[idx[0][:],idx[1][:]]-arr[idx[0][:],idx[1][:]])**2\n",
        "mse = sum(error)/len(error)\n",
        "mse"
      ],
      "execution_count": 0,
      "outputs": []
    },
    {
      "cell_type": "markdown",
      "metadata": {
        "id": "cRTGgXjX_ykD",
        "colab_type": "text"
      },
      "source": [
        "Changing hyper-parameters (learning rate, number of iterations of SVD, number of latent factors)"
      ]
    },
    {
      "cell_type": "code",
      "metadata": {
        "id": "_xOY7j2Z_-hk",
        "colab_type": "code",
        "colab": {}
      },
      "source": [
        "n_latent_factors2 = 3\n",
        "\n",
        "user_ratings = df.values\n",
        "user_ratings\n",
        "# Initialise as random values\n",
        "latent_user_preferences2 = np.random.random((user_ratings.shape[0], n_latent_factors2))\n",
        "latent_item_features2 = np.random.random((user_ratings.shape[1], n_latent_factors2))"
      ],
      "execution_count": 0,
      "outputs": []
    },
    {
      "cell_type": "code",
      "metadata": {
        "id": "ikbu40TEAHq9",
        "colab_type": "code",
        "colab": {}
      },
      "source": [
        "def predict_rating2(user_id, item_id):\n",
        "    \"\"\" Predict a rating given a user_id and an item_id.\n",
        "    \"\"\"\n",
        "    user_preference2 = latent_user_preferences2[user_id]\n",
        "    item_preference2 = latent_item_features2[item_id]\n",
        "    return user_preference2.dot(item_preference2)\n",
        "\n",
        "\n",
        "def train2(user_id, item_id, rating, alpha=0.001):\n",
        "    \n",
        "    #print item_id\n",
        "    prediction_rating2 = predict_rating2(user_id, item_id)\n",
        "    err =  prediction_rating2 - rating\n",
        "    #print err\n",
        "    user_pref_values2 = latent_user_preferences2[user_id][:]\n",
        "    latent_user_preferences2[user_id] -= alpha * err * latent_item_features2[item_id]\n",
        "    latent_item_features2[item_id] -= alpha * err * user_pref_values2\n",
        "    return err\n",
        "    \n",
        "\n",
        "def sgd2(iterations=30000):\n",
        "    \"\"\" Iterate over all users and all items and train for \n",
        "        a certain number of iterations\n",
        "    \"\"\"\n",
        "    for iteration in range(iterations):\n",
        "        error = []\n",
        "        for user_id in range(latent_user_preferences2.shape[0]):\n",
        "            for item_id in range(latent_item_features2.shape[0]):\n",
        "                rating = user_ratings[user_id][item_id]\n",
        "                if (rating!=99):\n",
        "                    err = train2(user_id, item_id, rating)\n",
        "                    error.append(err)\n",
        "        mse = (np.array(error) ** 2).mean()   \n",
        "        if (iteration % 1) == 0:\n",
        "            print(mse)"
      ],
      "execution_count": 0,
      "outputs": []
    },
    {
      "cell_type": "code",
      "metadata": {
        "id": "epjDoH20AQSs",
        "colab_type": "code",
        "colab": {}
      },
      "source": [
        "sgd2(30)"
      ],
      "execution_count": 0,
      "outputs": []
    },
    {
      "cell_type": "code",
      "metadata": {
        "id": "JGPNPOJnAX5w",
        "colab_type": "code",
        "colab": {}
      },
      "source": [
        "pred2 = latent_user_preferences2.dot(latent_item_features2.T)\n",
        "pred2"
      ],
      "execution_count": 0,
      "outputs": []
    },
    {
      "cell_type": "code",
      "metadata": {
        "id": "D9RERgZMAcnq",
        "colab_type": "code",
        "colab": {}
      },
      "source": [
        "values2 = [zip(user_ratings[i], pred2[i]) for i in range(pred2.shape[0])]\n",
        "comparison_data2 = pd.DataFrame(values2)\n",
        "comparison_data2.columns = df.columns"
      ],
      "execution_count": 0,
      "outputs": []
    },
    {
      "cell_type": "code",
      "metadata": {
        "id": "AuyEwsxvAjsl",
        "colab_type": "code",
        "colab": {}
      },
      "source": [
        "comparison_data2"
      ],
      "execution_count": 0,
      "outputs": []
    },
    {
      "cell_type": "code",
      "metadata": {
        "id": "ZQU9UpuZAmoj",
        "colab_type": "code",
        "colab": {}
      },
      "source": [
        "error2=(pred2[idx[0][:],idx[1][:]]-arr[idx[0][:],idx[1][:]])**2\n",
        "mse2 = sum(error2)/len(error2)\n",
        "mse2"
      ],
      "execution_count": 0,
      "outputs": []
    }
  ]
}