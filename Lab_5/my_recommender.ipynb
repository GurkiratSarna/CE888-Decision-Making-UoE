{
  "nbformat": 4,
  "nbformat_minor": 0,
  "metadata": {
    "colab": {
      "name": "Untitled3.ipynb",
      "provenance": [],
      "toc_visible": true,
      "authorship_tag": "ABX9TyP8Bs+WJizaP9eKXPl2q5e8",
      "include_colab_link": true
    },
    "kernelspec": {
      "name": "python3",
      "display_name": "Python 3"
    }
  },
  "cells": [
    {
      "cell_type": "markdown",
      "metadata": {
        "id": "view-in-github",
        "colab_type": "text"
      },
      "source": [
        "<a href=\"https://colab.research.google.com/github/GurkiratSarna/CE888-Decision-Making-UoE/blob/master/Lab_5/my_recommender.ipynb\" target=\"_parent\"><img src=\"https://colab.research.google.com/assets/colab-badge.svg\" alt=\"Open In Colab\"/></a>"
      ]
    },
    {
      "cell_type": "code",
      "metadata": {
        "id": "gPKGSoPu0-pU",
        "colab_type": "code",
        "colab": {}
      },
      "source": [
        "import pandas as pd\n",
        "import numpy as np"
      ],
      "execution_count": 0,
      "outputs": []
    },
    {
      "cell_type": "code",
      "metadata": {
        "id": "LDKWFZmk1Jwn",
        "colab_type": "code",
        "outputId": "7f45031e-b19d-415b-c086-2cd80068def3",
        "colab": {
          "base_uri": "https://localhost:8080/",
          "height": 255
        }
      },
      "source": [
        "#Upload file in sample_data folder\n",
        "#https://github.com/GurkiratSarna/CE888-Decision-Making-UoE/blob/master/Lab_5/jester-data-1.csv\n",
        "df = pd.read_csv(\"jester-data-1.csv\", header=None)\n",
        "print(df)"
      ],
      "execution_count": 14,
      "outputs": [
        {
          "output_type": "stream",
          "text": [
            "       0      1      2      3      4    ...    96     97     98     99     100\n",
            "0       74  -7.82   8.79  -9.66  -8.16  ...  99.00  -5.63  99.00  99.00  99.00\n",
            "1      100   4.08  -0.29   6.36   4.37  ...  -2.14   3.06   0.34  -4.32   1.07\n",
            "2       49  99.00  99.00  99.00  99.00  ...  99.00  99.00  99.00  99.00  99.00\n",
            "3       48  99.00   8.35  99.00  99.00  ...  99.00  99.00  99.00  99.00  99.00\n",
            "4       91   8.50   4.61  -4.17  -5.39  ...   1.55   3.11   6.55   1.80   1.60\n",
            "...    ...    ...    ...    ...    ...  ...    ...    ...    ...    ...    ...\n",
            "24978  100   0.44   7.43   9.08   2.33  ...   9.03   6.55   8.69   8.79   7.43\n",
            "24979   91   9.13  -8.16   8.59   9.08  ...  -8.20  -7.23  -8.59   9.13   8.45\n",
            "24980   39  99.00  99.00  99.00  99.00  ...  99.00  99.00  99.00  99.00  99.00\n",
            "24981   37  99.00  99.00  99.00  99.00  ...  99.00  99.00  99.00  99.00  99.00\n",
            "24982   72   2.43   2.67  -3.98   4.27  ...  99.00  99.00  99.00  99.00  99.00\n",
            "\n",
            "[24983 rows x 101 columns]\n"
          ],
          "name": "stdout"
        }
      ]
    },
    {
      "cell_type": "code",
      "metadata": {
        "id": "kkObPUPBDsPW",
        "colab_type": "code",
        "colab": {
          "base_uri": "https://localhost:8080/",
          "height": 255
        },
        "outputId": "9493c72f-85a7-4f6c-97d5-3eb578b52cfe"
      },
      "source": [
        "#Drop first column because it shows the number of jokes that have a score. i.e. not 99 in that row.\n",
        "df=df.iloc[:,1:]\n",
        "print(df)"
      ],
      "execution_count": 15,
      "outputs": [
        {
          "output_type": "stream",
          "text": [
            "         1      2      3      4     5    ...    96     97     98     99     100\n",
            "0      -7.82   8.79  -9.66  -8.16 -7.52  ...  99.00  -5.63  99.00  99.00  99.00\n",
            "1       4.08  -0.29   6.36   4.37 -2.38  ...  -2.14   3.06   0.34  -4.32   1.07\n",
            "2      99.00  99.00  99.00  99.00  9.03  ...  99.00  99.00  99.00  99.00  99.00\n",
            "3      99.00   8.35  99.00  99.00  1.80  ...  99.00  99.00  99.00  99.00  99.00\n",
            "4       8.50   4.61  -4.17  -5.39  1.36  ...   1.55   3.11   6.55   1.80   1.60\n",
            "...      ...    ...    ...    ...   ...  ...    ...    ...    ...    ...    ...\n",
            "24978   0.44   7.43   9.08   2.33  3.20  ...   9.03   6.55   8.69   8.79   7.43\n",
            "24979   9.13  -8.16   8.59   9.08  0.87  ...  -8.20  -7.23  -8.59   9.13   8.45\n",
            "24980  99.00  99.00  99.00  99.00 -7.77  ...  99.00  99.00  99.00  99.00  99.00\n",
            "24981  99.00  99.00  99.00  99.00 -9.71  ...  99.00  99.00  99.00  99.00  99.00\n",
            "24982   2.43   2.67  -3.98   4.27 -2.28  ...  99.00  99.00  99.00  99.00  99.00\n",
            "\n",
            "[24983 rows x 100 columns]\n"
          ],
          "name": "stdout"
        }
      ]
    },
    {
      "cell_type": "markdown",
      "metadata": {
        "id": "CD0P0KdRdnY7",
        "colab_type": "text"
      },
      "source": [
        "***Helper Function***"
      ]
    },
    {
      "cell_type": "code",
      "metadata": {
        "id": "I1u3KT3tOp2X",
        "colab_type": "code",
        "colab": {}
      },
      "source": [
        "def replace(orig, percentage=0.1):\n",
        "  \"\"\"\n",
        "  Replaces 'percentage'% of the original values in 'orig' with 99's\n",
        "  :param orig: original data array\n",
        "  :param percentage: percentage of values to replace (0<percentage<1)\n",
        "  \"\"\"\n",
        "  new_data = orig.copy()\n",
        "  rated = np.where(arr!=99)\n",
        "  n_rated = len(rated[0])\n",
        "  idx = np.random.choice(n_rated, size=int(percentage*n_rated), replace=False)\n",
        "  new_data[rated[0][idx], rated[1][idx]] = 99\n",
        "  return new_data, (rated[0][idx], rated[1][idx])"
      ],
      "execution_count": 0,
      "outputs": []
    },
    {
      "cell_type": "code",
      "metadata": {
        "id": "ZKp9HX5-OtaG",
        "colab_type": "code",
        "outputId": "d46b743f-1e08-4967-d368-688fd9307de0",
        "colab": {
          "base_uri": "https://localhost:8080/",
          "height": 136
        }
      },
      "source": [
        "arr=df.values\n",
        "new_arr, idx = replace(arr, 0.1)\n",
        "print(new_arr)"
      ],
      "execution_count": 17,
      "outputs": [
        {
          "output_type": "stream",
          "text": [
            "[[-7.82  8.79 -9.66 ... 99.   99.   99.  ]\n",
            " [ 4.08 -0.29  6.36 ...  0.34 -4.32  1.07]\n",
            " [99.   99.   99.   ... 99.   99.   99.  ]\n",
            " ...\n",
            " [99.   99.   99.   ... 99.   99.   99.  ]\n",
            " [99.   99.   99.   ... 99.   99.   99.  ]\n",
            " [ 2.43  2.67 -3.98 ... 99.   99.   99.  ]]\n"
          ],
          "name": "stdout"
        }
      ]
    },
    {
      "cell_type": "markdown",
      "metadata": {
        "id": "THdYvAMeQ4a6",
        "colab_type": "text"
      },
      "source": [
        "***Latent Features***"
      ]
    },
    {
      "cell_type": "code",
      "metadata": {
        "id": "ShefdGaEQm0S",
        "colab_type": "code",
        "outputId": "0937e63a-27fd-4e63-d2ac-841c4d21dc3d",
        "colab": {
          "base_uri": "https://localhost:8080/",
          "height": 1000
        }
      },
      "source": [
        "n_latent_factors = 2\n",
        "\n",
        "user_ratings = new_arr\n",
        "print(user_ratings)\n",
        "# Initialise as random values\n",
        "latent_user_preferences = np.random.random((user_ratings.shape[0], n_latent_factors))\n",
        "print(latent_user_preferences)\n",
        "latent_item_features = np.random.random((user_ratings.shape[1], n_latent_factors))\n",
        "print(latent_item_features)"
      ],
      "execution_count": 23,
      "outputs": [
        {
          "output_type": "stream",
          "text": [
            "[[-7.82  8.79 -9.66 ... 99.   99.   99.  ]\n",
            " [ 4.08 -0.29  6.36 ...  0.34 -4.32  1.07]\n",
            " [99.   99.   99.   ... 99.   99.   99.  ]\n",
            " ...\n",
            " [99.   99.   99.   ... 99.   99.   99.  ]\n",
            " [99.   99.   99.   ... 99.   99.   99.  ]\n",
            " [ 2.43  2.67 -3.98 ... 99.   99.   99.  ]]\n",
            "[[0.86225947 0.38040204]\n",
            " [0.73988689 0.32758759]\n",
            " [0.94348571 0.23665182]\n",
            " ...\n",
            " [0.51371015 0.00440548]\n",
            " [0.88175138 0.33088418]\n",
            " [0.59634804 0.11559188]]\n",
            "[[7.20673867e-01 2.33792298e-02]\n",
            " [8.90484567e-01 8.65403393e-02]\n",
            " [3.70229243e-02 9.63025729e-01]\n",
            " [4.18687377e-01 8.17358539e-01]\n",
            " [9.46351182e-03 2.22914427e-01]\n",
            " [9.90121116e-01 2.67655700e-01]\n",
            " [1.00528323e-01 2.77541894e-01]\n",
            " [2.81857589e-02 9.46440407e-01]\n",
            " [7.33450557e-02 1.03028508e-01]\n",
            " [7.87275059e-01 1.34906605e-01]\n",
            " [1.05378558e-01 3.96972047e-01]\n",
            " [2.18537991e-01 1.89710516e-01]\n",
            " [9.58227999e-01 7.24382676e-01]\n",
            " [7.85072660e-01 9.60587065e-01]\n",
            " [5.28618582e-01 6.64534026e-01]\n",
            " [4.97421300e-01 4.60130690e-01]\n",
            " [7.92582928e-03 5.61403138e-01]\n",
            " [7.65893318e-01 5.18440126e-01]\n",
            " [4.59183348e-01 4.41135750e-01]\n",
            " [6.47490440e-02 5.85680983e-01]\n",
            " [8.18466589e-01 2.82411559e-01]\n",
            " [3.95072375e-02 4.88478391e-01]\n",
            " [2.35309251e-02 4.23808687e-01]\n",
            " [4.42592841e-01 1.95930820e-01]\n",
            " [1.32135669e-02 2.61372376e-02]\n",
            " [7.77819089e-01 6.53834421e-01]\n",
            " [4.91543827e-01 1.84595035e-01]\n",
            " [1.22709394e-01 7.25494652e-01]\n",
            " [9.83227122e-01 9.88514234e-01]\n",
            " [8.10347229e-01 5.38192781e-01]\n",
            " [6.27156945e-01 7.30520395e-01]\n",
            " [1.94331519e-01 1.52773639e-01]\n",
            " [3.81211739e-01 7.06794798e-01]\n",
            " [5.68066704e-01 2.81269486e-01]\n",
            " [8.43544599e-01 1.03617801e-01]\n",
            " [6.94444442e-01 1.82441222e-01]\n",
            " [8.66796746e-01 2.91590594e-01]\n",
            " [4.54795289e-01 5.46785033e-02]\n",
            " [2.54827763e-01 7.77491943e-01]\n",
            " [8.69453129e-01 9.88784813e-01]\n",
            " [1.30887640e-01 4.89159992e-02]\n",
            " [7.81509370e-01 2.15312423e-01]\n",
            " [7.05751643e-01 5.35714910e-01]\n",
            " [4.64835518e-01 4.89499578e-01]\n",
            " [8.83091838e-01 2.08551221e-01]\n",
            " [8.36518592e-01 5.98625249e-01]\n",
            " [7.17504973e-01 2.94774909e-01]\n",
            " [8.25538421e-02 4.57834297e-01]\n",
            " [8.05684893e-01 4.84003093e-01]\n",
            " [4.22347744e-01 4.08948260e-02]\n",
            " [2.63068053e-01 5.45565040e-01]\n",
            " [1.18480893e-01 3.32871853e-01]\n",
            " [4.44215162e-02 5.09398516e-01]\n",
            " [4.39123166e-01 7.27966172e-01]\n",
            " [9.03720879e-01 5.69424461e-01]\n",
            " [3.38193043e-01 5.61140438e-01]\n",
            " [4.69891623e-04 4.31121574e-01]\n",
            " [2.37982286e-01 7.26685477e-01]\n",
            " [6.40172336e-01 5.74281315e-01]\n",
            " [1.41823357e-01 3.46249377e-01]\n",
            " [8.37639922e-01 4.33144786e-01]\n",
            " [1.62435918e-01 2.33612201e-01]\n",
            " [6.98035962e-01 4.57954699e-03]\n",
            " [1.57173160e-01 8.92019589e-01]\n",
            " [8.01684518e-01 4.40953507e-01]\n",
            " [1.19662406e-02 4.30815282e-01]\n",
            " [4.79670169e-01 4.24058879e-01]\n",
            " [7.92505495e-01 7.02832021e-01]\n",
            " [6.01124323e-01 7.31587845e-01]\n",
            " [7.45971445e-01 6.75628475e-01]\n",
            " [2.69191539e-01 2.03180120e-01]\n",
            " [8.76014876e-01 4.76943322e-01]\n",
            " [8.11104437e-01 9.13820830e-01]\n",
            " [9.66123326e-01 6.35477395e-01]\n",
            " [9.41599339e-02 5.24955566e-02]\n",
            " [2.63770333e-01 6.67445872e-01]\n",
            " [5.26256475e-01 4.71436267e-01]\n",
            " [3.99694705e-01 4.12141657e-01]\n",
            " [9.50047497e-02 1.76955648e-01]\n",
            " [6.57942334e-01 2.71690569e-01]\n",
            " [1.29743729e-02 2.07032948e-01]\n",
            " [1.18582440e-01 6.13780555e-01]\n",
            " [1.04434025e-02 9.82938165e-01]\n",
            " [8.02408863e-01 1.30882081e-01]\n",
            " [7.84450318e-01 9.29685743e-01]\n",
            " [2.05239350e-01 4.84988429e-01]\n",
            " [3.93214612e-01 2.52130023e-01]\n",
            " [4.79533284e-01 9.48778286e-01]\n",
            " [4.87221760e-01 2.51467716e-02]\n",
            " [5.45475401e-01 6.49992286e-01]\n",
            " [7.50180560e-01 1.91530664e-01]\n",
            " [9.65443204e-01 1.99433016e-01]\n",
            " [4.11818678e-01 8.51453138e-01]\n",
            " [4.29793450e-01 4.51077169e-01]\n",
            " [5.71009515e-01 9.39948562e-01]\n",
            " [9.14750961e-01 8.90418235e-01]\n",
            " [8.01215054e-01 4.23808971e-01]\n",
            " [4.62636906e-01 9.41280531e-02]\n",
            " [6.02607768e-01 4.76595577e-01]\n",
            " [4.44848447e-01 3.16074571e-01]]\n"
          ],
          "name": "stdout"
        }
      ]
    },
    {
      "cell_type": "code",
      "metadata": {
        "id": "qrS8cHlhQuaD",
        "colab_type": "code",
        "colab": {}
      },
      "source": [
        "def predict_rating(user_id, item_id):\n",
        "    \"\"\" Predict a rating given a user_id and an item_id.\n",
        "    \"\"\"\n",
        "    user_preference = latent_user_preferences[user_id]\n",
        "    item_preference = latent_item_features[item_id]\n",
        "    return user_preference.dot(item_preference)\n",
        "\n",
        "\n",
        "def train(user_id, item_id, rating, alpha=0.0001):\n",
        "    \n",
        "    #print item_id\n",
        "    prediction_rating = predict_rating(user_id, item_id)\n",
        "    err =  prediction_rating - rating\n",
        "    #print err\n",
        "    user_pref_values = latent_user_preferences[user_id][:]\n",
        "    latent_user_preferences[user_id] -= alpha * err * latent_item_features[item_id]\n",
        "    latent_item_features[item_id] -= alpha * err * user_pref_values\n",
        "    return err\n",
        "    \n",
        "#change nan condition to not equal to 99\n",
        "#change 10000 modulo operation to 10, for 100 sgd() iterations\n",
        "def sgd(iterations=300000):\n",
        "    \"\"\" Iterate over all users and all items and train for \n",
        "        a certain number of iterations\n",
        "    \"\"\"\n",
        "    for iteration in range(iterations):\n",
        "        error = []\n",
        "        for user_id in range(latent_user_preferences.shape[0]):\n",
        "            for item_id in range(latent_item_features.shape[0]):\n",
        "                rating = user_ratings[user_id][item_id]\n",
        "                if rating != 99:\n",
        "                    err = train(user_id, item_id, rating)\n",
        "                    error.append(err)\n",
        "        mse = (np.array(error) ** 2).mean()   \n",
        "        if (iteration % 10) == 0:\n",
        "            print(mse)"
      ],
      "execution_count": 0,
      "outputs": []
    },
    {
      "cell_type": "code",
      "metadata": {
        "id": "HWlq1dbERAwz",
        "colab_type": "code",
        "outputId": "6bc9bc48-0512-46b3-967b-baa97040b4be",
        "colab": {
          "base_uri": "https://localhost:8080/",
          "height": 34
        }
      },
      "source": [
        "#sgd()\n",
        "#sgd(100)\n",
        "#sgd(20) \n",
        "'''814.0265993739114\n",
        "/usr/local/lib/python3.6/dist-packages/ipykernel_launcher.py:17: RuntimeWarning: overflow encountered in multiply\n",
        "/usr/local/lib/python3.6/dist-packages/ipykernel_launcher.py:16: RuntimeWarning: overflow encountered in multiply\n",
        "  app.launch_new_instance()\n",
        "/usr/local/lib/python3.6/dist-packages/ipykernel_launcher.py:16: RuntimeWarning: invalid value encountered in subtract\n",
        "  app.launch_new_instance()\n",
        "/usr/local/lib/python3.6/dist-packages/ipykernel_launcher.py:33: RuntimeWarning: overflow encountered in square'''\n",
        "#sgd(15)\n",
        "'''nan'''\n",
        "sgd(100)"
      ],
      "execution_count": 0,
      "outputs": [
        {
          "output_type": "stream",
          "text": [
            "26.23354558164789\n"
          ],
          "name": "stdout"
        }
      ]
    },
    {
      "cell_type": "code",
      "metadata": {
        "id": "soAMZsXv-nyZ",
        "colab_type": "code",
        "colab": {}
      },
      "source": [
        "pred = latent_user_preferences.dot(latent_item_features.T)\n",
        "print(pred)"
      ],
      "execution_count": 0,
      "outputs": []
    },
    {
      "cell_type": "code",
      "metadata": {
        "id": "yPFNXDgl-0Ub",
        "colab_type": "code",
        "colab": {}
      },
      "source": [
        "values = [zip(user_ratings[i], pred[i]) for i in range(pred.shape[0])]\n",
        "comparison_data = pd.DataFrame(values)\n",
        "comparison_data.columns = df.columns"
      ],
      "execution_count": 0,
      "outputs": []
    },
    {
      "cell_type": "code",
      "metadata": {
        "id": "0dgv_yFD_C3C",
        "colab_type": "code",
        "colab": {}
      },
      "source": [
        "# the first number is the orginal value from the jester-ata-1.csv dataset, \n",
        "# the second number is the predicted value\n",
        "print(comparison_data)"
      ],
      "execution_count": 0,
      "outputs": []
    },
    {
      "cell_type": "code",
      "metadata": {
        "id": "BIuJjjZl_cDv",
        "colab_type": "code",
        "colab": {}
      },
      "source": [
        "#Calculate the performance (e.g., MSE) of the algorithm on the validation dataset\n",
        "error=(pred[idx[0][:],idx[1][:]]-arr[idx[0][:],idx[1][:]])**2\n",
        "mse = sum(error)/len(error)\n",
        "mse"
      ],
      "execution_count": 0,
      "outputs": []
    },
    {
      "cell_type": "markdown",
      "metadata": {
        "id": "cRTGgXjX_ykD",
        "colab_type": "text"
      },
      "source": [
        "***Changing hyper-parameters (learning rate, number of iterations of SVD, number of latent factors)***"
      ]
    },
    {
      "cell_type": "code",
      "metadata": {
        "id": "_xOY7j2Z_-hk",
        "colab_type": "code",
        "colab": {}
      },
      "source": [
        "# changed factors to 3\n",
        "n_latent_factors2 = 3\n",
        "\n",
        "user_ratings2 = new_arr\n",
        "user_ratings2\n",
        "# Initialise as random values\n",
        "latent_user_preferences2 = np.random.random((user_ratings2.shape[0], n_latent_factors2))\n",
        "latent_item_features2 = np.random.random((user_ratings2.shape[1], n_latent_factors2))"
      ],
      "execution_count": 0,
      "outputs": []
    },
    {
      "cell_type": "code",
      "metadata": {
        "id": "ikbu40TEAHq9",
        "colab_type": "code",
        "colab": {}
      },
      "source": [
        "def predict_rating2(user_id, item_id):\n",
        "    \"\"\" Predict a rating given a user_id and an item_id.\n",
        "    \"\"\"\n",
        "    user_preference2 = latent_user_preferences2[user_id]\n",
        "    item_preference2 = latent_item_features2[item_id]\n",
        "    return user_preference2.dot(item_preference2)\n",
        "\n",
        "#changed training to 0.001\n",
        "def train2(user_id, item_id, rating, alpha=0.001):\n",
        "    \n",
        "    #print item_id\n",
        "    prediction_rating2 = predict_rating2(user_id, item_id)\n",
        "    err =  prediction_rating2 - rating\n",
        "    #print err\n",
        "    user_pref_values2 = latent_user_preferences2[user_id][:]\n",
        "    latent_user_preferences2[user_id] -= alpha * err * latent_item_features2[item_id]\n",
        "    latent_item_features2[item_id] -= alpha * err * user_pref_values2\n",
        "    return err\n",
        "    \n",
        "\n",
        "def sgd2(iterations=30000):\n",
        "    \"\"\" Iterate over all users and all items and train for \n",
        "        a certain number of iterations\n",
        "    \"\"\"\n",
        "    for iteration in range(iterations):\n",
        "        error = []\n",
        "        for user_id in range(latent_user_preferences2.shape[0]):\n",
        "            for item_id in range(latent_item_features2.shape[0]):\n",
        "                rating = user_ratings[user_id][item_id]\n",
        "                if (rating!=99):\n",
        "                    err = train2(user_id, item_id, rating)\n",
        "                    error.append(err)\n",
        "        mse = (np.array(error) ** 2).mean()   \n",
        "        if (iteration % 1) == 0:\n",
        "            print(mse)"
      ],
      "execution_count": 0,
      "outputs": []
    },
    {
      "cell_type": "code",
      "metadata": {
        "id": "epjDoH20AQSs",
        "colab_type": "code",
        "colab": {}
      },
      "source": [
        "sgd2(30)"
      ],
      "execution_count": 0,
      "outputs": []
    },
    {
      "cell_type": "code",
      "metadata": {
        "id": "JGPNPOJnAX5w",
        "colab_type": "code",
        "colab": {}
      },
      "source": [
        "pred2 = latent_user_preferences2.dot(latent_item_features2.T)\n",
        "pred2"
      ],
      "execution_count": 0,
      "outputs": []
    },
    {
      "cell_type": "code",
      "metadata": {
        "id": "D9RERgZMAcnq",
        "colab_type": "code",
        "colab": {}
      },
      "source": [
        "values2 = [zip(user_ratings[i], pred2[i]) for i in range(pred2.shape[0])]\n",
        "comparison_data2 = pd.DataFrame(values2)\n",
        "comparison_data2.columns = df.columns"
      ],
      "execution_count": 0,
      "outputs": []
    },
    {
      "cell_type": "code",
      "metadata": {
        "id": "AuyEwsxvAjsl",
        "colab_type": "code",
        "colab": {}
      },
      "source": [
        "comparison_data2"
      ],
      "execution_count": 0,
      "outputs": []
    },
    {
      "cell_type": "code",
      "metadata": {
        "id": "ZQU9UpuZAmoj",
        "colab_type": "code",
        "colab": {}
      },
      "source": [
        "error2=(pred2[idx[0][:],idx[1][:]]-arr[idx[0][:],idx[1][:]])**2\n",
        "mse2 = sum(error2)/len(error2)\n",
        "mse2"
      ],
      "execution_count": 0,
      "outputs": []
    }
  ]
}