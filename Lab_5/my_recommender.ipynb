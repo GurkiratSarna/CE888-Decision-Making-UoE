{
  "nbformat": 4,
  "nbformat_minor": 0,
  "metadata": {
    "colab": {
      "name": "Untitled3.ipynb",
      "provenance": [],
      "toc_visible": true,
      "authorship_tag": "ABX9TyNBVel/uRMooDL0tXavV67k",
      "include_colab_link": true
    },
    "kernelspec": {
      "name": "python3",
      "display_name": "Python 3"
    }
  },
  "cells": [
    {
      "cell_type": "markdown",
      "metadata": {
        "id": "view-in-github",
        "colab_type": "text"
      },
      "source": [
        "<a href=\"https://colab.research.google.com/github/GurkiratSarna/CE888-Decision-Making-UoE/blob/master/Lab_5/my_recommender.ipynb\" target=\"_parent\"><img src=\"https://colab.research.google.com/assets/colab-badge.svg\" alt=\"Open In Colab\"/></a>"
      ]
    },
    {
      "cell_type": "code",
      "metadata": {
        "id": "gPKGSoPu0-pU",
        "colab_type": "code",
        "colab": {}
      },
      "source": [
        "import pandas as pd\n",
        "import numpy as np"
      ],
      "execution_count": 0,
      "outputs": []
    },
    {
      "cell_type": "code",
      "metadata": {
        "id": "LDKWFZmk1Jwn",
        "colab_type": "code",
        "outputId": "47a881e6-9d3e-4215-a414-47fdb01648ff",
        "colab": {
          "base_uri": "https://localhost:8080/",
          "height": 255
        }
      },
      "source": [
        "#Upload file in sample_data folder\n",
        "#https://github.com/GurkiratSarna/CE888-Decision-Making-UoE/blob/master/Lab_5/jester-data-1.csv\n",
        "df = pd.read_csv(\"jester-data-1.csv\", header=None)\n",
        "print(df)"
      ],
      "execution_count": 2,
      "outputs": [
        {
          "output_type": "stream",
          "text": [
            "       0      1      2      3      4    ...    96     97     98     99     100\n",
            "0       74  -7.82   8.79  -9.66  -8.16  ...  99.00  -5.63  99.00  99.00  99.00\n",
            "1      100   4.08  -0.29   6.36   4.37  ...  -2.14   3.06   0.34  -4.32   1.07\n",
            "2       49  99.00  99.00  99.00  99.00  ...  99.00  99.00  99.00  99.00  99.00\n",
            "3       48  99.00   8.35  99.00  99.00  ...  99.00  99.00  99.00  99.00  99.00\n",
            "4       91   8.50   4.61  -4.17  -5.39  ...   1.55   3.11   6.55   1.80   1.60\n",
            "...    ...    ...    ...    ...    ...  ...    ...    ...    ...    ...    ...\n",
            "24978  100   0.44   7.43   9.08   2.33  ...   9.03   6.55   8.69   8.79   7.43\n",
            "24979   91   9.13  -8.16   8.59   9.08  ...  -8.20  -7.23  -8.59   9.13   8.45\n",
            "24980   39  99.00  99.00  99.00  99.00  ...  99.00  99.00  99.00  99.00  99.00\n",
            "24981   37  99.00  99.00  99.00  99.00  ...  99.00  99.00  99.00  99.00  99.00\n",
            "24982   72   2.43   2.67  -3.98   4.27  ...  99.00  99.00  99.00  99.00  99.00\n",
            "\n",
            "[24983 rows x 101 columns]\n"
          ],
          "name": "stdout"
        }
      ]
    },
    {
      "cell_type": "code",
      "metadata": {
        "id": "5qVnFEUg18ER",
        "colab_type": "code",
        "outputId": "3d9e6818-e23f-4f02-93a8-a96bf0a739a5",
        "colab": {
          "base_uri": "https://localhost:8080/",
          "height": 34
        }
      },
      "source": [
        "#Helper function\n",
        "arr = df.values\n",
        "print(arr.shape)"
      ],
      "execution_count": 3,
      "outputs": [
        {
          "output_type": "stream",
          "text": [
            "(24983, 101)\n"
          ],
          "name": "stdout"
        }
      ]
    },
    {
      "cell_type": "code",
      "metadata": {
        "id": "ldwD1qEsOdl-",
        "colab_type": "code",
        "outputId": "b2d0239b-991f-492e-b1ae-4ee1c6d18f12",
        "colab": {
          "base_uri": "https://localhost:8080/",
          "height": 51
        }
      },
      "source": [
        "# shorthand for np.asarray(condition).nonzero().\n",
        "rated = np.where(arr!=99)\n",
        "print(rated)\n",
        "print(len(rated[0]), rated[1].shape)"
      ],
      "execution_count": 5,
      "outputs": [
        {
          "output_type": "stream",
          "text": [
            "(array([    0,     0,     0, ..., 24982, 24982, 24982]), array([ 0,  1,  2, ..., 70, 71, 87]))\n",
            "1835357 (1835357,)\n"
          ],
          "name": "stdout"
        }
      ]
    },
    {
      "cell_type": "code",
      "metadata": {
        "id": "I1u3KT3tOp2X",
        "colab_type": "code",
        "colab": {}
      },
      "source": [
        "def replace(orig, percentage=0.1):\n",
        "  \"\"\"\n",
        "  Replaces 'percentage'% of the original values in 'orig' with 99's\n",
        "  :param orig: original data array\n",
        "  :param percentage: percentage of values to replace (0<percentage<1)\n",
        "  \"\"\"\n",
        "  new_data = orig.copy()\n",
        "  rated = np.where(arr!=99)\n",
        "  n_rated = len(rated[0])\n",
        "  idx = np.random.choice(n_rated, size=int(percentage*n_rated), replace=False)\n",
        "  new_data[rated[0][idx], rated[1][idx]] = 99\n",
        "  return new_data, (rated[0][idx], rated[1][idx])"
      ],
      "execution_count": 0,
      "outputs": []
    },
    {
      "cell_type": "code",
      "metadata": {
        "id": "ZKp9HX5-OtaG",
        "colab_type": "code",
        "outputId": "225ff2b1-f63a-4f4b-b555-57f86e3501c5",
        "colab": {
          "base_uri": "https://localhost:8080/",
          "height": 136
        }
      },
      "source": [
        "new_arr, idx = replace(arr, 0.1)\n",
        "print(new_arr)"
      ],
      "execution_count": 7,
      "outputs": [
        {
          "output_type": "stream",
          "text": [
            "[[ 74.    -7.82  99.   ...  99.    99.    99.  ]\n",
            " [100.     4.08  -0.29 ...  99.    -4.32   1.07]\n",
            " [ 49.    99.    99.   ...  99.    99.    99.  ]\n",
            " ...\n",
            " [ 39.    99.    99.   ...  99.    99.    99.  ]\n",
            " [ 99.    99.    99.   ...  99.    99.    99.  ]\n",
            " [ 72.     2.43  99.   ...  99.    99.    99.  ]]\n"
          ],
          "name": "stdout"
        }
      ]
    },
    {
      "cell_type": "code",
      "metadata": {
        "id": "5Q0hIpNQOyXX",
        "colab_type": "code",
        "outputId": "b59333e7-f801-4d5a-a2d8-accd0912fdcc",
        "colab": {
          "base_uri": "https://localhost:8080/",
          "height": 51
        }
      },
      "source": [
        "print(arr[idx[0][0], idx[1][0]])\n",
        "print(new_arr[idx[0][0], idx[1][0]])"
      ],
      "execution_count": 8,
      "outputs": [
        {
          "output_type": "stream",
          "text": [
            "-5.15\n",
            "99.0\n"
          ],
          "name": "stdout"
        }
      ]
    },
    {
      "cell_type": "markdown",
      "metadata": {
        "id": "THdYvAMeQ4a6",
        "colab_type": "text"
      },
      "source": [
        "***Latent Features***"
      ]
    },
    {
      "cell_type": "code",
      "metadata": {
        "id": "ShefdGaEQm0S",
        "colab_type": "code",
        "outputId": "c3f1ab14-f750-46a9-84a7-73adf21bbb5f",
        "colab": {
          "base_uri": "https://localhost:8080/",
          "height": 1000
        }
      },
      "source": [
        "n_latent_factors = 2\n",
        "\n",
        "user_ratings = df.values\n",
        "print(user_ratings)\n",
        "# Initialise as random values\n",
        "latent_user_preferences = np.random.random((user_ratings.shape[0], n_latent_factors))\n",
        "print(latent_user_preferences)\n",
        "latent_item_features = np.random.random((user_ratings.shape[1], n_latent_factors))\n",
        "print(latent_item_features)"
      ],
      "execution_count": 14,
      "outputs": [
        {
          "output_type": "stream",
          "text": [
            "[[ 74.    -7.82   8.79 ...  99.    99.    99.  ]\n",
            " [100.     4.08  -0.29 ...   0.34  -4.32   1.07]\n",
            " [ 49.    99.    99.   ...  99.    99.    99.  ]\n",
            " ...\n",
            " [ 39.    99.    99.   ...  99.    99.    99.  ]\n",
            " [ 37.    99.    99.   ...  99.    99.    99.  ]\n",
            " [ 72.     2.43   2.67 ...  99.    99.    99.  ]]\n",
            "[[0.17224661 0.69313175]\n",
            " [0.81178282 0.96171663]\n",
            " [0.98065772 0.84857411]\n",
            " ...\n",
            " [0.48154553 0.02695586]\n",
            " [0.36342848 0.2042099 ]\n",
            " [0.59706714 0.5998587 ]]\n",
            "[[3.74931194e-01 8.28122873e-01]\n",
            " [8.30965864e-01 5.07334437e-01]\n",
            " [5.51802209e-01 6.84033809e-01]\n",
            " [4.30283550e-01 8.33202331e-01]\n",
            " [9.15047580e-01 5.66481360e-01]\n",
            " [8.41398132e-02 7.34965893e-01]\n",
            " [6.04146625e-01 4.63716593e-01]\n",
            " [4.71627676e-01 3.28147384e-01]\n",
            " [6.78659024e-01 1.32542494e-01]\n",
            " [8.69792171e-01 6.73925564e-02]\n",
            " [9.86056259e-01 2.74370282e-01]\n",
            " [6.09661941e-01 2.97882251e-01]\n",
            " [1.99525576e-01 9.58213359e-01]\n",
            " [7.94633151e-01 5.11570784e-01]\n",
            " [1.35271424e-01 9.75215402e-02]\n",
            " [6.97129613e-01 1.60507653e-01]\n",
            " [6.62584099e-01 8.42711487e-01]\n",
            " [8.57088093e-01 8.95607981e-01]\n",
            " [7.19703929e-01 3.51699952e-01]\n",
            " [5.23471398e-01 1.77821823e-01]\n",
            " [7.50706534e-02 3.10603836e-01]\n",
            " [9.54799292e-01 2.16857651e-01]\n",
            " [9.03976293e-01 5.23676281e-01]\n",
            " [8.54444365e-01 6.36695032e-01]\n",
            " [8.61149034e-01 4.27246315e-04]\n",
            " [4.47866796e-01 5.21608783e-02]\n",
            " [4.75312704e-01 7.31296253e-01]\n",
            " [9.97677576e-01 5.34711569e-01]\n",
            " [8.80849604e-01 5.83434292e-01]\n",
            " [2.19780777e-02 9.62657470e-01]\n",
            " [8.05677720e-02 6.78524307e-01]\n",
            " [6.79927537e-01 1.29681574e-01]\n",
            " [6.74778303e-01 2.02151152e-02]\n",
            " [4.06372485e-01 4.30180969e-01]\n",
            " [3.72197837e-01 5.50671690e-01]\n",
            " [3.20324404e-01 7.61633224e-01]\n",
            " [6.24033959e-02 5.39147873e-03]\n",
            " [9.56472042e-01 6.60125919e-01]\n",
            " [3.97379089e-01 6.76592808e-01]\n",
            " [4.08693043e-01 3.60914235e-01]\n",
            " [3.84031880e-01 4.57099493e-01]\n",
            " [5.23769643e-01 1.05899337e-01]\n",
            " [1.66078746e-01 7.97686752e-01]\n",
            " [7.79076946e-01 1.64912991e-01]\n",
            " [6.43506347e-01 6.24983133e-01]\n",
            " [1.23398417e-01 9.93678862e-01]\n",
            " [5.64004660e-01 3.38549763e-01]\n",
            " [5.11497802e-02 2.33504393e-01]\n",
            " [4.19597558e-01 1.89860631e-01]\n",
            " [8.66587830e-01 5.44282808e-01]\n",
            " [8.43296436e-01 6.50048797e-02]\n",
            " [8.08102418e-01 4.14281730e-01]\n",
            " [5.45790427e-01 2.07885346e-01]\n",
            " [5.27695559e-01 3.27599945e-02]\n",
            " [5.19515858e-01 5.89495186e-01]\n",
            " [3.32124259e-01 2.98884895e-01]\n",
            " [2.91235095e-01 5.50893767e-01]\n",
            " [7.48794758e-01 9.66599649e-01]\n",
            " [2.66282167e-01 4.20106730e-02]\n",
            " [6.03131812e-01 5.17640791e-01]\n",
            " [8.51521393e-01 8.63081288e-01]\n",
            " [4.32981636e-02 1.69041566e-01]\n",
            " [6.79774265e-01 3.48939078e-01]\n",
            " [5.38712776e-01 5.34421472e-01]\n",
            " [5.95828230e-01 5.02192121e-01]\n",
            " [9.77233745e-01 3.03119557e-01]\n",
            " [7.90456697e-01 6.95427453e-01]\n",
            " [8.60141290e-01 7.87324778e-01]\n",
            " [4.64558303e-01 7.58589367e-02]\n",
            " [4.14441307e-01 7.76794802e-02]\n",
            " [5.97236986e-01 3.72811092e-01]\n",
            " [2.91989253e-01 1.12317667e-01]\n",
            " [2.23580552e-01 9.25307574e-01]\n",
            " [6.61279462e-01 7.83239704e-01]\n",
            " [9.88088332e-01 3.38096056e-02]\n",
            " [2.14071285e-01 5.07593896e-01]\n",
            " [4.40095862e-01 9.45067014e-01]\n",
            " [7.53268392e-01 3.04065609e-01]\n",
            " [5.25053916e-01 7.87626373e-02]\n",
            " [1.77374104e-01 6.20743724e-01]\n",
            " [4.15863006e-01 9.66721730e-01]\n",
            " [8.17851755e-01 9.36986359e-01]\n",
            " [6.91091568e-01 4.36914632e-01]\n",
            " [1.60441980e-01 9.81542292e-01]\n",
            " [8.38348554e-01 2.82704029e-01]\n",
            " [5.13071594e-01 3.35771174e-01]\n",
            " [1.13202475e-01 3.16216558e-01]\n",
            " [1.82414387e-01 4.25418607e-01]\n",
            " [8.17189151e-01 8.04270212e-01]\n",
            " [3.58304533e-01 2.45349412e-01]\n",
            " [9.68363733e-02 4.53377544e-01]\n",
            " [6.42188514e-01 7.37077089e-01]\n",
            " [4.61208717e-02 1.96714588e-01]\n",
            " [2.43910844e-01 2.71714834e-01]\n",
            " [2.42282856e-02 6.16486321e-01]\n",
            " [8.26683544e-01 4.42768896e-01]\n",
            " [1.53009040e-01 5.82139841e-01]\n",
            " [7.39247431e-01 7.09590140e-01]\n",
            " [4.84440073e-01 8.00122430e-02]\n",
            " [3.08255848e-01 1.35274642e-01]\n",
            " [8.67034815e-02 1.54296528e-01]]\n"
          ],
          "name": "stdout"
        }
      ]
    },
    {
      "cell_type": "code",
      "metadata": {
        "id": "qrS8cHlhQuaD",
        "colab_type": "code",
        "colab": {}
      },
      "source": [
        "def predict_rating(user_id, item_id):\n",
        "    \"\"\" Predict a rating given a user_id and an item_id.\n",
        "    \"\"\"\n",
        "    user_preference = latent_user_preferences[user_id]\n",
        "    item_preference = latent_item_features[item_id]\n",
        "    return user_preference.dot(item_preference)\n",
        "\n",
        "\n",
        "def train(user_id, item_id, rating, alpha=0.0001):\n",
        "    \n",
        "    #print item_id\n",
        "    prediction_rating = predict_rating(user_id, item_id)\n",
        "    err =  prediction_rating - rating\n",
        "    #print err\n",
        "    user_pref_values = latent_user_preferences[user_id][:]\n",
        "    latent_user_preferences[user_id] -= alpha * err * latent_item_features[item_id]\n",
        "    latent_item_features[item_id] -= alpha * err * user_pref_values\n",
        "    return err\n",
        "    \n",
        "\n",
        "def sgd(iterations=300000):\n",
        "    \"\"\" Iterate over all users and all items and train for \n",
        "        a certain number of iterations\n",
        "    \"\"\"\n",
        "    for iteration in range(iterations):\n",
        "        error = []\n",
        "        for user_id in range(latent_user_preferences.shape[0]):\n",
        "            for item_id in range(latent_item_features.shape[0]):\n",
        "                rating = user_ratings[user_id][item_id]\n",
        "                if not np.isnan(rating):\n",
        "                    err = train(user_id, item_id, rating)\n",
        "                    error.append(err)\n",
        "        mse = (np.array(error) ** 2).mean()   \n",
        "        if (iteration % 10000) == 0:\n",
        "            print(mse)"
      ],
      "execution_count": 0,
      "outputs": []
    },
    {
      "cell_type": "code",
      "metadata": {
        "id": "HWlq1dbERAwz",
        "colab_type": "code",
        "outputId": "2d6f8c4f-2fef-47b6-f40c-921eb27235d9",
        "colab": {
          "base_uri": "https://localhost:8080/",
          "height": 435
        }
      },
      "source": [
        "#sgd()\n",
        "#sgd(100)\n",
        "#sgd(20) \n",
        "'''814.0265993739114\n",
        "/usr/local/lib/python3.6/dist-packages/ipykernel_launcher.py:17: RuntimeWarning: overflow encountered in multiply\n",
        "/usr/local/lib/python3.6/dist-packages/ipykernel_launcher.py:16: RuntimeWarning: overflow encountered in multiply\n",
        "  app.launch_new_instance()\n",
        "/usr/local/lib/python3.6/dist-packages/ipykernel_launcher.py:16: RuntimeWarning: invalid value encountered in subtract\n",
        "  app.launch_new_instance()\n",
        "/usr/local/lib/python3.6/dist-packages/ipykernel_launcher.py:33: RuntimeWarning: overflow encountered in square'''\n",
        "#sgd(15)\n",
        "'''nan'''\n",
        "sgd(30)"
      ],
      "execution_count": 17,
      "outputs": [
        {
          "output_type": "stream",
          "text": [
            "813.7954278290322\n"
          ],
          "name": "stdout"
        },
        {
          "output_type": "stream",
          "text": [
            "/usr/local/lib/python3.6/dist-packages/ipykernel_launcher.py:17: RuntimeWarning: overflow encountered in multiply\n",
            "/usr/local/lib/python3.6/dist-packages/ipykernel_launcher.py:16: RuntimeWarning: overflow encountered in multiply\n",
            "  app.launch_new_instance()\n",
            "/usr/local/lib/python3.6/dist-packages/ipykernel_launcher.py:16: RuntimeWarning: invalid value encountered in subtract\n",
            "  app.launch_new_instance()\n",
            "/usr/local/lib/python3.6/dist-packages/ipykernel_launcher.py:33: RuntimeWarning: overflow encountered in square\n"
          ],
          "name": "stderr"
        },
        {
          "output_type": "error",
          "ename": "KeyboardInterrupt",
          "evalue": "ignored",
          "traceback": [
            "\u001b[0;31m---------------------------------------------------------------------------\u001b[0m",
            "\u001b[0;31mKeyboardInterrupt\u001b[0m                         Traceback (most recent call last)",
            "\u001b[0;32m<ipython-input-17-1db369e4d3bf>\u001b[0m in \u001b[0;36m<module>\u001b[0;34m()\u001b[0m\n\u001b[1;32m      8\u001b[0m \u001b[0;31m#sgd(15)\u001b[0m\u001b[0;34m\u001b[0m\u001b[0;34m\u001b[0m\u001b[0;34m\u001b[0m\u001b[0m\n\u001b[1;32m      9\u001b[0m \u001b[0;34m'''nan'''\u001b[0m\u001b[0;34m\u001b[0m\u001b[0;34m\u001b[0m\u001b[0m\n\u001b[0;32m---> 10\u001b[0;31m \u001b[0msgd\u001b[0m\u001b[0;34m(\u001b[0m\u001b[0;36m30\u001b[0m\u001b[0;34m)\u001b[0m\u001b[0;34m\u001b[0m\u001b[0;34m\u001b[0m\u001b[0m\n\u001b[0m",
            "\u001b[0;32m<ipython-input-15-bfc68363e164>\u001b[0m in \u001b[0;36msgd\u001b[0;34m(iterations)\u001b[0m\n\u001b[1;32m     28\u001b[0m             \u001b[0;32mfor\u001b[0m \u001b[0mitem_id\u001b[0m \u001b[0;32min\u001b[0m \u001b[0mrange\u001b[0m\u001b[0;34m(\u001b[0m\u001b[0mlatent_item_features\u001b[0m\u001b[0;34m.\u001b[0m\u001b[0mshape\u001b[0m\u001b[0;34m[\u001b[0m\u001b[0;36m0\u001b[0m\u001b[0;34m]\u001b[0m\u001b[0;34m)\u001b[0m\u001b[0;34m:\u001b[0m\u001b[0;34m\u001b[0m\u001b[0;34m\u001b[0m\u001b[0m\n\u001b[1;32m     29\u001b[0m                 \u001b[0mrating\u001b[0m \u001b[0;34m=\u001b[0m \u001b[0muser_ratings\u001b[0m\u001b[0;34m[\u001b[0m\u001b[0muser_id\u001b[0m\u001b[0;34m]\u001b[0m\u001b[0;34m[\u001b[0m\u001b[0mitem_id\u001b[0m\u001b[0;34m]\u001b[0m\u001b[0;34m\u001b[0m\u001b[0;34m\u001b[0m\u001b[0m\n\u001b[0;32m---> 30\u001b[0;31m                 \u001b[0;32mif\u001b[0m \u001b[0;32mnot\u001b[0m \u001b[0mnp\u001b[0m\u001b[0;34m.\u001b[0m\u001b[0misnan\u001b[0m\u001b[0;34m(\u001b[0m\u001b[0mrating\u001b[0m\u001b[0;34m)\u001b[0m\u001b[0;34m:\u001b[0m\u001b[0;34m\u001b[0m\u001b[0;34m\u001b[0m\u001b[0m\n\u001b[0m\u001b[1;32m     31\u001b[0m                     \u001b[0merr\u001b[0m \u001b[0;34m=\u001b[0m \u001b[0mtrain\u001b[0m\u001b[0;34m(\u001b[0m\u001b[0muser_id\u001b[0m\u001b[0;34m,\u001b[0m \u001b[0mitem_id\u001b[0m\u001b[0;34m,\u001b[0m \u001b[0mrating\u001b[0m\u001b[0;34m)\u001b[0m\u001b[0;34m\u001b[0m\u001b[0;34m\u001b[0m\u001b[0m\n\u001b[1;32m     32\u001b[0m                     \u001b[0merror\u001b[0m\u001b[0;34m.\u001b[0m\u001b[0mappend\u001b[0m\u001b[0;34m(\u001b[0m\u001b[0merr\u001b[0m\u001b[0;34m)\u001b[0m\u001b[0;34m\u001b[0m\u001b[0;34m\u001b[0m\u001b[0m\n",
            "\u001b[0;31mKeyboardInterrupt\u001b[0m: "
          ]
        }
      ]
    },
    {
      "cell_type": "code",
      "metadata": {
        "id": "soAMZsXv-nyZ",
        "colab_type": "code",
        "colab": {}
      },
      "source": [
        "pred = latent_user_preferences.dot(latent_item_features.T)\n",
        "print(pred)"
      ],
      "execution_count": 0,
      "outputs": []
    },
    {
      "cell_type": "code",
      "metadata": {
        "id": "yPFNXDgl-0Ub",
        "colab_type": "code",
        "colab": {}
      },
      "source": [
        "values = [zip(user_ratings[i], pred[i]) for i in range(pred.shape[0])]\n",
        "comparison_data = pd.DataFrame(values)\n",
        "comparison_data.columns = df.columns"
      ],
      "execution_count": 0,
      "outputs": []
    },
    {
      "cell_type": "code",
      "metadata": {
        "id": "0dgv_yFD_C3C",
        "colab_type": "code",
        "colab": {}
      },
      "source": [
        "# the first number is the orginal value from the jester-ata-1.csv dataset, \n",
        "# the second number is the predicted value\n",
        "print(comparison_data)"
      ],
      "execution_count": 0,
      "outputs": []
    },
    {
      "cell_type": "code",
      "metadata": {
        "id": "BIuJjjZl_cDv",
        "colab_type": "code",
        "colab": {}
      },
      "source": [
        "#Calculate the performance (e.g., MSE) of the algorithm on the validation dataset\n",
        "error=(pred[idx[0][:],idx[1][:]]-arr[idx[0][:],idx[1][:]])**2\n",
        "mse = sum(error)/len(error)\n",
        "mse"
      ],
      "execution_count": 0,
      "outputs": []
    },
    {
      "cell_type": "markdown",
      "metadata": {
        "id": "cRTGgXjX_ykD",
        "colab_type": "text"
      },
      "source": [
        "Changing hyper-parameters (learning rate, number of iterations of SVD, number of latent factors)"
      ]
    },
    {
      "cell_type": "code",
      "metadata": {
        "id": "_xOY7j2Z_-hk",
        "colab_type": "code",
        "colab": {}
      },
      "source": [
        "n_latent_factors2 = 3\n",
        "\n",
        "user_ratings = df.values\n",
        "user_ratings\n",
        "# Initialise as random values\n",
        "latent_user_preferences2 = np.random.random((user_ratings.shape[0], n_latent_factors2))\n",
        "latent_item_features2 = np.random.random((user_ratings.shape[1], n_latent_factors2))"
      ],
      "execution_count": 0,
      "outputs": []
    },
    {
      "cell_type": "code",
      "metadata": {
        "id": "ikbu40TEAHq9",
        "colab_type": "code",
        "colab": {}
      },
      "source": [
        "def predict_rating2(user_id, item_id):\n",
        "    \"\"\" Predict a rating given a user_id and an item_id.\n",
        "    \"\"\"\n",
        "    user_preference2 = latent_user_preferences2[user_id]\n",
        "    item_preference2 = latent_item_features2[item_id]\n",
        "    return user_preference2.dot(item_preference2)\n",
        "\n",
        "\n",
        "def train2(user_id, item_id, rating, alpha=0.001):\n",
        "    \n",
        "    #print item_id\n",
        "    prediction_rating2 = predict_rating2(user_id, item_id)\n",
        "    err =  prediction_rating2 - rating\n",
        "    #print err\n",
        "    user_pref_values2 = latent_user_preferences2[user_id][:]\n",
        "    latent_user_preferences2[user_id] -= alpha * err * latent_item_features2[item_id]\n",
        "    latent_item_features2[item_id] -= alpha * err * user_pref_values2\n",
        "    return err\n",
        "    \n",
        "\n",
        "def sgd2(iterations=30000):\n",
        "    \"\"\" Iterate over all users and all items and train for \n",
        "        a certain number of iterations\n",
        "    \"\"\"\n",
        "    for iteration in range(iterations):\n",
        "        error = []\n",
        "        for user_id in range(latent_user_preferences2.shape[0]):\n",
        "            for item_id in range(latent_item_features2.shape[0]):\n",
        "                rating = user_ratings[user_id][item_id]\n",
        "                if (rating!=99):\n",
        "                    err = train2(user_id, item_id, rating)\n",
        "                    error.append(err)\n",
        "        mse = (np.array(error) ** 2).mean()   \n",
        "        if (iteration % 1) == 0:\n",
        "            print(mse)"
      ],
      "execution_count": 0,
      "outputs": []
    },
    {
      "cell_type": "code",
      "metadata": {
        "id": "epjDoH20AQSs",
        "colab_type": "code",
        "colab": {}
      },
      "source": [
        "sgd2(30)"
      ],
      "execution_count": 0,
      "outputs": []
    },
    {
      "cell_type": "code",
      "metadata": {
        "id": "JGPNPOJnAX5w",
        "colab_type": "code",
        "colab": {}
      },
      "source": [
        "pred2 = latent_user_preferences2.dot(latent_item_features2.T)\n",
        "pred2"
      ],
      "execution_count": 0,
      "outputs": []
    },
    {
      "cell_type": "code",
      "metadata": {
        "id": "D9RERgZMAcnq",
        "colab_type": "code",
        "colab": {}
      },
      "source": [
        "values2 = [zip(user_ratings[i], pred2[i]) for i in range(pred2.shape[0])]\n",
        "comparison_data2 = pd.DataFrame(values2)\n",
        "comparison_data2.columns = df.columns"
      ],
      "execution_count": 0,
      "outputs": []
    },
    {
      "cell_type": "code",
      "metadata": {
        "id": "AuyEwsxvAjsl",
        "colab_type": "code",
        "colab": {}
      },
      "source": [
        "comparison_data2"
      ],
      "execution_count": 0,
      "outputs": []
    },
    {
      "cell_type": "code",
      "metadata": {
        "id": "ZQU9UpuZAmoj",
        "colab_type": "code",
        "colab": {}
      },
      "source": [
        "error2=(pred2[idx[0][:],idx[1][:]]-arr[idx[0][:],idx[1][:]])**2\n",
        "mse2 = sum(error2)/len(error2)\n",
        "mse2"
      ],
      "execution_count": 0,
      "outputs": []
    }
  ]
}